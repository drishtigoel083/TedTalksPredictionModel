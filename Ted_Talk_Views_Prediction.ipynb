{
  "nbformat": 4,
  "nbformat_minor": 0,
  "metadata": {
    "colab": {
      "provenance": [],
      "collapsed_sections": [
        "vncDsAP0Gaoa",
        "FJNUwmbgGyua",
        "w6K7xa23Elo4",
        "yQaldy8SH6Dl",
        "mDgbUHAGgjLW",
        "O_i_v8NEhb9l",
        "HhfV-JJviCcP",
        "Y3lxredqlCYt",
        "3RnN4peoiCZX",
        "x71ZqKXriCWQ",
        "7hBIi_osiCS2",
        "JlHwYmJAmNHm",
        "35m5QtbWiB9F",
        "PoPl-ycgm1ru",
        "H0kj-8xxnORC",
        "nA9Y7ga8ng1Z",
        "PBTbrJXOngz2",
        "u3PMJOP6ngxN",
        "dauF4eBmngu3",
        "bKJF3rekwFvQ",
        "MSa1f5Uengrz",
        "GF8Ens_Soomf",
        "0wOQAZs5pc--",
        "K5QZ13OEpz2H",
        "lQ7QKXXCp7Bj",
        "448CDAPjqfQr",
        "KSlN3yHqYklG",
        "t6dVpIINYklI",
        "ijmpgYnKYklI",
        "-JiQyfWJYklI",
        "EM7whBJCYoAo",
        "fge-S5ZAYoAp",
        "85gYPyotYoAp",
        "RoGjAbkUYoAp",
        "4Of9eVA-YrdM",
        "iky9q4vBYrdO",
        "F6T5p64dYrdO",
        "y-Ehk30pYrdP",
        "bamQiAODYuh1",
        "QHF8YVU7Yuh3",
        "GwzvFGzlYuh3",
        "qYpmQ266Yuh3",
        "OH-pJp9IphqM",
        "bbFf2-_FphqN",
        "_ouA3fa0phqN",
        "Seke61FWphqN",
        "PIIx-8_IphqN",
        "t27r6nlMphqO",
        "r2jJGEOYphqO",
        "b0JNsNcRphqO",
        "BZR9WyysphqO",
        "jj7wYXLtphqO",
        "eZrbJ2SmphqO",
        "rFu4xreNphqO",
        "YJ55k-q6phqO",
        "gCFgpxoyphqP",
        "OVtJsKN_phqQ",
        "lssrdh5qphqQ",
        "U2RJ9gkRphqQ",
        "1M8mcRywphqQ",
        "tgIPom80phqQ",
        "JMzcOPDDphqR",
        "x-EpHcCOp1ci",
        "X_VqEhTip1ck",
        "8zGJKyg5p1ck",
        "PVzmfK_Ep1ck",
        "n3dbpmDWp1ck",
        "ylSl6qgtp1ck",
        "ZWILFDl5p1ck",
        "M7G43BXep1ck",
        "Ag9LCva-p1cl",
        "E6MkPsBcp1cl",
        "2cELzS2fp1cl",
        "3MPXvC8up1cl",
        "NC_X3p0fY2L0",
        "UV0SzAkaZNRQ",
        "YPEH6qLeZNRQ",
        "q29F0dvdveiT",
        "EXh0U9oCveiU",
        "22aHeOlLveiV",
        "g-ATYxFrGrvw",
        "Yfr_Vlr8HBkt",
        "8yEUt7NnHlrM",
        "tEA2Xm5dHt1r",
        "I79__PHVH19G",
        "Ou-I18pAyIpj",
        "fF3858GYyt-u",
        "4_0_7-oCpUZd",
        "hwyV_J3ipUZe",
        "3yB-zSqbpUZe",
        "dEUvejAfpUZe",
        "Fd15vwWVpUZf",
        "bn_IUdTipZyH",
        "49K5P_iCpZyH",
        "Nff-vKELpZyI",
        "kLW572S8pZyI",
        "dWbDXHzopZyI",
        "yLjJCtPM0KBk",
        "xiyOF9F70UgQ",
        "7wuGOrhz0itI",
        "id1riN9m0vUs",
        "578E2V7j08f6",
        "89xtkJwZ18nB",
        "67NQN5KX2AMe",
        "Iwf50b-R2tYG",
        "GMQiZwjn3iu7",
        "WVIkgGqN3qsr",
        "XkPnILGE3zoT",
        "Hlsf0x5436Go",
        "mT9DMSJo4nBL",
        "c49ITxTc407N",
        "OeJFEK0N496M",
        "9ExmJH0g5HBk",
        "cJNqERVU536h",
        "k5UmGsbsOxih",
        "T0VqWOYE6DLQ",
        "qBMux9mC6MCf",
        "-oLEiFgy-5Pf",
        "C74aWNz2AliB",
        "2DejudWSA-a0",
        "pEMng2IbBLp7",
        "rAdphbQ9Bhjc",
        "TNVZ9zx19K6k",
        "nqoHp30x9hH9",
        "rMDnDkt2B6du",
        "yiiVWRdJDDil",
        "1UUpS68QDMuG",
        "kexQrXU-DjzY",
        "T5CmagL3EC8N",
        "BhH2vgX9EjGr",
        "qjKvONjwE8ra",
        "P1XJ9OREExlT",
        "VFOzZv6IFROw",
        "TIqpNgepFxVj",
        "VfCC591jGiD4",
        "OB4l2ZhMeS1U",
        "ArJBuiUVfxKd",
        "4qY1EAkEfxKe",
        "PiV4Ypx8fxKe",
        "TfvqoZmBfxKf",
        "dJ2tPlVmpsJ0",
        "JWYfwnehpsJ1",
        "-jK_YjpMpsJ2",
        "HAih1iBOpsJ2",
        "zVGeBEFhpsJ2",
        "bmKjuQ-FpsJ3",
        "Fze-IPXLpx6K",
        "7AN1z2sKpx6M",
        "9PIHJqyupx6M",
        "_-qAgymDpx6N",
        "Z-hykwinpx6N",
        "h_CCil-SKHpo",
        "cBFFvTBNJzUa",
        "HvGl1hHyA_VK",
        "EyNgTHvd2WFk",
        "KH5McJBi2d8v",
        "iW_Lq9qf2h6X",
        "-Kee-DAl2viO",
        "gCX9965dhzqZ",
        "gIfDvo9L0UH2"
      ],
      "include_colab_link": true
    },
    "kernelspec": {
      "name": "python3",
      "display_name": "Python 3"
    },
    "language_info": {
      "name": "python"
    }
  },
  "cells": [
    {
      "cell_type": "markdown",
      "metadata": {
        "id": "view-in-github",
        "colab_type": "text"
      },
      "source": [
        "<a href=\"https://colab.research.google.com/github/drishtigoel083/TedTalksPredictionModel/blob/main/Ted_Talk_Views_Prediction.ipynb\" target=\"_parent\"><img src=\"https://colab.research.google.com/assets/colab-badge.svg\" alt=\"Open In Colab\"/></a>"
      ]
    },
    {
      "cell_type": "markdown",
      "source": [
        "# **Project Name**    -  Ted Talk Views Predication\n",
        "\n"
      ],
      "metadata": {
        "id": "vncDsAP0Gaoa"
      }
    },
    {
      "cell_type": "markdown",
      "source": [
        "##### **Project Type**    - Regression\n",
        "##### **Contribution**    - Individual\n",
        "##### **Name -**            Drishti Goel\n"
      ],
      "metadata": {
        "id": "beRrZCGUAJYm"
      }
    },
    {
      "cell_type": "markdown",
      "source": [
        "# **Project Summary -**"
      ],
      "metadata": {
        "id": "FJNUwmbgGyua"
      }
    },
    {
      "cell_type": "markdown",
      "source": [
        "**Project Title:**\n",
        "\n",
        "TED Talks Views Prediction Using Machine Learning\n",
        "\n",
        "\n",
        "---\n",
        "\n",
        "\n",
        "\n",
        " **Project Summary:**\n",
        "\n",
        "This project aims to build a machine learning model that predicts the number of views a TED Talk will receive based on its metadata and content features. By analyzing the patterns in past TED Talks—such as title, description, speaker's occupation, duration, tags, and number of comments—the model will learn to estimate how popular a talk might become. The insights generated can help TED content curators, marketers, or content creators understand what factors contribute to higher viewer engagement.\n",
        "\n",
        "\n",
        "---\n",
        "\n",
        " **Objectives:**\n",
        "\n",
        "Analyze and preprocess the TED Talks dataset.\n",
        "\n",
        "Explore correlations between features (e.g., title length, number of tags, duration) and views.\n",
        "\n",
        "Train regression models to predict the number of views.\n",
        "\n",
        "Evaluate model performance using appropriate metrics (MAE, RMSE, R²).\n",
        "\n",
        "Identify key features influencing TED Talk popularity.\n",
        "\n",
        "\n",
        "---\n",
        "\n",
        "\n",
        "**Dataset Overview:**\n",
        "\n",
        "The dataset typically includes:\n",
        "\n",
        "title, description, tags, views, duration, comments, speaker_occupation, published_date, event, etc.\n",
        "\n",
        "---\n",
        "\n",
        "**Technologies & Tools**:\n",
        "\n",
        "Language: Python\n",
        "\n",
        "Libraries: pandas, NumPy, matplotlib/seaborn, scikit-learn, XGBoost/LightGBM\n",
        "\n",
        "Colab for prototyping\n",
        "\n",
        "---\n",
        "\n",
        "**Model Approaches:**\n",
        "\n",
        "Linear Regression\n",
        "\n",
        "Random Forest Regressor\n",
        "\n",
        "Gradient Boosting (e.g., XGBoost)"
      ],
      "metadata": {
        "id": "F6v_1wHtG2nS"
      }
    },
    {
      "cell_type": "markdown",
      "source": [
        "# **GitHub Link -**"
      ],
      "metadata": {
        "id": "w6K7xa23Elo4"
      }
    },
    {
      "cell_type": "markdown",
      "source": [
        "https://github.com/drishtigoel083/TedTalksPredictionModel"
      ],
      "metadata": {
        "id": "h1o69JH3Eqqn"
      }
    },
    {
      "cell_type": "markdown",
      "source": [
        "# **Problem Statement**\n"
      ],
      "metadata": {
        "id": "yQaldy8SH6Dl"
      }
    },
    {
      "cell_type": "markdown",
      "source": [
        "Despite TED Talks covering a wide range of inspiring and educational topics, not all talks receive equal attention or views. Understanding what makes some talks go viral while others remain unnoticed is crucial for content creators and strategists. The goal of this project is to develop a predictive model that can estimate the number of views a TED Talk will receive based on various features such as its title, description, tags, duration, speaker's occupation, number of comments, and other metadata.\n",
        "\n",
        "By leveraging machine learning techniques, this project aims to uncover patterns in TED Talks data and accurately forecast viewership. Such a model can provide valuable insights into the factors that drive audience engagement and help optimize future content for broader reach."
      ],
      "metadata": {
        "id": "DpeJGUA3kjGy"
      }
    },
    {
      "cell_type": "markdown",
      "source": [
        "## ***1. Know Your Data***"
      ],
      "metadata": {
        "id": "HhfV-JJviCcP"
      }
    },
    {
      "cell_type": "markdown",
      "source": [
        "### Import Libraries"
      ],
      "metadata": {
        "id": "Y3lxredqlCYt"
      }
    },
    {
      "cell_type": "code",
      "source": [
        "# Import Libraries\n",
        "import numpy as np\n",
        "import pandas as pd\n",
        "import matplotlib.pyplot as plt\n",
        "import seaborn as sns\n",
        "%matplotlib inline\n",
        "from sklearn.linear_model import Lasso, Ridge\n",
        "from sklearn.linear_model import LinearRegression\n",
        "from sklearn.tree import DecisionTreeRegressor\n",
        "from sklearn.metrics import r2_score, mean_squared_error,mean_absolute_error,mean_absolute_percentage_error\n",
        "import math\n",
        "from sklearn.ensemble import AdaBoostRegressor\n",
        "from sklearn.ensemble import GradientBoostingRegressor\n",
        "from sklearn.ensemble import RandomForestRegressor\n",
        "from sklearn.preprocessing import StandardScaler\n",
        "from sklearn.neighbors import KNeighborsRegressor\n",
        "from sklearn.ensemble import VotingRegressor\n",
        "from xgboost import XGBRegressor\n",
        "from sklearn.model_selection import GridSearchCV\n",
        "from sklearn.preprocessing import PolynomialFeatures"
      ],
      "metadata": {
        "id": "M8Vqi-pPk-HR"
      },
      "execution_count": 107,
      "outputs": []
    },
    {
      "cell_type": "markdown",
      "source": [
        "### Dataset Loading"
      ],
      "metadata": {
        "id": "3RnN4peoiCZX"
      }
    },
    {
      "cell_type": "code",
      "source": [
        "from google.colab import drive\n",
        "drive.mount('/content/drive')"
      ],
      "metadata": {
        "id": "sFjgZZq5nRy-",
        "colab": {
          "base_uri": "https://localhost:8080/"
        },
        "outputId": "3d417430-d384-49c2-d234-00b256e48299"
      },
      "execution_count": 3,
      "outputs": [
        {
          "output_type": "stream",
          "name": "stdout",
          "text": [
            "Mounted at /content/drive\n"
          ]
        }
      ]
    },
    {
      "cell_type": "code",
      "source": [
        "# Load Dataset\n",
        "df = pd.read_csv(\"/content/drive/MyDrive/Datasets/Copy of data_ted_talks.csv\")"
      ],
      "metadata": {
        "id": "KYqAQF_CxLai"
      },
      "execution_count": 4,
      "outputs": []
    },
    {
      "cell_type": "markdown",
      "source": [
        "### Dataset First View"
      ],
      "metadata": {
        "id": "x71ZqKXriCWQ"
      }
    },
    {
      "cell_type": "code",
      "source": [
        "# Dataset First Look\n",
        "df.head(3)"
      ],
      "metadata": {
        "id": "LWNFOSvLl09H"
      },
      "execution_count": null,
      "outputs": []
    },
    {
      "cell_type": "markdown",
      "source": [
        "### Dataset Rows & Columns count"
      ],
      "metadata": {
        "id": "7hBIi_osiCS2"
      }
    },
    {
      "cell_type": "code",
      "source": [
        "# Dataset Rows & Columns count\n",
        "df.shape"
      ],
      "metadata": {
        "id": "Kllu7SJgmLij"
      },
      "execution_count": null,
      "outputs": []
    },
    {
      "cell_type": "markdown",
      "source": [
        "### Dataset Information"
      ],
      "metadata": {
        "id": "JlHwYmJAmNHm"
      }
    },
    {
      "cell_type": "code",
      "source": [
        "# Dataset Info\n",
        "df.info()"
      ],
      "metadata": {
        "id": "e9hRXRi6meOf"
      },
      "execution_count": null,
      "outputs": []
    },
    {
      "cell_type": "markdown",
      "source": [
        "#### Duplicate Values"
      ],
      "metadata": {
        "id": "35m5QtbWiB9F"
      }
    },
    {
      "cell_type": "code",
      "source": [
        "# Dataset Duplicate Value Count\n",
        "print(df.duplicated().sum())"
      ],
      "metadata": {
        "id": "1sLdpKYkmox0"
      },
      "execution_count": null,
      "outputs": []
    },
    {
      "cell_type": "markdown",
      "source": [
        "The dataset doesn't contain any duplicate rows."
      ],
      "metadata": {
        "id": "GoMMd_eB2QwL"
      }
    },
    {
      "cell_type": "markdown",
      "source": [
        "#### Missing Values/Null Values"
      ],
      "metadata": {
        "id": "PoPl-ycgm1ru"
      }
    },
    {
      "cell_type": "code",
      "source": [
        "# Missing Values/Null Values Count\n",
        "missing_values = df.isnull().sum()\n",
        "print(missing_values)"
      ],
      "metadata": {
        "id": "GgHWkxvamxVg",
        "colab": {
          "base_uri": "https://localhost:8080/"
        },
        "outputId": "f90b3ff9-a5a4-4f42-9015-8bad6c2c0c6a"
      },
      "execution_count": null,
      "outputs": [
        {
          "output_type": "stream",
          "name": "stdout",
          "text": [
            "talk_id             0\n",
            "title               0\n",
            "speaker_1           0\n",
            "all_speakers        4\n",
            "occupations       522\n",
            "about_speakers    503\n",
            "views               0\n",
            "recorded_date       1\n",
            "published_date      0\n",
            "event               0\n",
            "native_lang         0\n",
            "available_lang      0\n",
            "comments          655\n",
            "duration            0\n",
            "topics              0\n",
            "related_talks       0\n",
            "description         0\n",
            "transcript          0\n",
            "dtype: int64\n"
          ]
        }
      ]
    },
    {
      "cell_type": "code",
      "source": [
        "# Visualizing the missing values\n",
        "plt.figure(figsize=(14, 8))  # Bigger figure for better clarity\n",
        "sns.heatmap(df.isnull(),\n",
        "            cmap='viridis',\n",
        "            cbar=False,\n",
        "            yticklabels=False,\n",
        "            linewidths=0.5,\n",
        "            linecolor='gray')\n",
        "plt.title(\"Improved Missing Values Heatmap\")\n",
        "plt.xlabel(\"Columns\")\n",
        "plt.ylabel(\"Data Points\")\n",
        "plt.show()\n"
      ],
      "metadata": {
        "id": "3q5wnI3om9sJ",
        "collapsed": true
      },
      "execution_count": null,
      "outputs": []
    },
    {
      "cell_type": "markdown",
      "source": [
        "### What did you know about your dataset?"
      ],
      "metadata": {
        "id": "H0kj-8xxnORC"
      }
    },
    {
      "cell_type": "markdown",
      "source": [
        "\n",
        "The dataset contains information about TED Talks, including metadata like title, description, speaker, views, comments, duration, tags, event, and more.\n",
        "\n",
        "\n",
        "Columns like occupations, available_lang, and comments have missing values.\n",
        "\n",
        "Most other columns are complete (no missing data).\n",
        "\n",
        "duration, tags, title, description, speaker_occupation, and comments could be useful for predicting views.\n",
        "\n",
        "\n",
        "The dataset includes text (title, description), numeric (views, duration, comments), categorical (occupation, event), and datetime (recorded/published dates).\n",
        "\n",
        "Duplicates:\n",
        "\n",
        "Duplicate rows may be present and should be handled before modeling.\n"
      ],
      "metadata": {
        "id": "gfoNAAC-nUe_"
      }
    },
    {
      "cell_type": "markdown",
      "source": [
        "## ***2. Understanding Your Variables***"
      ],
      "metadata": {
        "id": "nA9Y7ga8ng1Z"
      }
    },
    {
      "cell_type": "code",
      "source": [
        "# Dataset Columns\n",
        "df.columns"
      ],
      "metadata": {
        "id": "j7xfkqrt5Ag5"
      },
      "execution_count": null,
      "outputs": []
    },
    {
      "cell_type": "code",
      "source": [
        "# Dataset Describe\n",
        "df.describe()"
      ],
      "metadata": {
        "id": "DnOaZdaE5Q5t",
        "colab": {
          "base_uri": "https://localhost:8080/",
          "height": 300
        },
        "outputId": "d5a06750-4e7a-41af-8fde-2e2482e8bc0b"
      },
      "execution_count": null,
      "outputs": [
        {
          "output_type": "execute_result",
          "data": {
            "text/plain": [
              "            talk_id         views     comments     duration\n",
              "count   4005.000000  4.005000e+03  3350.000000  4005.000000\n",
              "mean   12432.538327  2.148006e+06   161.997015   724.011236\n",
              "std    17447.576262  3.451226e+06   268.838922   361.775462\n",
              "min        1.000000  0.000000e+00     0.000000    60.000000\n",
              "25%     1252.000000  8.820690e+05    38.000000   393.000000\n",
              "50%     2333.000000  1.375508e+06    89.000000   738.000000\n",
              "75%    23777.000000  2.133110e+06   188.000000   974.000000\n",
              "max    62794.000000  6.505195e+07  6449.000000  3922.000000"
            ],
            "text/html": [
              "\n",
              "  <div id=\"df-23ffa986-bd77-441c-8650-41dba702e16a\" class=\"colab-df-container\">\n",
              "    <div>\n",
              "<style scoped>\n",
              "    .dataframe tbody tr th:only-of-type {\n",
              "        vertical-align: middle;\n",
              "    }\n",
              "\n",
              "    .dataframe tbody tr th {\n",
              "        vertical-align: top;\n",
              "    }\n",
              "\n",
              "    .dataframe thead th {\n",
              "        text-align: right;\n",
              "    }\n",
              "</style>\n",
              "<table border=\"1\" class=\"dataframe\">\n",
              "  <thead>\n",
              "    <tr style=\"text-align: right;\">\n",
              "      <th></th>\n",
              "      <th>talk_id</th>\n",
              "      <th>views</th>\n",
              "      <th>comments</th>\n",
              "      <th>duration</th>\n",
              "    </tr>\n",
              "  </thead>\n",
              "  <tbody>\n",
              "    <tr>\n",
              "      <th>count</th>\n",
              "      <td>4005.000000</td>\n",
              "      <td>4.005000e+03</td>\n",
              "      <td>3350.000000</td>\n",
              "      <td>4005.000000</td>\n",
              "    </tr>\n",
              "    <tr>\n",
              "      <th>mean</th>\n",
              "      <td>12432.538327</td>\n",
              "      <td>2.148006e+06</td>\n",
              "      <td>161.997015</td>\n",
              "      <td>724.011236</td>\n",
              "    </tr>\n",
              "    <tr>\n",
              "      <th>std</th>\n",
              "      <td>17447.576262</td>\n",
              "      <td>3.451226e+06</td>\n",
              "      <td>268.838922</td>\n",
              "      <td>361.775462</td>\n",
              "    </tr>\n",
              "    <tr>\n",
              "      <th>min</th>\n",
              "      <td>1.000000</td>\n",
              "      <td>0.000000e+00</td>\n",
              "      <td>0.000000</td>\n",
              "      <td>60.000000</td>\n",
              "    </tr>\n",
              "    <tr>\n",
              "      <th>25%</th>\n",
              "      <td>1252.000000</td>\n",
              "      <td>8.820690e+05</td>\n",
              "      <td>38.000000</td>\n",
              "      <td>393.000000</td>\n",
              "    </tr>\n",
              "    <tr>\n",
              "      <th>50%</th>\n",
              "      <td>2333.000000</td>\n",
              "      <td>1.375508e+06</td>\n",
              "      <td>89.000000</td>\n",
              "      <td>738.000000</td>\n",
              "    </tr>\n",
              "    <tr>\n",
              "      <th>75%</th>\n",
              "      <td>23777.000000</td>\n",
              "      <td>2.133110e+06</td>\n",
              "      <td>188.000000</td>\n",
              "      <td>974.000000</td>\n",
              "    </tr>\n",
              "    <tr>\n",
              "      <th>max</th>\n",
              "      <td>62794.000000</td>\n",
              "      <td>6.505195e+07</td>\n",
              "      <td>6449.000000</td>\n",
              "      <td>3922.000000</td>\n",
              "    </tr>\n",
              "  </tbody>\n",
              "</table>\n",
              "</div>\n",
              "    <div class=\"colab-df-buttons\">\n",
              "\n",
              "  <div class=\"colab-df-container\">\n",
              "    <button class=\"colab-df-convert\" onclick=\"convertToInteractive('df-23ffa986-bd77-441c-8650-41dba702e16a')\"\n",
              "            title=\"Convert this dataframe to an interactive table.\"\n",
              "            style=\"display:none;\">\n",
              "\n",
              "  <svg xmlns=\"http://www.w3.org/2000/svg\" height=\"24px\" viewBox=\"0 -960 960 960\">\n",
              "    <path d=\"M120-120v-720h720v720H120Zm60-500h600v-160H180v160Zm220 220h160v-160H400v160Zm0 220h160v-160H400v160ZM180-400h160v-160H180v160Zm440 0h160v-160H620v160ZM180-180h160v-160H180v160Zm440 0h160v-160H620v160Z\"/>\n",
              "  </svg>\n",
              "    </button>\n",
              "\n",
              "  <style>\n",
              "    .colab-df-container {\n",
              "      display:flex;\n",
              "      gap: 12px;\n",
              "    }\n",
              "\n",
              "    .colab-df-convert {\n",
              "      background-color: #E8F0FE;\n",
              "      border: none;\n",
              "      border-radius: 50%;\n",
              "      cursor: pointer;\n",
              "      display: none;\n",
              "      fill: #1967D2;\n",
              "      height: 32px;\n",
              "      padding: 0 0 0 0;\n",
              "      width: 32px;\n",
              "    }\n",
              "\n",
              "    .colab-df-convert:hover {\n",
              "      background-color: #E2EBFA;\n",
              "      box-shadow: 0px 1px 2px rgba(60, 64, 67, 0.3), 0px 1px 3px 1px rgba(60, 64, 67, 0.15);\n",
              "      fill: #174EA6;\n",
              "    }\n",
              "\n",
              "    .colab-df-buttons div {\n",
              "      margin-bottom: 4px;\n",
              "    }\n",
              "\n",
              "    [theme=dark] .colab-df-convert {\n",
              "      background-color: #3B4455;\n",
              "      fill: #D2E3FC;\n",
              "    }\n",
              "\n",
              "    [theme=dark] .colab-df-convert:hover {\n",
              "      background-color: #434B5C;\n",
              "      box-shadow: 0px 1px 3px 1px rgba(0, 0, 0, 0.15);\n",
              "      filter: drop-shadow(0px 1px 2px rgba(0, 0, 0, 0.3));\n",
              "      fill: #FFFFFF;\n",
              "    }\n",
              "  </style>\n",
              "\n",
              "    <script>\n",
              "      const buttonEl =\n",
              "        document.querySelector('#df-23ffa986-bd77-441c-8650-41dba702e16a button.colab-df-convert');\n",
              "      buttonEl.style.display =\n",
              "        google.colab.kernel.accessAllowed ? 'block' : 'none';\n",
              "\n",
              "      async function convertToInteractive(key) {\n",
              "        const element = document.querySelector('#df-23ffa986-bd77-441c-8650-41dba702e16a');\n",
              "        const dataTable =\n",
              "          await google.colab.kernel.invokeFunction('convertToInteractive',\n",
              "                                                    [key], {});\n",
              "        if (!dataTable) return;\n",
              "\n",
              "        const docLinkHtml = 'Like what you see? Visit the ' +\n",
              "          '<a target=\"_blank\" href=https://colab.research.google.com/notebooks/data_table.ipynb>data table notebook</a>'\n",
              "          + ' to learn more about interactive tables.';\n",
              "        element.innerHTML = '';\n",
              "        dataTable['output_type'] = 'display_data';\n",
              "        await google.colab.output.renderOutput(dataTable, element);\n",
              "        const docLink = document.createElement('div');\n",
              "        docLink.innerHTML = docLinkHtml;\n",
              "        element.appendChild(docLink);\n",
              "      }\n",
              "    </script>\n",
              "  </div>\n",
              "\n",
              "\n",
              "    <div id=\"df-e412d1da-8d2a-4e2f-9b69-0e3cafdc0356\">\n",
              "      <button class=\"colab-df-quickchart\" onclick=\"quickchart('df-e412d1da-8d2a-4e2f-9b69-0e3cafdc0356')\"\n",
              "                title=\"Suggest charts\"\n",
              "                style=\"display:none;\">\n",
              "\n",
              "<svg xmlns=\"http://www.w3.org/2000/svg\" height=\"24px\"viewBox=\"0 0 24 24\"\n",
              "     width=\"24px\">\n",
              "    <g>\n",
              "        <path d=\"M19 3H5c-1.1 0-2 .9-2 2v14c0 1.1.9 2 2 2h14c1.1 0 2-.9 2-2V5c0-1.1-.9-2-2-2zM9 17H7v-7h2v7zm4 0h-2V7h2v10zm4 0h-2v-4h2v4z\"/>\n",
              "    </g>\n",
              "</svg>\n",
              "      </button>\n",
              "\n",
              "<style>\n",
              "  .colab-df-quickchart {\n",
              "      --bg-color: #E8F0FE;\n",
              "      --fill-color: #1967D2;\n",
              "      --hover-bg-color: #E2EBFA;\n",
              "      --hover-fill-color: #174EA6;\n",
              "      --disabled-fill-color: #AAA;\n",
              "      --disabled-bg-color: #DDD;\n",
              "  }\n",
              "\n",
              "  [theme=dark] .colab-df-quickchart {\n",
              "      --bg-color: #3B4455;\n",
              "      --fill-color: #D2E3FC;\n",
              "      --hover-bg-color: #434B5C;\n",
              "      --hover-fill-color: #FFFFFF;\n",
              "      --disabled-bg-color: #3B4455;\n",
              "      --disabled-fill-color: #666;\n",
              "  }\n",
              "\n",
              "  .colab-df-quickchart {\n",
              "    background-color: var(--bg-color);\n",
              "    border: none;\n",
              "    border-radius: 50%;\n",
              "    cursor: pointer;\n",
              "    display: none;\n",
              "    fill: var(--fill-color);\n",
              "    height: 32px;\n",
              "    padding: 0;\n",
              "    width: 32px;\n",
              "  }\n",
              "\n",
              "  .colab-df-quickchart:hover {\n",
              "    background-color: var(--hover-bg-color);\n",
              "    box-shadow: 0 1px 2px rgba(60, 64, 67, 0.3), 0 1px 3px 1px rgba(60, 64, 67, 0.15);\n",
              "    fill: var(--button-hover-fill-color);\n",
              "  }\n",
              "\n",
              "  .colab-df-quickchart-complete:disabled,\n",
              "  .colab-df-quickchart-complete:disabled:hover {\n",
              "    background-color: var(--disabled-bg-color);\n",
              "    fill: var(--disabled-fill-color);\n",
              "    box-shadow: none;\n",
              "  }\n",
              "\n",
              "  .colab-df-spinner {\n",
              "    border: 2px solid var(--fill-color);\n",
              "    border-color: transparent;\n",
              "    border-bottom-color: var(--fill-color);\n",
              "    animation:\n",
              "      spin 1s steps(1) infinite;\n",
              "  }\n",
              "\n",
              "  @keyframes spin {\n",
              "    0% {\n",
              "      border-color: transparent;\n",
              "      border-bottom-color: var(--fill-color);\n",
              "      border-left-color: var(--fill-color);\n",
              "    }\n",
              "    20% {\n",
              "      border-color: transparent;\n",
              "      border-left-color: var(--fill-color);\n",
              "      border-top-color: var(--fill-color);\n",
              "    }\n",
              "    30% {\n",
              "      border-color: transparent;\n",
              "      border-left-color: var(--fill-color);\n",
              "      border-top-color: var(--fill-color);\n",
              "      border-right-color: var(--fill-color);\n",
              "    }\n",
              "    40% {\n",
              "      border-color: transparent;\n",
              "      border-right-color: var(--fill-color);\n",
              "      border-top-color: var(--fill-color);\n",
              "    }\n",
              "    60% {\n",
              "      border-color: transparent;\n",
              "      border-right-color: var(--fill-color);\n",
              "    }\n",
              "    80% {\n",
              "      border-color: transparent;\n",
              "      border-right-color: var(--fill-color);\n",
              "      border-bottom-color: var(--fill-color);\n",
              "    }\n",
              "    90% {\n",
              "      border-color: transparent;\n",
              "      border-bottom-color: var(--fill-color);\n",
              "    }\n",
              "  }\n",
              "</style>\n",
              "\n",
              "      <script>\n",
              "        async function quickchart(key) {\n",
              "          const quickchartButtonEl =\n",
              "            document.querySelector('#' + key + ' button');\n",
              "          quickchartButtonEl.disabled = true;  // To prevent multiple clicks.\n",
              "          quickchartButtonEl.classList.add('colab-df-spinner');\n",
              "          try {\n",
              "            const charts = await google.colab.kernel.invokeFunction(\n",
              "                'suggestCharts', [key], {});\n",
              "          } catch (error) {\n",
              "            console.error('Error during call to suggestCharts:', error);\n",
              "          }\n",
              "          quickchartButtonEl.classList.remove('colab-df-spinner');\n",
              "          quickchartButtonEl.classList.add('colab-df-quickchart-complete');\n",
              "        }\n",
              "        (() => {\n",
              "          let quickchartButtonEl =\n",
              "            document.querySelector('#df-e412d1da-8d2a-4e2f-9b69-0e3cafdc0356 button');\n",
              "          quickchartButtonEl.style.display =\n",
              "            google.colab.kernel.accessAllowed ? 'block' : 'none';\n",
              "        })();\n",
              "      </script>\n",
              "    </div>\n",
              "\n",
              "    </div>\n",
              "  </div>\n"
            ],
            "application/vnd.google.colaboratory.intrinsic+json": {
              "type": "dataframe",
              "summary": "{\n  \"name\": \"df\",\n  \"rows\": 8,\n  \"fields\": [\n    {\n      \"column\": \"talk_id\",\n      \"properties\": {\n        \"dtype\": \"number\",\n        \"std\": 20932.41756805879,\n        \"min\": 1.0,\n        \"max\": 62794.0,\n        \"num_unique_values\": 8,\n        \"samples\": [\n          12432.538327091135,\n          2333.0,\n          4005.0\n        ],\n        \"semantic_type\": \"\",\n        \"description\": \"\"\n      }\n    },\n    {\n      \"column\": \"views\",\n      \"properties\": {\n        \"dtype\": \"number\",\n        \"std\": 22524641.707642525,\n        \"min\": 0.0,\n        \"max\": 65051954.0,\n        \"num_unique_values\": 8,\n        \"samples\": [\n          2148005.5737827714,\n          1375508.0,\n          4005.0\n        ],\n        \"semantic_type\": \"\",\n        \"description\": \"\"\n      }\n    },\n    {\n      \"column\": \"comments\",\n      \"properties\": {\n        \"dtype\": \"number\",\n        \"std\": 2362.085391628029,\n        \"min\": 0.0,\n        \"max\": 6449.0,\n        \"num_unique_values\": 8,\n        \"samples\": [\n          161.99701492537312,\n          89.0,\n          3350.0\n        ],\n        \"semantic_type\": \"\",\n        \"description\": \"\"\n      }\n    },\n    {\n      \"column\": \"duration\",\n      \"properties\": {\n        \"dtype\": \"number\",\n        \"std\": 1608.4903002653587,\n        \"min\": 60.0,\n        \"max\": 4005.0,\n        \"num_unique_values\": 8,\n        \"samples\": [\n          724.0112359550562,\n          738.0,\n          4005.0\n        ],\n        \"semantic_type\": \"\",\n        \"description\": \"\"\n      }\n    }\n  ]\n}"
            }
          },
          "metadata": {},
          "execution_count": 4
        }
      ]
    },
    {
      "cell_type": "markdown",
      "source": [
        "### Variables Description"
      ],
      "metadata": {
        "id": "PBTbrJXOngz2"
      }
    },
    {
      "cell_type": "markdown",
      "source": [
        "talk_id: Unique identifier for each TED Talk.\n",
        "\n",
        "title:\tTitle of the TED Talk.\n",
        "\n",
        "speaker_1:\tName of the primary speaker giving the talk.\n",
        "\n",
        "all_speakers: Names of all speakers involved in the talk (can include co-speakers).\n",
        "\n",
        "occupations:\tOccupation or background of the speaker(s) (e.g., scientist, artist).\n",
        "\n",
        "about_speakers:\tA brief bio or description about the speaker(s).\n",
        "\n",
        "views:\tTotal number of views the talk has received. (Target variable)\n",
        "\n",
        "recorded_date:\tDate when the talk was recorded.\n",
        "\n",
        "published_date:\tDate when the talk was published online (e.g., on TED.com or YouTube).\n",
        "\n",
        "event:\tThe event at which the TED Talk was delivered.\n",
        "\n",
        "native_lang:\tOriginal language in which the talk was given.\n",
        "\n",
        "available_lang:\tLanguages in which subtitles are available.\n",
        "\n",
        "comments:\tNumber of comments received on the talk (on TED platform).\n",
        "\n",
        "duration:\tLength of the talk in seconds.\n",
        "\n",
        "topics:\tList of topics or themes covered in the talk.\n",
        "\n",
        "related_talks:\tList of other TED Talks related to this one.\n",
        "\n",
        "url:\tURL link to the talk page.\n",
        "\n",
        "description:\tShort summary or description of the talk.\n",
        "\n",
        "transcript:\tFull transcript of the TED Talk (text format)."
      ],
      "metadata": {
        "id": "aJV4KIxSnxay"
      }
    },
    {
      "cell_type": "markdown",
      "source": [
        "### Check Unique Values for each variable."
      ],
      "metadata": {
        "id": "u3PMJOP6ngxN"
      }
    },
    {
      "cell_type": "code",
      "source": [
        "# Check Unique Values for each variable.\n",
        "unique_counts = df.nunique().sort_values(ascending=False)\n",
        "print(unique_counts)\n"
      ],
      "metadata": {
        "id": "zms12Yq5n-jE",
        "colab": {
          "base_uri": "https://localhost:8080/"
        },
        "outputId": "c05733b8-79f7-43b2-a755-53cb10692d77"
      },
      "execution_count": null,
      "outputs": [
        {
          "output_type": "stream",
          "name": "stdout",
          "text": [
            "talk_id           4005\n",
            "title             4005\n",
            "related_talks     4005\n",
            "description       4005\n",
            "url               4005\n",
            "transcript        4005\n",
            "views             3996\n",
            "topics            3977\n",
            "available_lang    3902\n",
            "all_speakers      3306\n",
            "speaker_1         3274\n",
            "about_speakers    2977\n",
            "published_date    2962\n",
            "occupations       2049\n",
            "recorded_date     1334\n",
            "duration          1188\n",
            "comments           601\n",
            "event              459\n",
            "native_lang         12\n",
            "dtype: int64\n"
          ]
        }
      ]
    },
    {
      "cell_type": "code",
      "source": [
        "#visualising unique values\n",
        "\n",
        "plt.figure(figsize=(14, 6))\n",
        "sns.barplot(x=unique_counts.index, y=unique_counts.values, palette='hls')\n",
        "\n",
        "plt.title('Unique Values per Column')\n",
        "plt.ylabel('Number of Unique Values')\n",
        "plt.xlabel('Columns')\n",
        "plt.xticks(rotation=45, ha='right')\n",
        "plt.tight_layout()\n",
        "plt.show()"
      ],
      "metadata": {
        "id": "sUn5oTq0AZm0",
        "colab": {
          "base_uri": "https://localhost:8080/",
          "height": 642
        },
        "outputId": "2c5a3bb4-7598-45ee-c850-f5494ce53d42"
      },
      "execution_count": null,
      "outputs": [
        {
          "output_type": "stream",
          "name": "stderr",
          "text": [
            "/tmp/ipython-input-7-1694939379.py:4: FutureWarning: \n",
            "\n",
            "Passing `palette` without assigning `hue` is deprecated and will be removed in v0.14.0. Assign the `x` variable to `hue` and set `legend=False` for the same effect.\n",
            "\n",
            "  sns.barplot(x=unique_counts.index, y=unique_counts.values, palette='hls')\n"
          ]
        },
        {
          "output_type": "display_data",
          "data": {
            "text/plain": [
              "<Figure size 1400x600 with 1 Axes>"
            ],
            "image/png": "[encoded data removed]"
          },
          "metadata": {}
        }
      ]
    },
    {
      "cell_type": "markdown",
      "source": [
        "## 3. ***Data Wrangling***"
      ],
      "metadata": {
        "id": "dauF4eBmngu3"
      }
    },
    {
      "cell_type": "markdown",
      "source": [
        "### Data Wrangling Code"
      ],
      "metadata": {
        "id": "bKJF3rekwFvQ"
      }
    },
    {
      "cell_type": "code",
      "source": [
        "# Fill missing comments with 0 (assuming missing means no comments)\n",
        "df['comments'] = df['comments'].fillna(0)"
      ],
      "metadata": {
        "id": "wk-9a2fpoLcV"
      },
      "execution_count": 28,
      "outputs": []
    },
    {
      "cell_type": "code",
      "source": [
        "#Filling occupations with mode\n",
        "df['occupations'] = df['occupations'].fillna(df['occupations'].mode()[0])"
      ],
      "metadata": {
        "id": "W9Wvhbnq9c61"
      },
      "execution_count": 27,
      "outputs": []
    },
    {
      "cell_type": "code",
      "source": [
        "df['recorded_date'] = pd.to_datetime(df['recorded_date'], errors='coerce')\n",
        "df['published_date'] = pd.to_datetime(df['published_date'], errors='coerce')"
      ],
      "metadata": {
        "id": "iI2tILHZ6_tj"
      },
      "execution_count": null,
      "outputs": []
    },
    {
      "cell_type": "code",
      "source": [
        "#dropping the url column\n",
        "df=df.drop(columns=['url'])"
      ],
      "metadata": {
        "id": "ZFgnInu3507l"
      },
      "execution_count": 23,
      "outputs": []
    },
    {
      "cell_type": "code",
      "source": [
        "#dropping about_speakers because it’s unused in modeling\n",
        "df.drop(columns=['about_speakers'], inplace=True)"
      ],
      "metadata": {
        "collapsed": true,
        "id": "0nFpxrXf691W"
      },
      "execution_count": 24,
      "outputs": []
    },
    {
      "cell_type": "code",
      "source": [
        "#Dropping description column\n",
        "df.drop(columns=['description'], inplace=True)"
      ],
      "metadata": {
        "id": "-9uTBua2_f9r"
      },
      "execution_count": 25,
      "outputs": []
    },
    {
      "cell_type": "code",
      "source": [
        "#Dropping transcription column\n",
        "df.drop(columns=['transcript'], inplace=True)"
      ],
      "metadata": {
        "id": "9MGkOScF_r7D"
      },
      "execution_count": 26,
      "outputs": []
    },
    {
      "cell_type": "code",
      "source": [
        "#Checking if Null values are handled properly\n",
        "print(df[['comments', 'occupations']].isnull().sum())"
      ],
      "metadata": {
        "colab": {
          "base_uri": "https://localhost:8080/"
        },
        "id": "1BmAjPO6-OCR",
        "outputId": "3fcd3311-cefd-415c-e05b-ce7f0a48f15e"
      },
      "execution_count": 29,
      "outputs": [
        {
          "output_type": "stream",
          "name": "stdout",
          "text": [
            "comments       0\n",
            "occupations    0\n",
            "dtype: int64\n"
          ]
        }
      ]
    },
    {
      "cell_type": "markdown",
      "source": [
        "### What all manipulations have you done and insights you found?"
      ],
      "metadata": {
        "id": "MSa1f5Uengrz"
      }
    },
    {
      "cell_type": "markdown",
      "source": [
        "**Data Manipulations Performed:**\n",
        "\n",
        "Handling Missing Values:\n",
        "\n",
        "* Filled comments with 0, assuming missing means no comments were posted.\n",
        "\n",
        "* Filled missing occupations with the most frequent value (mode), preserving meaningful speaker data.\n",
        "\n",
        "Datetime Conversion:\n",
        "\n",
        "* Converted recorded_date and published_date columns into proper datetime format using pd.to_datetime() with errors='coerce', ensuring invalid or missing dates are handled as NaT.\n",
        "\n",
        "Column Removal:\n",
        "\n",
        "* url: Dropped, as it is a hyperlink and not useful for prediction.\n",
        "\n",
        "* bout_speakers: Dropped, likely due to high null values or irrelevance in modeling.\n",
        "\n",
        "* escription: Dropped, possibly to simplify text processing or due to redundancy with title.\n",
        "\n",
        "* transcript: Dropped, likely due to its large size or complexity for basic modeling.\n",
        "\n",
        "**Insights Gained from These Steps:**\n",
        "\n",
        "The dataset is now cleaner and more consistent.\n",
        "\n",
        "The dataset is more efficient for modeling as unused or bulky text fields like transcript and description have been removed, reducing memory load.\n",
        "\n",
        "Categorical and numeric fields are ready for encoding and scaling.\n"
      ],
      "metadata": {
        "id": "LbyXE7I1olp8"
      }
    },
    {
      "cell_type": "markdown",
      "source": [
        "## ***4. Data Vizualization, Storytelling & Experimenting with charts : Understand the relationships between variables***"
      ],
      "metadata": {
        "id": "GF8Ens_Soomf"
      }
    },
    {
      "cell_type": "markdown",
      "source": [
        "#### Chart - 1"
      ],
      "metadata": {
        "id": "0wOQAZs5pc--"
      }
    },
    {
      "cell_type": "code",
      "source": [
        "# Chart - 1 visualization code\n",
        "# Distribution plot of views\n",
        "plt.figure(figsize=(10,5))\n",
        "sns.histplot(df['views'], bins=50, kde=True)\n",
        "plt.title(\"Distribution of TED Talk Views\")\n",
        "plt.xlabel(\"Views\")\n",
        "plt.ylabel(\"Frequency\")\n",
        "plt.show()\n",
        "\n",
        "# Check for skew\n",
        "df['views'].skew()"
      ],
      "metadata": {
        "id": "7v_ESjsspbW7",
        "colab": {
          "base_uri": "https://localhost:8080/",
          "height": 504
        },
        "outputId": "ad4150d9-13de-441b-f9db-a6f2941b3951"
      },
      "execution_count": null,
      "outputs": [
        {
          "output_type": "display_data",
          "data": {
            "text/plain": [
              "<Figure size 1000x500 with 1 Axes>"
            ],
            "image/png": "[encoded data removed]"
          },
          "metadata": {}
        },
        {
          "output_type": "execute_result",
          "data": {
            "text/plain": [
              "np.float64(8.185743853972696)"
            ]
          },
          "metadata": {},
          "execution_count": 29
        }
      ]
    },
    {
      "cell_type": "markdown",
      "source": [
        "#####  What is/are the insight(s) found from the chart?"
      ],
      "metadata": {
        "id": "lQ7QKXXCp7Bj"
      }
    },
    {
      "cell_type": "markdown",
      "source": [
        "The distribution is heavily right-skewed (a few talks have very high views, but most have low views).\n",
        "\n",
        "Most TED Talks have fewer than 10 million views, as seen by the tall bars near 0.\n",
        "\n",
        "The long tail on the right suggests a small number of talks that have gone viral.\n",
        "\n"
      ],
      "metadata": {
        "id": "C_j1G7yiqdRP"
      }
    },
    {
      "cell_type": "markdown",
      "source": [
        "#### Chart - 2"
      ],
      "metadata": {
        "id": "KSlN3yHqYklG"
      }
    },
    {
      "cell_type": "code",
      "source": [
        "# duration vs views\n",
        "sns.scatterplot(x='duration', y='views', data=df)\n",
        "plt.title(\"Duration vs Views\")\n",
        "plt.xlabel(\"Duration (seconds)\")\n",
        "plt.ylabel(\"Views\")\n",
        "plt.show()"
      ],
      "metadata": {
        "id": "R4YgtaqtYklH",
        "colab": {
          "base_uri": "https://localhost:8080/",
          "height": 472
        },
        "outputId": "b0798438-1af2-428e-a86f-89199ee0a9d8"
      },
      "execution_count": null,
      "outputs": [
        {
          "output_type": "display_data",
          "data": {
            "text/plain": [
              "<Figure size 640x480 with 1 Axes>"
            ],
            "image/png": "[encoded data removed]"
          },
          "metadata": {}
        }
      ]
    },
    {
      "cell_type": "markdown",
      "source": [
        "##### What is/are the insight(s) found from the chart?"
      ],
      "metadata": {
        "id": "ijmpgYnKYklI"
      }
    },
    {
      "cell_type": "markdown",
      "source": [
        "Most videos with high views are under 20 minutes in duration, with view counts decreasing as video length increases. Short to medium-length videos (5–20 minutes) tend to perform best in terms of viewership."
      ],
      "metadata": {
        "id": "PSx9atu2YklI"
      }
    },
    {
      "cell_type": "markdown",
      "source": [
        "#### Chart - 3"
      ],
      "metadata": {
        "id": "EM7whBJCYoAo"
      }
    },
    {
      "cell_type": "code",
      "source": [
        "# Chart - 3 visualization code\n",
        "sns.scatterplot(x='comments', y='views', data=df)\n",
        "plt.title(\"Comments vs Views\")\n",
        "plt.xlabel(\"Number of Comments\")\n",
        "plt.ylabel(\"Views\")\n",
        "plt.show()"
      ],
      "metadata": {
        "id": "t6GMdE67YoAp",
        "colab": {
          "base_uri": "https://localhost:8080/",
          "height": 472
        },
        "outputId": "fcdccddf-16ae-45eb-e0d9-06ff0af2c31b"
      },
      "execution_count": null,
      "outputs": [
        {
          "output_type": "display_data",
          "data": {
            "text/plain": [
              "<Figure size 640x480 with 1 Axes>"
            ],
            "image/png": "[encoded data removed]"
          },
          "metadata": {}
        }
      ]
    },
    {
      "cell_type": "markdown",
      "source": [
        "#####  What is/are the insight(s) found from the chart?"
      ],
      "metadata": {
        "id": "85gYPyotYoAp"
      }
    },
    {
      "cell_type": "markdown",
      "source": [
        "Most videos with high views have fewer than 1000 comments, showing that high engagement doesn’t always require a large number of comments. A few outliers with many comments also achieved very high views."
      ],
      "metadata": {
        "id": "4jstXR6OYoAp"
      }
    },
    {
      "cell_type": "markdown",
      "source": [
        "#### Chart - 4"
      ],
      "metadata": {
        "id": "4Of9eVA-YrdM"
      }
    },
    {
      "cell_type": "code",
      "source": [
        "# Chart - 4 visualization code\n",
        "df['recorded_date'] = pd.to_datetime(df['recorded_date'], errors='coerce')\n",
        "df['published_date'] = pd.to_datetime(df['published_date'], errors='coerce')\n",
        "df['recorded_year'] = df['recorded_date'].dt.year\n",
        "df['published_year'] = df['published_date'].dt.year"
      ],
      "metadata": {
        "id": "CLAQKdMgFTPB"
      },
      "execution_count": 7,
      "outputs": []
    },
    {
      "cell_type": "code",
      "source": [
        "# Chart - 4 visualization code\n",
        "sns.boxplot(x='published_year', y='views', data=df)\n",
        "plt.title(\"TED Talk Views by Published Year\")\n",
        "plt.xticks(rotation=45)\n",
        "plt.show()"
      ],
      "metadata": {
        "id": "irlUoxc8YrdO",
        "colab": {
          "base_uri": "https://localhost:8080/",
          "height": 493
        },
        "outputId": "764ebaba-2536-4c01-c2c2-157e1b156372"
      },
      "execution_count": 9,
      "outputs": [
        {
          "output_type": "display_data",
          "data": {
            "text/plain": [
              "<Figure size 640x480 with 1 Axes>"
            ],
            "image/png": "[encoded data removed]"
          },
          "metadata": {}
        }
      ]
    },
    {
      "cell_type": "markdown",
      "source": [
        "##### What is/are the insight(s) found from the chart?"
      ],
      "metadata": {
        "id": "F6T5p64dYrdO"
      }
    },
    {
      "cell_type": "markdown",
      "source": [
        "TED Talks published in all years show a wide range of views, but 2006–2013 talks include more high-view outliers. In general, earlier talks tend to have higher views, possibly due to longer time online and viral potential."
      ],
      "metadata": {
        "id": "Xx8WAJvtYrdO"
      }
    },
    {
      "cell_type": "markdown",
      "source": [
        "#### Chart - 5"
      ],
      "metadata": {
        "id": "bamQiAODYuh1"
      }
    },
    {
      "cell_type": "code",
      "source": [
        "# Chart - 5 visualization code\n",
        "top_events = df.groupby('event')['views'].mean().sort_values(ascending=False).head(10)\n",
        "\n",
        "plt.figure(figsize=(12,6))\n",
        "sns.barplot(x=top_events.values, y=top_events.index, palette=\"magma\")\n",
        "plt.title(\"Top 10 Events by Average Views\")\n",
        "plt.xlabel(\"Average Views\")\n",
        "plt.ylabel(\"Event\")\n",
        "plt.show()"
      ],
      "metadata": {
        "id": "TIJwrbroYuh3",
        "colab": {
          "base_uri": "https://localhost:8080/",
          "height": 651
        },
        "outputId": "e91c96b7-27b3-4857-b7ae-2836d4a1682f"
      },
      "execution_count": 10,
      "outputs": [
        {
          "output_type": "stream",
          "name": "stderr",
          "text": [
            "/tmp/ipython-input-10-1211228772.py:5: FutureWarning: \n",
            "\n",
            "Passing `palette` without assigning `hue` is deprecated and will be removed in v0.14.0. Assign the `y` variable to `hue` and set `legend=False` for the same effect.\n",
            "\n",
            "  sns.barplot(x=top_events.values, y=top_events.index, palette=\"magma\")\n"
          ]
        },
        {
          "output_type": "display_data",
          "data": {
            "text/plain": [
              "<Figure size 1200x600 with 1 Axes>"
            ],
            "image/png": "[encoded data removed]"
          },
          "metadata": {}
        }
      ]
    },
    {
      "cell_type": "markdown",
      "source": [
        "#####  What is/are the insight(s) found from the chart?"
      ],
      "metadata": {
        "id": "GwzvFGzlYuh3"
      }
    },
    {
      "cell_type": "markdown",
      "source": [
        "TEDxPuget Sound has the highest average views among all events, significantly outperforming others. Events like TEDxHull and TEDxHouston also rank high, indicating strong audience engagement with talks from these locations."
      ],
      "metadata": {
        "id": "uyqkiB8YYuh3"
      }
    },
    {
      "cell_type": "markdown",
      "source": [
        "#### Chart - 6"
      ],
      "metadata": {
        "id": "OH-pJp9IphqM"
      }
    },
    {
      "cell_type": "code",
      "source": [
        "# Chart - 6 visualization code\n",
        "top_occupations = df.groupby('occupations')['views'].mean().sort_values(ascending=False).head(10)\n",
        "\n",
        "plt.figure(figsize=(12,6))\n",
        "sns.barplot(x=top_occupations.values, y=top_occupations.index, palette=\"cool\")\n",
        "plt.title(\"Top 10 Occupations by Average Views\")\n",
        "plt.xlabel(\"Average Views\")\n",
        "plt.ylabel(\"Occupations\")\n",
        "plt.show()"
      ],
      "metadata": {
        "id": "kuRf4wtuphqN",
        "colab": {
          "base_uri": "https://localhost:8080/",
          "height": 630
        },
        "outputId": "93c4c243-993a-4d97-d276-2ece1a83aa27"
      },
      "execution_count": 11,
      "outputs": [
        {
          "output_type": "stream",
          "name": "stderr",
          "text": [
            "/tmp/ipython-input-11-3407987958.py:5: FutureWarning: \n",
            "\n",
            "Passing `palette` without assigning `hue` is deprecated and will be removed in v0.14.0. Assign the `y` variable to `hue` and set `legend=False` for the same effect.\n",
            "\n",
            "  sns.barplot(x=top_occupations.values, y=top_occupations.index, palette=\"cool\")\n"
          ]
        },
        {
          "output_type": "display_data",
          "data": {
            "text/plain": [
              "<Figure size 1200x600 with 1 Axes>"
            ],
            "image/png": "[encoded data removed]"
          },
          "metadata": {}
        }
      ]
    },
    {
      "cell_type": "markdown",
      "source": [
        "##### 2. What is/are the insight(s) found from the chart?"
      ],
      "metadata": {
        "id": "_ouA3fa0phqN"
      }
    },
    {
      "cell_type": "markdown",
      "source": [
        "The highest average views are linked to unique and niche occupations like psychiatrist/zen priest and vulnerability researcher. Creative or unconventional professions tend to attract more viewer interest on TED Talks"
      ],
      "metadata": {
        "id": "VECbqPI7phqN"
      }
    },
    {
      "cell_type": "markdown",
      "source": [
        "#### Chart - 7"
      ],
      "metadata": {
        "id": "PIIx-8_IphqN"
      }
    },
    {
      "cell_type": "code",
      "source": [
        "# Chart - 7 visualization code\n",
        "top_talks = df.sort_values(by='views', ascending=False).head(15)\n",
        "plt.figure(figsize=(12, 6))\n",
        "sns.barplot(x=top_talks['views'], y=top_talks['title'], palette=\"crest\")\n",
        "plt.title(\"Top 15 Most Viewed TED Talks\")\n",
        "plt.xlabel(\"Views\")\n",
        "plt.ylabel(\"TED Talk Title\")\n",
        "plt.show()"
      ],
      "metadata": {
        "id": "lqAIGUfyphqO",
        "colab": {
          "base_uri": "https://localhost:8080/",
          "height": 576
        },
        "outputId": "dc19cb95-28a3-409e-e026-ded6d2bd44a0"
      },
      "execution_count": 12,
      "outputs": [
        {
          "output_type": "stream",
          "name": "stderr",
          "text": [
            "/tmp/ipython-input-12-2190901442.py:4: FutureWarning: \n",
            "\n",
            "Passing `palette` without assigning `hue` is deprecated and will be removed in v0.14.0. Assign the `y` variable to `hue` and set `legend=False` for the same effect.\n",
            "\n",
            "  sns.barplot(x=top_talks['views'], y=top_talks['title'], palette=\"crest\")\n"
          ]
        },
        {
          "output_type": "display_data",
          "data": {
            "text/plain": [
              "<Figure size 1200x600 with 1 Axes>"
            ],
            "image/png": "[encoded data removed]"
          },
          "metadata": {}
        }
      ]
    },
    {
      "cell_type": "markdown",
      "source": [
        "##### 2. What is/are the insight(s) found from the chart?"
      ],
      "metadata": {
        "id": "r2jJGEOYphqO"
      }
    },
    {
      "cell_type": "markdown",
      "source": [
        "These are top 15 Most Viewed TED Talks"
      ],
      "metadata": {
        "id": "Po6ZPi4hphqO"
      }
    },
    {
      "cell_type": "markdown",
      "source": [
        "#### Chart - 8"
      ],
      "metadata": {
        "id": "BZR9WyysphqO"
      }
    },
    {
      "cell_type": "code",
      "source": [
        "# Chart - 8 visualization code\n",
        "top_langs = df.groupby('native_lang')['views'].mean().sort_values(ascending=False).head(10)\n",
        "\n",
        "plt.figure(figsize=(10, 6))\n",
        "sns.barplot(x=top_langs.values, y=top_langs.index, palette='rocket')\n",
        "plt.title(\"Top 10 Languages by Average Views\")\n",
        "plt.xlabel(\"Average Views\")\n",
        "plt.ylabel(\"Native Language\")\n",
        "plt.show()"
      ],
      "metadata": {
        "id": "TdPTWpAVphqO",
        "colab": {
          "base_uri": "https://localhost:8080/",
          "height": 651
        },
        "outputId": "f4a361cf-8501-47fc-a1ca-8d7b79532df8"
      },
      "execution_count": 13,
      "outputs": [
        {
          "output_type": "stream",
          "name": "stderr",
          "text": [
            "/tmp/ipython-input-13-421728737.py:5: FutureWarning: \n",
            "\n",
            "Passing `palette` without assigning `hue` is deprecated and will be removed in v0.14.0. Assign the `y` variable to `hue` and set `legend=False` for the same effect.\n",
            "\n",
            "  sns.barplot(x=top_langs.values, y=top_langs.index, palette='rocket')\n"
          ]
        },
        {
          "output_type": "display_data",
          "data": {
            "text/plain": [
              "<Figure size 1000x600 with 1 Axes>"
            ],
            "image/png": "[encoded data removed]"
          },
          "metadata": {}
        }
      ]
    },
    {
      "cell_type": "markdown",
      "source": [
        "#### Chart - 9"
      ],
      "metadata": {
        "id": "YJ55k-q6phqO"
      }
    },
    {
      "cell_type": "code",
      "source": [
        "# Chart - 9 visualization code\n",
        "plt.figure(figsize=(10, 5))\n",
        "sns.histplot(df['duration'], bins=50, kde=True, color='purple')\n",
        "plt.title(\"Distribution of TED Talk Duration\")\n",
        "plt.xlabel(\"Duration (seconds)\")\n",
        "plt.ylabel(\"Number of Talks\")\n",
        "plt.show()"
      ],
      "metadata": {
        "id": "B2aS4O1ophqO",
        "colab": {
          "base_uri": "https://localhost:8080/",
          "height": 487
        },
        "outputId": "76d29557-b02e-4ca8-f03b-ec5cf6ae7b50"
      },
      "execution_count": 14,
      "outputs": [
        {
          "output_type": "display_data",
          "data": {
            "text/plain": [
              "<Figure size 1000x500 with 1 Axes>"
            ],
            "image/png": "[encoded data removed]"
          },
          "metadata": {}
        }
      ]
    },
    {
      "cell_type": "markdown",
      "source": [
        "#####  What is/are the insight(s) found from the chart?"
      ],
      "metadata": {
        "id": "OVtJsKN_phqQ"
      }
    },
    {
      "cell_type": "markdown",
      "source": [
        "Most TED Talks have durations between 500 to 1000 seconds (8 to 17 minutes), with a sharp drop beyond 1200 seconds. The distribution is right-skewed, indicating that longer talks are much less common."
      ],
      "metadata": {
        "id": "ngGi97qjphqQ"
      }
    },
    {
      "cell_type": "markdown",
      "source": [
        "#### Chart - 10"
      ],
      "metadata": {
        "id": "U2RJ9gkRphqQ"
      }
    },
    {
      "cell_type": "code",
      "source": [
        "# Chart - 10 visualization code\n",
        "numeric_cols = ['views', 'comments', 'duration']\n",
        "\n",
        "# Compute correlation matrix\n",
        "corr_matrix = df[numeric_cols].corr()\n",
        "\n",
        "# Plot heatmap\n",
        "import seaborn as sns\n",
        "import matplotlib.pyplot as plt\n",
        "\n",
        "plt.figure(figsize=(6, 4))\n",
        "sns.heatmap(corr_matrix, annot=True, cmap='coolwarm', fmt=\".2f\")\n",
        "plt.title(\"Correlation Matrix (Numeric Features)\")\n",
        "plt.show()"
      ],
      "metadata": {
        "id": "GM7a4YP4phqQ",
        "colab": {
          "base_uri": "https://localhost:8080/",
          "height": 391
        },
        "outputId": "9a2c36a3-6e55-4046-ef97-e17c1a439bb9"
      },
      "execution_count": 15,
      "outputs": [
        {
          "output_type": "display_data",
          "data": {
            "text/plain": [
              "<Figure size 600x400 with 2 Axes>"
            ],
            "image/png": "[encoded data removed]"
          },
          "metadata": {}
        }
      ]
    },
    {
      "cell_type": "markdown",
      "source": [
        "# Chart 11"
      ],
      "metadata": {
        "id": "leTcMz5kD8C8"
      }
    },
    {
      "cell_type": "markdown",
      "source": [
        "Speakers of most popular TED Talks"
      ],
      "metadata": {
        "id": "x0cyoclJECZn"
      }
    },
    {
      "cell_type": "code",
      "source": [
        "pop_df = df.nlargest(5, ['views'])\n",
        "pop_df[['speaker_1', 'views', 'title']]\n",
        "\n",
        "plt.figure(figsize=(10,6))\n",
        "plt.title(\"Speakers of Most Popular TED Talks\")\n",
        "sns.barplot(x='speaker_1', y='views', data=pop_df, palette='tab10')\n",
        "plt.xticks(rotation=45)\n",
        "plt.show()"
      ],
      "metadata": {
        "colab": {
          "base_uri": "https://localhost:8080/",
          "height": 729
        },
        "id": "-p55AtaGpHcY",
        "outputId": "f5c82ebb-fdd7-401e-e8c5-a90e7d1277fb"
      },
      "execution_count": 20,
      "outputs": [
        {
          "output_type": "stream",
          "name": "stderr",
          "text": [
            "/tmp/ipython-input-20-3146615408.py:6: FutureWarning: \n",
            "\n",
            "Passing `palette` without assigning `hue` is deprecated and will be removed in v0.14.0. Assign the `x` variable to `hue` and set `legend=False` for the same effect.\n",
            "\n",
            "  sns.barplot(x='speaker_1', y='views', data=pop_df, palette='tab10')  # or remove palette param\n"
          ]
        },
        {
          "output_type": "display_data",
          "data": {
            "text/plain": [
              "<Figure size 1000x600 with 1 Axes>"
            ],
            "image/png": "[encoded data removed]"
          },
          "metadata": {}
        }
      ]
    },
    {
      "cell_type": "markdown",
      "source": [
        "## ***6. Feature Engineering & Data Pre-processing***"
      ],
      "metadata": {
        "id": "yLjJCtPM0KBk"
      }
    },
    {
      "cell_type": "markdown",
      "source": [
        "Feature Engineering is the process of creating new features or modifying existing ones in your dataset to help a machine learning model learn better patterns and make more accurate predictions.\n",
        "\n"
      ],
      "metadata": {
        "id": "R5sPEx5Gszl6"
      }
    },
    {
      "cell_type": "markdown",
      "source": [
        "### 1. Handling Missing Values"
      ],
      "metadata": {
        "id": "xiyOF9F70UgQ"
      }
    },
    {
      "cell_type": "code",
      "source": [
        "# Checking Null values\n",
        "df.isnull().sum()"
      ],
      "metadata": {
        "id": "iRsAHk1K0fpS",
        "colab": {
          "base_uri": "https://localhost:8080/",
          "height": 617
        },
        "outputId": "c3944915-1c67-4b5e-cc8b-9bbf1af488a5"
      },
      "execution_count": 30,
      "outputs": [
        {
          "output_type": "execute_result",
          "data": {
            "text/plain": [
              "talk_id           0\n",
              "title             0\n",
              "speaker_1         0\n",
              "all_speakers      4\n",
              "occupations       0\n",
              "views             0\n",
              "recorded_date     1\n",
              "published_date    0\n",
              "event             0\n",
              "native_lang       0\n",
              "available_lang    0\n",
              "comments          0\n",
              "duration          0\n",
              "topics            0\n",
              "related_talks     0\n",
              "recorded_year     1\n",
              "published_year    0\n",
              "dtype: int64"
            ],
            "text/html": [
              "<div>\n",
              "<style scoped>\n",
              "    .dataframe tbody tr th:only-of-type {\n",
              "        vertical-align: middle;\n",
              "    }\n",
              "\n",
              "    .dataframe tbody tr th {\n",
              "        vertical-align: top;\n",
              "    }\n",
              "\n",
              "    .dataframe thead th {\n",
              "        text-align: right;\n",
              "    }\n",
              "</style>\n",
              "<table border=\"1\" class=\"dataframe\">\n",
              "  <thead>\n",
              "    <tr style=\"text-align: right;\">\n",
              "      <th></th>\n",
              "      <th>0</th>\n",
              "    </tr>\n",
              "  </thead>\n",
              "  <tbody>\n",
              "    <tr>\n",
              "      <th>talk_id</th>\n",
              "      <td>0</td>\n",
              "    </tr>\n",
              "    <tr>\n",
              "      <th>title</th>\n",
              "      <td>0</td>\n",
              "    </tr>\n",
              "    <tr>\n",
              "      <th>speaker_1</th>\n",
              "      <td>0</td>\n",
              "    </tr>\n",
              "    <tr>\n",
              "      <th>all_speakers</th>\n",
              "      <td>4</td>\n",
              "    </tr>\n",
              "    <tr>\n",
              "      <th>occupations</th>\n",
              "      <td>0</td>\n",
              "    </tr>\n",
              "    <tr>\n",
              "      <th>views</th>\n",
              "      <td>0</td>\n",
              "    </tr>\n",
              "    <tr>\n",
              "      <th>recorded_date</th>\n",
              "      <td>1</td>\n",
              "    </tr>\n",
              "    <tr>\n",
              "      <th>published_date</th>\n",
              "      <td>0</td>\n",
              "    </tr>\n",
              "    <tr>\n",
              "      <th>event</th>\n",
              "      <td>0</td>\n",
              "    </tr>\n",
              "    <tr>\n",
              "      <th>native_lang</th>\n",
              "      <td>0</td>\n",
              "    </tr>\n",
              "    <tr>\n",
              "      <th>available_lang</th>\n",
              "      <td>0</td>\n",
              "    </tr>\n",
              "    <tr>\n",
              "      <th>comments</th>\n",
              "      <td>0</td>\n",
              "    </tr>\n",
              "    <tr>\n",
              "      <th>duration</th>\n",
              "      <td>0</td>\n",
              "    </tr>\n",
              "    <tr>\n",
              "      <th>topics</th>\n",
              "      <td>0</td>\n",
              "    </tr>\n",
              "    <tr>\n",
              "      <th>related_talks</th>\n",
              "      <td>0</td>\n",
              "    </tr>\n",
              "    <tr>\n",
              "      <th>recorded_year</th>\n",
              "      <td>1</td>\n",
              "    </tr>\n",
              "    <tr>\n",
              "      <th>published_year</th>\n",
              "      <td>0</td>\n",
              "    </tr>\n",
              "  </tbody>\n",
              "</table>\n",
              "</div><br><label><b>dtype:</b> int64</label>"
            ]
          },
          "metadata": {},
          "execution_count": 30
        }
      ]
    },
    {
      "cell_type": "markdown",
      "source": [
        "After performing initial data cleaning, only a few columns in the dataset had missing values: recorded_date, recorded_year, and all_speakers."
      ],
      "metadata": {
        "id": "FkbwJDoDu9gw"
      }
    },
    {
      "cell_type": "markdown",
      "source": [
        "**Handling Missing Values & Missing Value Imputation**"
      ],
      "metadata": {
        "id": "hTiA34VIward"
      }
    },
    {
      "cell_type": "code",
      "source": [
        "# Fill missing recorded_date with published_date\n",
        "df['recorded_date'] = df['recorded_date'].fillna(df['published_date'])"
      ],
      "metadata": {
        "id": "2_A0SyzvwP-G"
      },
      "execution_count": 32,
      "outputs": []
    },
    {
      "cell_type": "code",
      "source": [
        "# Recreate recorded_year\n",
        "df['recorded_year'] = df['recorded_date'].dt.year"
      ],
      "metadata": {
        "id": "eX6CoPP-wRzS"
      },
      "execution_count": 33,
      "outputs": []
    },
    {
      "cell_type": "code",
      "source": [
        "# Fill missing all_speakers with speaker_1\n",
        "df['all_speakers'] = df['all_speakers'].fillna(df['speaker_1'])"
      ],
      "metadata": {
        "id": "03hEM_FjwUrq"
      },
      "execution_count": 34,
      "outputs": []
    },
    {
      "cell_type": "markdown",
      "source": [
        "#### What all missing value imputation techniques have you used and why did you use those techniques?"
      ],
      "metadata": {
        "id": "7wuGOrhz0itI"
      }
    },
    {
      "cell_type": "markdown",
      "source": [
        "IMPUTATION: Imputation is a technique used for replacing the missing data with some substitute value to retain most of the data/information of the dataset.\n",
        "\n",
        "In this project, I used a combination of domain-aware imputation and logical inference-based techniques to handle missing values effectively. Below are the imputation methods used:\n",
        "\n",
        "1. Forward Imputation using Related Columns\n",
        "\n",
        "   column: recorded_date\n",
        "\n",
        "   Technique: Filled missing recorded_date with the corresponding published_date\n",
        "\n",
        "   Reason: TED Talks are typically recorded shortly before publication. Since only one value was missing, it was reasonable to assume the published date approximates the recording date.\n",
        "\n",
        "2. Derived Feature Regeneration\n",
        "  \n",
        "   Column: recorded_year\n",
        "\n",
        "   Technique: Recomputed using recorded_date.dt.year after fixing the missing recorded_date\n",
        "\n",
        "   Reason: This is a derived feature, so once recorded_date was imputed, the year was easily and accurately extracted.\n",
        "\n",
        "3. Speaker-Based Substitution\n",
        "\n",
        "   Column: all_speakers\n",
        "\n",
        "   Technique: Imputed missing values using the speaker_1 column\n",
        "\n",
        "   Reason: In cases where no list of multiple speakers was available, it was logical to assume the talk was solo and assign the main speaker (speaker_1) to all_speakers.\n",
        "\n",
        "\n",
        "\n"
      ],
      "metadata": {
        "id": "1ixusLtI0pqI"
      }
    },
    {
      "cell_type": "markdown",
      "source": [
        "### 2. Handling Outliers"
      ],
      "metadata": {
        "id": "id1riN9m0vUs"
      }
    },
    {
      "cell_type": "code",
      "source": [
        "#Visualize Outliers with Boxplots\n",
        "plt.figure(figsize=(15, 4))\n",
        "\n",
        "for i, col in enumerate(['views', 'comments', 'duration']):\n",
        "    plt.subplot(1, 3, i+1)\n",
        "    sns.boxplot(x=df[col])\n",
        "    plt.title(f\"Boxplot of {col}\")\n",
        "plt.tight_layout()\n",
        "plt.show()\n"
      ],
      "metadata": {
        "colab": {
          "base_uri": "https://localhost:8080/",
          "height": 349
        },
        "id": "ALnp-Hbe0S13",
        "outputId": "4e0a9c9d-41af-4fc2-ccb1-6cf65cf535bc"
      },
      "execution_count": 35,
      "outputs": [
        {
          "output_type": "display_data",
          "data": {
            "text/plain": [
              "<Figure size 1500x400 with 3 Axes>"
            ],
            "image/png": "[encoded data removed]"
          },
          "metadata": {}
        }
      ]
    },
    {
      "cell_type": "markdown",
      "source": [
        "Numerical variables, especially views and comments, are heavily right-skewed with many valid but extreme outliers.\n",
        "These can negatively affect model training.\n",
        "\n",
        "To handle this, we can use:\n",
        "\n",
        "Log Transformation:\n",
        "This is a better choice here. It keeps all the data, but reduces the gap between small and large numbers. This makes the data more balanced and easier for the model to learn from.\n",
        "\n",
        "IQR Filtering:\n",
        "This removes rows with very high or low values. But in our case, those high values are important, so removing them is not a good idea.\n",
        "\n",
        "That’s why log transformation is the right choice for this dataset."
      ],
      "metadata": {
        "id": "z4E4yy_M1VsU"
      }
    },
    {
      "cell_type": "code",
      "source": [
        "# Handling Outliers & Outlier treatments\n",
        "# Apply log1p to handle zero values safely\n",
        "df['log_views'] = np.log1p(df['views'])\n",
        "df['log_comments'] = np.log1p(df['comments'])\n",
        "df['log_duration'] = np.log1p(df['duration'])"
      ],
      "metadata": {
        "id": "M6w2CzZf04JK"
      },
      "execution_count": 36,
      "outputs": []
    },
    {
      "cell_type": "code",
      "source": [
        "df.info()"
      ],
      "metadata": {
        "colab": {
          "base_uri": "https://localhost:8080/"
        },
        "collapsed": true,
        "id": "QVo3xV7S3I1C",
        "outputId": "a3cd48a3-2422-4783-cdf4-cbf47d64d4d7"
      },
      "execution_count": 37,
      "outputs": [
        {
          "output_type": "stream",
          "name": "stdout",
          "text": [
            "<class 'pandas.core.frame.DataFrame'>\n",
            "RangeIndex: 4005 entries, 0 to 4004\n",
            "Data columns (total 20 columns):\n",
            " #   Column          Non-Null Count  Dtype         \n",
            "---  ------          --------------  -----         \n",
            " 0   talk_id         4005 non-null   int64         \n",
            " 1   title           4005 non-null   object        \n",
            " 2   speaker_1       4005 non-null   object        \n",
            " 3   all_speakers    4005 non-null   object        \n",
            " 4   occupations     4005 non-null   object        \n",
            " 5   views           4005 non-null   int64         \n",
            " 6   recorded_date   4005 non-null   datetime64[ns]\n",
            " 7   published_date  4005 non-null   datetime64[ns]\n",
            " 8   event           4005 non-null   object        \n",
            " 9   native_lang     4005 non-null   object        \n",
            " 10  available_lang  4005 non-null   object        \n",
            " 11  comments        4005 non-null   float64       \n",
            " 12  duration        4005 non-null   int64         \n",
            " 13  topics          4005 non-null   object        \n",
            " 14  related_talks   4005 non-null   object        \n",
            " 15  recorded_year   4005 non-null   int32         \n",
            " 16  published_year  4005 non-null   int32         \n",
            " 17  log_views       4005 non-null   float64       \n",
            " 18  log_comments    4005 non-null   float64       \n",
            " 19  log_duration    4005 non-null   float64       \n",
            "dtypes: datetime64[ns](2), float64(4), int32(2), int64(3), object(9)\n",
            "memory usage: 594.6+ KB\n"
          ]
        }
      ]
    },
    {
      "cell_type": "markdown",
      "source": [
        "##### What all outlier treatment techniques have you used and why did you use those techniques?"
      ],
      "metadata": {
        "id": "578E2V7j08f6"
      }
    },
    {
      "cell_type": "markdown",
      "source": [
        "I have used Log Transformation.\n",
        "This is a better choice here. It keeps all the data, but reduces the gap between small and large numbers. This makes the data more balanced and easier for the model to learn from."
      ],
      "metadata": {
        "id": "uGZz5OrT1HH-"
      }
    },
    {
      "cell_type": "markdown",
      "source": [
        "### 3. Categorical Encoding"
      ],
      "metadata": {
        "id": "89xtkJwZ18nB"
      }
    },
    {
      "cell_type": "code",
      "source": [
        "# Label encoding on speaker_1 and the occupations column\n",
        "from sklearn.preprocessing import LabelEncoder\n",
        "\n",
        "le = LabelEncoder()\n",
        "df['speaker_1_encoded'] = le.fit_transform(df['speaker_1'])\n",
        "df['occupations_encoded'] = le.fit_transform(df['occupations'])"
      ],
      "metadata": {
        "id": "mIPh1l9b7Xin"
      },
      "execution_count": 44,
      "outputs": []
    },
    {
      "cell_type": "code",
      "source": [
        "# Encode your categorical columns\n",
        "df = pd.get_dummies(df, columns=['native_lang', 'event'], drop_first=True)\n"
      ],
      "metadata": {
        "id": "21JmIYMG2hEo"
      },
      "execution_count": 38,
      "outputs": []
    },
    {
      "cell_type": "code",
      "source": [
        "df.shape"
      ],
      "metadata": {
        "colab": {
          "base_uri": "https://localhost:8080/"
        },
        "id": "d6xdAjBx6RYf",
        "outputId": "a4c36492-0a72-4df6-a40f-61e480160699"
      },
      "execution_count": 42,
      "outputs": [
        {
          "output_type": "execute_result",
          "data": {
            "text/plain": [
              "(4005, 487)"
            ]
          },
          "metadata": {},
          "execution_count": 42
        }
      ]
    },
    {
      "cell_type": "markdown",
      "source": [
        "Due to One Hot encoding on event and native_lang,there is increase in number of columns by a huge number."
      ],
      "metadata": {
        "id": "-2RmCgMTElCO"
      }
    },
    {
      "cell_type": "markdown",
      "source": [
        "# Object Columns in our dataset"
      ],
      "metadata": {
        "id": "TyQHnjIjF1TQ"
      }
    },
    {
      "cell_type": "code",
      "source": [
        "obj_cols = df.select_dtypes(include='object').columns.tolist()\n",
        "print(\"Object columns:\", obj_cols)"
      ],
      "metadata": {
        "colab": {
          "base_uri": "https://localhost:8080/"
        },
        "id": "i1N69vf-8FuW",
        "outputId": "63b321fd-e43d-4590-cbd6-7686adf9e139"
      },
      "execution_count": 45,
      "outputs": [
        {
          "output_type": "stream",
          "name": "stdout",
          "text": [
            "Object columns: ['title', 'speaker_1', 'all_speakers', 'occupations', 'available_lang', 'topics', 'related_talks']\n"
          ]
        }
      ]
    },
    {
      "cell_type": "code",
      "source": [
        "df.drop(columns=['title', 'description', 'url', 'transcript'], inplace=True, errors='ignore')"
      ],
      "metadata": {
        "id": "Fj1hG0WrGAfh"
      },
      "execution_count": 46,
      "outputs": []
    },
    {
      "cell_type": "code",
      "source": [
        "df.columns"
      ],
      "metadata": {
        "colab": {
          "base_uri": "https://localhost:8080/"
        },
        "id": "sTQ9VX-AGjTQ",
        "outputId": "b8f700c9-b8f6-4cf1-c3ec-ec81928ba9ee"
      },
      "execution_count": 52,
      "outputs": [
        {
          "output_type": "execute_result",
          "data": {
            "text/plain": [
              "Index(['talk_id', 'speaker_1', 'occupations', 'views', 'recorded_date',\n",
              "       'published_date', 'available_lang', 'comments', 'duration', 'topics',\n",
              "       ...\n",
              "       'event_TEDxZurich 2012', 'event_TEDxZurich 2013', 'event_Taste3 2008',\n",
              "       'event_The TED Interview', 'event_The Way We Work',\n",
              "       'event_Torchbearers', 'event_We the Future', 'speaker_1_encoded',\n",
              "       'occupations_encoded', 'num_speakers'],\n",
              "      dtype='object', length=488)"
            ]
          },
          "metadata": {},
          "execution_count": 52
        }
      ]
    },
    {
      "cell_type": "code",
      "source": [
        "import json\n",
        "\n",
        "def count_speakers(speaker_string):\n",
        "    if pd.notnull(speaker_string):\n",
        "        try:\n",
        "            # Attempt to parse the string as a dictionary\n",
        "            speaker_dict = json.loads(speaker_string.replace(\"'\", \"\\\"\").replace(\"{\", \"[\").replace(\"}\", \"]\"))\n",
        "            return len(speaker_dict) if isinstance(speaker_dict, list) else 1\n",
        "        except (json.JSONDecodeError, AttributeError):\n",
        "            # Fallback for strings that are not dictionary-like\n",
        "            return len(speaker_string.split(',')) if isinstance(speaker_string, str) else 1\n",
        "    return 1 # Assuming 1 speaker if the entry is null or cannot be parsed\n",
        "\n",
        "df['num_speakers'] = df['all_speakers'].apply(count_speakers)\n",
        "df.drop(columns=['all_speakers'], inplace=True, errors='ignore')"
      ],
      "metadata": {
        "id": "PqrTaMCUG2j3"
      },
      "execution_count": 51,
      "outputs": []
    },
    {
      "cell_type": "code",
      "source": [
        "df.drop(columns=['speaker_1'], inplace=True)"
      ],
      "metadata": {
        "id": "1XFrO3NJHTYM"
      },
      "execution_count": 53,
      "outputs": []
    },
    {
      "cell_type": "code",
      "source": [
        "df.drop(columns=['occupations','topics'], inplace=True)"
      ],
      "metadata": {
        "id": "w22KHMZDHZM3"
      },
      "execution_count": 54,
      "outputs": []
    },
    {
      "cell_type": "code",
      "source": [
        "df.drop(columns=['available_lang', 'related_talks'], inplace=True)"
      ],
      "metadata": {
        "id": "tLOxVEDAItZm"
      },
      "execution_count": 58,
      "outputs": []
    },
    {
      "cell_type": "code",
      "source": [
        "# Check that all remaining columns are numeric\n",
        "print(\"Non-numeric columns:\", df.select_dtypes(include='object').columns.tolist())\n"
      ],
      "metadata": {
        "colab": {
          "base_uri": "https://localhost:8080/"
        },
        "id": "Fxau-3axGQKO",
        "outputId": "abfd2b54-7434-4146-f582-7bba774f62dc"
      },
      "execution_count": 59,
      "outputs": [
        {
          "output_type": "stream",
          "name": "stdout",
          "text": [
            "Non-numeric columns: []\n"
          ]
        }
      ]
    },
    {
      "cell_type": "markdown",
      "source": [
        "#### What all categorical encoding techniques have you used & why did you use those techniques?"
      ],
      "metadata": {
        "id": "67NQN5KX2AMe"
      }
    },
    {
      "cell_type": "markdown",
      "source": [
        "I used One Hot Encoding for nominal categorical features where no ordinal relationship exists (e.g., event names, speaker occupations), as it helps represent categories without implying any rank or order.\n",
        "I applied Label Encoding to ordinal or binary categorical features where categories have an inherent order or for simplifying high-cardinality features during model testing, ensuring compatibility with tree-based models like Random Forest."
      ],
      "metadata": {
        "id": "UDaue5h32n_G"
      }
    },
    {
      "cell_type": "markdown",
      "source": [
        "### 4. Feature Manipulation & Selection"
      ],
      "metadata": {
        "id": "-oLEiFgy-5Pf"
      }
    },
    {
      "cell_type": "markdown",
      "source": [
        "#### 1. Feature Manipulation"
      ],
      "metadata": {
        "id": "C74aWNz2AliB"
      }
    },
    {
      "cell_type": "code",
      "source": [
        "# Manipulate Features to minimize feature correlation and create new features\n",
        "df['publish_delay'] = df['published_year'] - df['recorded_year']"
      ],
      "metadata": {
        "id": "h1qC4yhBApWC"
      },
      "execution_count": 65,
      "outputs": []
    },
    {
      "cell_type": "code",
      "source": [
        "# Average views of all talks by a speaker:\n",
        "speaker_avg_views = df.groupby('speaker_1_encoded')['views'].mean().to_dict()\n",
        "df['speaker_avg_views'] = df['speaker_1_encoded'].map(speaker_avg_views)"
      ],
      "metadata": {
        "id": "lAuxD5wQKyTr"
      },
      "execution_count": 66,
      "outputs": []
    },
    {
      "cell_type": "code",
      "source": [
        "df.columns"
      ],
      "metadata": {
        "colab": {
          "base_uri": "https://localhost:8080/"
        },
        "id": "h0wPoyjeNpDm",
        "outputId": "30e5f387-5c60-430b-f980-5aa6f7269095"
      },
      "execution_count": 75,
      "outputs": [
        {
          "output_type": "execute_result",
          "data": {
            "text/plain": [
              "Index(['talk_id', 'views', 'recorded_date', 'published_date', 'comments',\n",
              "       'duration', 'recorded_year', 'published_year', 'log_views',\n",
              "       'log_comments', 'log_duration', 'native_lang_de', 'native_lang_en',\n",
              "       'native_lang_es', 'native_lang_fr', 'native_lang_hi', 'native_lang_it',\n",
              "       'native_lang_ja', 'native_lang_ko', 'native_lang_pt',\n",
              "       'native_lang_pt-br', 'native_lang_zh-cn', 'speaker_1_encoded',\n",
              "       'occupations_encoded', 'num_speakers', 'publish_delay',\n",
              "       'speaker_avg_views'],\n",
              "      dtype='object')"
            ]
          },
          "metadata": {},
          "execution_count": 75
        }
      ]
    },
    {
      "cell_type": "code",
      "source": [
        "#dropping event columns\n",
        "df.drop(columns=[col for col in df.columns if 'event_' in col], inplace=True)"
      ],
      "metadata": {
        "id": "DqlrqcwfOI45"
      },
      "execution_count": 73,
      "outputs": []
    },
    {
      "cell_type": "code",
      "source": [
        "df.shape"
      ],
      "metadata": {
        "colab": {
          "base_uri": "https://localhost:8080/"
        },
        "id": "-g0TWDblNr2l",
        "outputId": "f8f47096-e1a3-4a3a-acd1-18617417c6e9"
      },
      "execution_count": 77,
      "outputs": [
        {
          "output_type": "execute_result",
          "data": {
            "text/plain": [
              "(4005, 27)"
            ]
          },
          "metadata": {},
          "execution_count": 77
        }
      ]
    },
    {
      "cell_type": "markdown",
      "source": [
        "#### 2. Feature Selection"
      ],
      "metadata": {
        "id": "2DejudWSA-a0"
      }
    },
    {
      "cell_type": "code",
      "source": [
        "# Select your features wisely to avoid overfitting\n"
      ],
      "metadata": {
        "id": "YLhe8UmaBCEE"
      },
      "execution_count": 79,
      "outputs": []
    },
    {
      "cell_type": "markdown",
      "source": [
        "##### What all feature selection methods have you used  and why?"
      ],
      "metadata": {
        "id": "pEMng2IbBLp7"
      }
    },
    {
      "cell_type": "markdown",
      "source": [
        "Answer Here."
      ],
      "metadata": {
        "id": "rb2Lh6Z8BgGs"
      }
    },
    {
      "cell_type": "markdown",
      "source": [
        "##### Which all features you found important and why?"
      ],
      "metadata": {
        "id": "rAdphbQ9Bhjc"
      }
    },
    {
      "cell_type": "markdown",
      "source": [
        "Answer Here."
      ],
      "metadata": {
        "id": "fGgaEstsBnaf"
      }
    },
    {
      "cell_type": "markdown",
      "source": [
        "###  Data Splitting"
      ],
      "metadata": {
        "id": "BhH2vgX9EjGr"
      }
    },
    {
      "cell_type": "code",
      "source": [
        "#separating the dependent and independent variables\n",
        "y=df['views']\n",
        "X=df.drop(columns='views')"
      ],
      "metadata": {
        "id": "0lwtf0R2XG0M"
      },
      "execution_count": 80,
      "outputs": []
    },
    {
      "cell_type": "code",
      "source": [
        "X.head()"
      ],
      "metadata": {
        "colab": {
          "base_uri": "https://localhost:8080/",
          "height": 273
        },
        "id": "V9WllOT5XO0f",
        "outputId": "5cf3eb4a-5e7b-4463-d009-1e4f5bc0612e"
      },
      "execution_count": 82,
      "outputs": [
        {
          "output_type": "execute_result",
          "data": {
            "text/plain": [
              "   talk_id recorded_date published_date  comments  duration  recorded_year  \\\n",
              "0        1    2006-02-25     2006-06-27     272.0       977           2006   \n",
              "1       92    2006-02-22     2006-06-27     628.0      1190           2006   \n",
              "2        7    2006-02-24     2006-06-27     124.0      1286           2006   \n",
              "3       53    2006-02-26     2006-06-27     219.0      1116           2006   \n",
              "4       66    2006-02-25     2006-06-27    4931.0      1164           2006   \n",
              "\n",
              "   published_year  log_views  log_comments  log_duration  ...  native_lang_ja  \\\n",
              "0            2006  15.074935      5.609472      6.885510  ...           False   \n",
              "1            2006  16.489775      6.444131      7.082549  ...           False   \n",
              "2            2006  14.468270      4.828314      7.160069  ...           False   \n",
              "3            2006  14.795366      5.393628      7.018402  ...           False   \n",
              "4            2006  17.990697      8.503500      7.060476  ...           False   \n",
              "\n",
              "   native_lang_ko  native_lang_pt  native_lang_pt-br  native_lang_zh-cn  \\\n",
              "0           False           False              False              False   \n",
              "1           False           False              False              False   \n",
              "2           False           False              False              False   \n",
              "3           False           False              False              False   \n",
              "4           False           False              False              False   \n",
              "\n",
              "   speaker_1_encoded  occupations_encoded  num_speakers  publish_delay  \\\n",
              "0                 78                  412             1              0   \n",
              "1               1231                  923             1              0   \n",
              "2                815                 1885             1              0   \n",
              "3               1973                   18             1              0   \n",
              "4               2881                  202             1              0   \n",
              "\n",
              "   speaker_avg_views  \n",
              "0       2.190599e+06  \n",
              "1       3.987156e+06  \n",
              "2       2.156190e+06  \n",
              "3       1.979411e+06  \n",
              "4       2.812684e+07  \n",
              "\n",
              "[5 rows x 26 columns]"
            ],
            "text/html": [
              "\n",
              "  <div id=\"df-3cc4cd4a-c759-468d-88b5-be44d143c13a\" class=\"colab-df-container\">\n",
              "    <div>\n",
              "<style scoped>\n",
              "    .dataframe tbody tr th:only-of-type {\n",
              "        vertical-align: middle;\n",
              "    }\n",
              "\n",
              "    .dataframe tbody tr th {\n",
              "        vertical-align: top;\n",
              "    }\n",
              "\n",
              "    .dataframe thead th {\n",
              "        text-align: right;\n",
              "    }\n",
              "</style>\n",
              "<table border=\"1\" class=\"dataframe\">\n",
              "  <thead>\n",
              "    <tr style=\"text-align: right;\">\n",
              "      <th></th>\n",
              "      <th>talk_id</th>\n",
              "      <th>recorded_date</th>\n",
              "      <th>published_date</th>\n",
              "      <th>comments</th>\n",
              "      <th>duration</th>\n",
              "      <th>recorded_year</th>\n",
              "      <th>published_year</th>\n",
              "      <th>log_views</th>\n",
              "      <th>log_comments</th>\n",
              "      <th>log_duration</th>\n",
              "      <th>...</th>\n",
              "      <th>native_lang_ja</th>\n",
              "      <th>native_lang_ko</th>\n",
              "      <th>native_lang_pt</th>\n",
              "      <th>native_lang_pt-br</th>\n",
              "      <th>native_lang_zh-cn</th>\n",
              "      <th>speaker_1_encoded</th>\n",
              "      <th>occupations_encoded</th>\n",
              "      <th>num_speakers</th>\n",
              "      <th>publish_delay</th>\n",
              "      <th>speaker_avg_views</th>\n",
              "    </tr>\n",
              "  </thead>\n",
              "  <tbody>\n",
              "    <tr>\n",
              "      <th>0</th>\n",
              "      <td>1</td>\n",
              "      <td>2006-02-25</td>\n",
              "      <td>2006-06-27</td>\n",
              "      <td>272.0</td>\n",
              "      <td>977</td>\n",
              "      <td>2006</td>\n",
              "      <td>2006</td>\n",
              "      <td>15.074935</td>\n",
              "      <td>5.609472</td>\n",
              "      <td>6.885510</td>\n",
              "      <td>...</td>\n",
              "      <td>False</td>\n",
              "      <td>False</td>\n",
              "      <td>False</td>\n",
              "      <td>False</td>\n",
              "      <td>False</td>\n",
              "      <td>78</td>\n",
              "      <td>412</td>\n",
              "      <td>1</td>\n",
              "      <td>0</td>\n",
              "      <td>2.190599e+06</td>\n",
              "    </tr>\n",
              "    <tr>\n",
              "      <th>1</th>\n",
              "      <td>92</td>\n",
              "      <td>2006-02-22</td>\n",
              "      <td>2006-06-27</td>\n",
              "      <td>628.0</td>\n",
              "      <td>1190</td>\n",
              "      <td>2006</td>\n",
              "      <td>2006</td>\n",
              "      <td>16.489775</td>\n",
              "      <td>6.444131</td>\n",
              "      <td>7.082549</td>\n",
              "      <td>...</td>\n",
              "      <td>False</td>\n",
              "      <td>False</td>\n",
              "      <td>False</td>\n",
              "      <td>False</td>\n",
              "      <td>False</td>\n",
              "      <td>1231</td>\n",
              "      <td>923</td>\n",
              "      <td>1</td>\n",
              "      <td>0</td>\n",
              "      <td>3.987156e+06</td>\n",
              "    </tr>\n",
              "    <tr>\n",
              "      <th>2</th>\n",
              "      <td>7</td>\n",
              "      <td>2006-02-24</td>\n",
              "      <td>2006-06-27</td>\n",
              "      <td>124.0</td>\n",
              "      <td>1286</td>\n",
              "      <td>2006</td>\n",
              "      <td>2006</td>\n",
              "      <td>14.468270</td>\n",
              "      <td>4.828314</td>\n",
              "      <td>7.160069</td>\n",
              "      <td>...</td>\n",
              "      <td>False</td>\n",
              "      <td>False</td>\n",
              "      <td>False</td>\n",
              "      <td>False</td>\n",
              "      <td>False</td>\n",
              "      <td>815</td>\n",
              "      <td>1885</td>\n",
              "      <td>1</td>\n",
              "      <td>0</td>\n",
              "      <td>2.156190e+06</td>\n",
              "    </tr>\n",
              "    <tr>\n",
              "      <th>3</th>\n",
              "      <td>53</td>\n",
              "      <td>2006-02-26</td>\n",
              "      <td>2006-06-27</td>\n",
              "      <td>219.0</td>\n",
              "      <td>1116</td>\n",
              "      <td>2006</td>\n",
              "      <td>2006</td>\n",
              "      <td>14.795366</td>\n",
              "      <td>5.393628</td>\n",
              "      <td>7.018402</td>\n",
              "      <td>...</td>\n",
              "      <td>False</td>\n",
              "      <td>False</td>\n",
              "      <td>False</td>\n",
              "      <td>False</td>\n",
              "      <td>False</td>\n",
              "      <td>1973</td>\n",
              "      <td>18</td>\n",
              "      <td>1</td>\n",
              "      <td>0</td>\n",
              "      <td>1.979411e+06</td>\n",
              "    </tr>\n",
              "    <tr>\n",
              "      <th>4</th>\n",
              "      <td>66</td>\n",
              "      <td>2006-02-25</td>\n",
              "      <td>2006-06-27</td>\n",
              "      <td>4931.0</td>\n",
              "      <td>1164</td>\n",
              "      <td>2006</td>\n",
              "      <td>2006</td>\n",
              "      <td>17.990697</td>\n",
              "      <td>8.503500</td>\n",
              "      <td>7.060476</td>\n",
              "      <td>...</td>\n",
              "      <td>False</td>\n",
              "      <td>False</td>\n",
              "      <td>False</td>\n",
              "      <td>False</td>\n",
              "      <td>False</td>\n",
              "      <td>2881</td>\n",
              "      <td>202</td>\n",
              "      <td>1</td>\n",
              "      <td>0</td>\n",
              "      <td>2.812684e+07</td>\n",
              "    </tr>\n",
              "  </tbody>\n",
              "</table>\n",
              "<p>5 rows × 26 columns</p>\n",
              "</div>\n",
              "    <div class=\"colab-df-buttons\">\n",
              "\n",
              "  <div class=\"colab-df-container\">\n",
              "    <button class=\"colab-df-convert\" onclick=\"convertToInteractive('df-3cc4cd4a-c759-468d-88b5-be44d143c13a')\"\n",
              "            title=\"Convert this dataframe to an interactive table.\"\n",
              "            style=\"display:none;\">\n",
              "\n",
              "  <svg xmlns=\"http://www.w3.org/2000/svg\" height=\"24px\" viewBox=\"0 -960 960 960\">\n",
              "    <path d=\"M120-120v-720h720v720H120Zm60-500h600v-160H180v160Zm220 220h160v-160H400v160Zm0 220h160v-160H400v160ZM180-400h160v-160H180v160Zm440 0h160v-160H620v160ZM180-180h160v-160H180v160Zm440 0h160v-160H620v160Z\"/>\n",
              "  </svg>\n",
              "    </button>\n",
              "\n",
              "  <style>\n",
              "    .colab-df-container {\n",
              "      display:flex;\n",
              "      gap: 12px;\n",
              "    }\n",
              "\n",
              "    .colab-df-convert {\n",
              "      background-color: #E8F0FE;\n",
              "      border: none;\n",
              "      border-radius: 50%;\n",
              "      cursor: pointer;\n",
              "      display: none;\n",
              "      fill: #1967D2;\n",
              "      height: 32px;\n",
              "      padding: 0 0 0 0;\n",
              "      width: 32px;\n",
              "    }\n",
              "\n",
              "    .colab-df-convert:hover {\n",
              "      background-color: #E2EBFA;\n",
              "      box-shadow: 0px 1px 2px rgba(60, 64, 67, 0.3), 0px 1px 3px 1px rgba(60, 64, 67, 0.15);\n",
              "      fill: #174EA6;\n",
              "    }\n",
              "\n",
              "    .colab-df-buttons div {\n",
              "      margin-bottom: 4px;\n",
              "    }\n",
              "\n",
              "    [theme=dark] .colab-df-convert {\n",
              "      background-color: #3B4455;\n",
              "      fill: #D2E3FC;\n",
              "    }\n",
              "\n",
              "    [theme=dark] .colab-df-convert:hover {\n",
              "      background-color: #434B5C;\n",
              "      box-shadow: 0px 1px 3px 1px rgba(0, 0, 0, 0.15);\n",
              "      filter: drop-shadow(0px 1px 2px rgba(0, 0, 0, 0.3));\n",
              "      fill: #FFFFFF;\n",
              "    }\n",
              "  </style>\n",
              "\n",
              "    <script>\n",
              "      const buttonEl =\n",
              "        document.querySelector('#df-3cc4cd4a-c759-468d-88b5-be44d143c13a button.colab-df-convert');\n",
              "      buttonEl.style.display =\n",
              "        google.colab.kernel.accessAllowed ? 'block' : 'none';\n",
              "\n",
              "      async function convertToInteractive(key) {\n",
              "        const element = document.querySelector('#df-3cc4cd4a-c759-468d-88b5-be44d143c13a');\n",
              "        const dataTable =\n",
              "          await google.colab.kernel.invokeFunction('convertToInteractive',\n",
              "                                                    [key], {});\n",
              "        if (!dataTable) return;\n",
              "\n",
              "        const docLinkHtml = 'Like what you see? Visit the ' +\n",
              "          '<a target=\"_blank\" href=https://colab.research.google.com/notebooks/data_table.ipynb>data table notebook</a>'\n",
              "          + ' to learn more about interactive tables.';\n",
              "        element.innerHTML = '';\n",
              "        dataTable['output_type'] = 'display_data';\n",
              "        await google.colab.output.renderOutput(dataTable, element);\n",
              "        const docLink = document.createElement('div');\n",
              "        docLink.innerHTML = docLinkHtml;\n",
              "        element.appendChild(docLink);\n",
              "      }\n",
              "    </script>\n",
              "  </div>\n",
              "\n",
              "\n",
              "    <div id=\"df-5cdeb246-0637-4b39-84d7-e911c5c0b5a3\">\n",
              "      <button class=\"colab-df-quickchart\" onclick=\"quickchart('df-5cdeb246-0637-4b39-84d7-e911c5c0b5a3')\"\n",
              "                title=\"Suggest charts\"\n",
              "                style=\"display:none;\">\n",
              "\n",
              "<svg xmlns=\"http://www.w3.org/2000/svg\" height=\"24px\"viewBox=\"0 0 24 24\"\n",
              "     width=\"24px\">\n",
              "    <g>\n",
              "        <path d=\"M19 3H5c-1.1 0-2 .9-2 2v14c0 1.1.9 2 2 2h14c1.1 0 2-.9 2-2V5c0-1.1-.9-2-2-2zM9 17H7v-7h2v7zm4 0h-2V7h2v10zm4 0h-2v-4h2v4z\"/>\n",
              "    </g>\n",
              "</svg>\n",
              "      </button>\n",
              "\n",
              "<style>\n",
              "  .colab-df-quickchart {\n",
              "      --bg-color: #E8F0FE;\n",
              "      --fill-color: #1967D2;\n",
              "      --hover-bg-color: #E2EBFA;\n",
              "      --hover-fill-color: #174EA6;\n",
              "      --disabled-fill-color: #AAA;\n",
              "      --disabled-bg-color: #DDD;\n",
              "  }\n",
              "\n",
              "  [theme=dark] .colab-df-quickchart {\n",
              "      --bg-color: #3B4455;\n",
              "      --fill-color: #D2E3FC;\n",
              "      --hover-bg-color: #434B5C;\n",
              "      --hover-fill-color: #FFFFFF;\n",
              "      --disabled-bg-color: #3B4455;\n",
              "      --disabled-fill-color: #666;\n",
              "  }\n",
              "\n",
              "  .colab-df-quickchart {\n",
              "    background-color: var(--bg-color);\n",
              "    border: none;\n",
              "    border-radius: 50%;\n",
              "    cursor: pointer;\n",
              "    display: none;\n",
              "    fill: var(--fill-color);\n",
              "    height: 32px;\n",
              "    padding: 0;\n",
              "    width: 32px;\n",
              "  }\n",
              "\n",
              "  .colab-df-quickchart:hover {\n",
              "    background-color: var(--hover-bg-color);\n",
              "    box-shadow: 0 1px 2px rgba(60, 64, 67, 0.3), 0 1px 3px 1px rgba(60, 64, 67, 0.15);\n",
              "    fill: var(--button-hover-fill-color);\n",
              "  }\n",
              "\n",
              "  .colab-df-quickchart-complete:disabled,\n",
              "  .colab-df-quickchart-complete:disabled:hover {\n",
              "    background-color: var(--disabled-bg-color);\n",
              "    fill: var(--disabled-fill-color);\n",
              "    box-shadow: none;\n",
              "  }\n",
              "\n",
              "  .colab-df-spinner {\n",
              "    border: 2px solid var(--fill-color);\n",
              "    border-color: transparent;\n",
              "    border-bottom-color: var(--fill-color);\n",
              "    animation:\n",
              "      spin 1s steps(1) infinite;\n",
              "  }\n",
              "\n",
              "  @keyframes spin {\n",
              "    0% {\n",
              "      border-color: transparent;\n",
              "      border-bottom-color: var(--fill-color);\n",
              "      border-left-color: var(--fill-color);\n",
              "    }\n",
              "    20% {\n",
              "      border-color: transparent;\n",
              "      border-left-color: var(--fill-color);\n",
              "      border-top-color: var(--fill-color);\n",
              "    }\n",
              "    30% {\n",
              "      border-color: transparent;\n",
              "      border-left-color: var(--fill-color);\n",
              "      border-top-color: var(--fill-color);\n",
              "      border-right-color: var(--fill-color);\n",
              "    }\n",
              "    40% {\n",
              "      border-color: transparent;\n",
              "      border-right-color: var(--fill-color);\n",
              "      border-top-color: var(--fill-color);\n",
              "    }\n",
              "    60% {\n",
              "      border-color: transparent;\n",
              "      border-right-color: var(--fill-color);\n",
              "    }\n",
              "    80% {\n",
              "      border-color: transparent;\n",
              "      border-right-color: var(--fill-color);\n",
              "      border-bottom-color: var(--fill-color);\n",
              "    }\n",
              "    90% {\n",
              "      border-color: transparent;\n",
              "      border-bottom-color: var(--fill-color);\n",
              "    }\n",
              "  }\n",
              "</style>\n",
              "\n",
              "      <script>\n",
              "        async function quickchart(key) {\n",
              "          const quickchartButtonEl =\n",
              "            document.querySelector('#' + key + ' button');\n",
              "          quickchartButtonEl.disabled = true;  // To prevent multiple clicks.\n",
              "          quickchartButtonEl.classList.add('colab-df-spinner');\n",
              "          try {\n",
              "            const charts = await google.colab.kernel.invokeFunction(\n",
              "                'suggestCharts', [key], {});\n",
              "          } catch (error) {\n",
              "            console.error('Error during call to suggestCharts:', error);\n",
              "          }\n",
              "          quickchartButtonEl.classList.remove('colab-df-spinner');\n",
              "          quickchartButtonEl.classList.add('colab-df-quickchart-complete');\n",
              "        }\n",
              "        (() => {\n",
              "          let quickchartButtonEl =\n",
              "            document.querySelector('#df-5cdeb246-0637-4b39-84d7-e911c5c0b5a3 button');\n",
              "          quickchartButtonEl.style.display =\n",
              "            google.colab.kernel.accessAllowed ? 'block' : 'none';\n",
              "        })();\n",
              "      </script>\n",
              "    </div>\n",
              "\n",
              "    </div>\n",
              "  </div>\n"
            ],
            "application/vnd.google.colaboratory.intrinsic+json": {
              "type": "dataframe",
              "variable_name": "X"
            }
          },
          "metadata": {},
          "execution_count": 82
        }
      ]
    },
    {
      "cell_type": "code",
      "source": [
        "y.head()"
      ],
      "metadata": {
        "colab": {
          "base_uri": "https://localhost:8080/",
          "height": 241
        },
        "id": "TWedxbAGXd5P",
        "outputId": "9ade6f43-acaf-4cfe-be2e-8f266e2a458c"
      },
      "execution_count": 84,
      "outputs": [
        {
          "output_type": "execute_result",
          "data": {
            "text/plain": [
              "0     3523392\n",
              "1    14501685\n",
              "2     1920832\n",
              "3     2664069\n",
              "4    65051954\n",
              "Name: views, dtype: int64"
            ],
            "text/html": [
              "<div>\n",
              "<style scoped>\n",
              "    .dataframe tbody tr th:only-of-type {\n",
              "        vertical-align: middle;\n",
              "    }\n",
              "\n",
              "    .dataframe tbody tr th {\n",
              "        vertical-align: top;\n",
              "    }\n",
              "\n",
              "    .dataframe thead th {\n",
              "        text-align: right;\n",
              "    }\n",
              "</style>\n",
              "<table border=\"1\" class=\"dataframe\">\n",
              "  <thead>\n",
              "    <tr style=\"text-align: right;\">\n",
              "      <th></th>\n",
              "      <th>views</th>\n",
              "    </tr>\n",
              "  </thead>\n",
              "  <tbody>\n",
              "    <tr>\n",
              "      <th>0</th>\n",
              "      <td>3523392</td>\n",
              "    </tr>\n",
              "    <tr>\n",
              "      <th>1</th>\n",
              "      <td>14501685</td>\n",
              "    </tr>\n",
              "    <tr>\n",
              "      <th>2</th>\n",
              "      <td>1920832</td>\n",
              "    </tr>\n",
              "    <tr>\n",
              "      <th>3</th>\n",
              "      <td>2664069</td>\n",
              "    </tr>\n",
              "    <tr>\n",
              "      <th>4</th>\n",
              "      <td>65051954</td>\n",
              "    </tr>\n",
              "  </tbody>\n",
              "</table>\n",
              "</div><br><label><b>dtype:</b> int64</label>"
            ]
          },
          "metadata": {},
          "execution_count": 84
        }
      ]
    },
    {
      "cell_type": "code",
      "source": [
        "# Split your data to train and test. Choose Splitting ratio wisely.\n",
        "from sklearn.model_selection import train_test_split\n",
        "X_train, X_test, y_train, y_test = train_test_split(\n",
        "    X, y,\n",
        "    test_size=0.2,       # 20% test, 80% train\n",
        "    random_state=42      # ensures reproducibility\n",
        ")"
      ],
      "metadata": {
        "id": "0CTyd2UwEyNM"
      },
      "execution_count": 86,
      "outputs": []
    },
    {
      "cell_type": "code",
      "source": [
        "X_train.head()"
      ],
      "metadata": {
        "colab": {
          "base_uri": "https://localhost:8080/",
          "height": 273
        },
        "id": "1joWAi6HYC84",
        "outputId": "3b177a12-c8e2-4ee5-9e90-0c800e40d9fa"
      },
      "execution_count": 87,
      "outputs": [
        {
          "output_type": "execute_result",
          "data": {
            "text/plain": [
              "      talk_id recorded_date published_date  comments  duration  recorded_year  \\\n",
              "2194     2546    2016-05-18     2016-07-14      74.0       551           2016   \n",
              "2487     2757    2015-05-07     2017-09-07       0.0       402           2015   \n",
              "1756     2065    2014-06-23     2014-08-26      45.0       604           2014   \n",
              "423       520    2002-02-02     2009-04-21      66.0      1040           2002   \n",
              "2996    25241    2018-07-31     2018-10-18      16.0       732           2018   \n",
              "\n",
              "      published_year  log_views  log_comments  log_duration  ...  \\\n",
              "2194            2016  14.788273      4.317488      6.313548  ...   \n",
              "2487            2017  14.154279      0.000000      5.998937  ...   \n",
              "1756            2014  13.485341      3.828641      6.405228  ...   \n",
              "423             2009  13.329834      4.204693      6.947937  ...   \n",
              "2996            2018  14.383038      2.833213      6.597146  ...   \n",
              "\n",
              "      native_lang_ja  native_lang_ko  native_lang_pt  native_lang_pt-br  \\\n",
              "2194           False           False           False              False   \n",
              "2487           False           False           False              False   \n",
              "1756           False           False           False              False   \n",
              "423            False           False           False              False   \n",
              "2996           False           False           False              False   \n",
              "\n",
              "      native_lang_zh-cn  speaker_1_encoded  occupations_encoded  num_speakers  \\\n",
              "2194              False               2861                  681             1   \n",
              "2487              False               2277                  660             2   \n",
              "1756              False               2689                 1244             1   \n",
              "423               False               2325                  609             1   \n",
              "2996              False                721                 1462             1   \n",
              "\n",
              "      publish_delay  speaker_avg_views  \n",
              "2194              0          1974306.0  \n",
              "2487              2          1403218.0  \n",
              "1756              0           718801.0  \n",
              "423               7           615280.0  \n",
              "2996              0          1103030.0  \n",
              "\n",
              "[5 rows x 26 columns]"
            ],
            "text/html": [
              "\n",
              "  <div id=\"df-27180958-06c5-4868-9b33-28b3c317ed55\" class=\"colab-df-container\">\n",
              "    <div>\n",
              "<style scoped>\n",
              "    .dataframe tbody tr th:only-of-type {\n",
              "        vertical-align: middle;\n",
              "    }\n",
              "\n",
              "    .dataframe tbody tr th {\n",
              "        vertical-align: top;\n",
              "    }\n",
              "\n",
              "    .dataframe thead th {\n",
              "        text-align: right;\n",
              "    }\n",
              "</style>\n",
              "<table border=\"1\" class=\"dataframe\">\n",
              "  <thead>\n",
              "    <tr style=\"text-align: right;\">\n",
              "      <th></th>\n",
              "      <th>talk_id</th>\n",
              "      <th>recorded_date</th>\n",
              "      <th>published_date</th>\n",
              "      <th>comments</th>\n",
              "      <th>duration</th>\n",
              "      <th>recorded_year</th>\n",
              "      <th>published_year</th>\n",
              "      <th>log_views</th>\n",
              "      <th>log_comments</th>\n",
              "      <th>log_duration</th>\n",
              "      <th>...</th>\n",
              "      <th>native_lang_ja</th>\n",
              "      <th>native_lang_ko</th>\n",
              "      <th>native_lang_pt</th>\n",
              "      <th>native_lang_pt-br</th>\n",
              "      <th>native_lang_zh-cn</th>\n",
              "      <th>speaker_1_encoded</th>\n",
              "      <th>occupations_encoded</th>\n",
              "      <th>num_speakers</th>\n",
              "      <th>publish_delay</th>\n",
              "      <th>speaker_avg_views</th>\n",
              "    </tr>\n",
              "  </thead>\n",
              "  <tbody>\n",
              "    <tr>\n",
              "      <th>2194</th>\n",
              "      <td>2546</td>\n",
              "      <td>2016-05-18</td>\n",
              "      <td>2016-07-14</td>\n",
              "      <td>74.0</td>\n",
              "      <td>551</td>\n",
              "      <td>2016</td>\n",
              "      <td>2016</td>\n",
              "      <td>14.788273</td>\n",
              "      <td>4.317488</td>\n",
              "      <td>6.313548</td>\n",
              "      <td>...</td>\n",
              "      <td>False</td>\n",
              "      <td>False</td>\n",
              "      <td>False</td>\n",
              "      <td>False</td>\n",
              "      <td>False</td>\n",
              "      <td>2861</td>\n",
              "      <td>681</td>\n",
              "      <td>1</td>\n",
              "      <td>0</td>\n",
              "      <td>1974306.0</td>\n",
              "    </tr>\n",
              "    <tr>\n",
              "      <th>2487</th>\n",
              "      <td>2757</td>\n",
              "      <td>2015-05-07</td>\n",
              "      <td>2017-09-07</td>\n",
              "      <td>0.0</td>\n",
              "      <td>402</td>\n",
              "      <td>2015</td>\n",
              "      <td>2017</td>\n",
              "      <td>14.154279</td>\n",
              "      <td>0.000000</td>\n",
              "      <td>5.998937</td>\n",
              "      <td>...</td>\n",
              "      <td>False</td>\n",
              "      <td>False</td>\n",
              "      <td>False</td>\n",
              "      <td>False</td>\n",
              "      <td>False</td>\n",
              "      <td>2277</td>\n",
              "      <td>660</td>\n",
              "      <td>2</td>\n",
              "      <td>2</td>\n",
              "      <td>1403218.0</td>\n",
              "    </tr>\n",
              "    <tr>\n",
              "      <th>1756</th>\n",
              "      <td>2065</td>\n",
              "      <td>2014-06-23</td>\n",
              "      <td>2014-08-26</td>\n",
              "      <td>45.0</td>\n",
              "      <td>604</td>\n",
              "      <td>2014</td>\n",
              "      <td>2014</td>\n",
              "      <td>13.485341</td>\n",
              "      <td>3.828641</td>\n",
              "      <td>6.405228</td>\n",
              "      <td>...</td>\n",
              "      <td>False</td>\n",
              "      <td>False</td>\n",
              "      <td>False</td>\n",
              "      <td>False</td>\n",
              "      <td>False</td>\n",
              "      <td>2689</td>\n",
              "      <td>1244</td>\n",
              "      <td>1</td>\n",
              "      <td>0</td>\n",
              "      <td>718801.0</td>\n",
              "    </tr>\n",
              "    <tr>\n",
              "      <th>423</th>\n",
              "      <td>520</td>\n",
              "      <td>2002-02-02</td>\n",
              "      <td>2009-04-21</td>\n",
              "      <td>66.0</td>\n",
              "      <td>1040</td>\n",
              "      <td>2002</td>\n",
              "      <td>2009</td>\n",
              "      <td>13.329834</td>\n",
              "      <td>4.204693</td>\n",
              "      <td>6.947937</td>\n",
              "      <td>...</td>\n",
              "      <td>False</td>\n",
              "      <td>False</td>\n",
              "      <td>False</td>\n",
              "      <td>False</td>\n",
              "      <td>False</td>\n",
              "      <td>2325</td>\n",
              "      <td>609</td>\n",
              "      <td>1</td>\n",
              "      <td>7</td>\n",
              "      <td>615280.0</td>\n",
              "    </tr>\n",
              "    <tr>\n",
              "      <th>2996</th>\n",
              "      <td>25241</td>\n",
              "      <td>2018-07-31</td>\n",
              "      <td>2018-10-18</td>\n",
              "      <td>16.0</td>\n",
              "      <td>732</td>\n",
              "      <td>2018</td>\n",
              "      <td>2018</td>\n",
              "      <td>14.383038</td>\n",
              "      <td>2.833213</td>\n",
              "      <td>6.597146</td>\n",
              "      <td>...</td>\n",
              "      <td>False</td>\n",
              "      <td>False</td>\n",
              "      <td>False</td>\n",
              "      <td>False</td>\n",
              "      <td>False</td>\n",
              "      <td>721</td>\n",
              "      <td>1462</td>\n",
              "      <td>1</td>\n",
              "      <td>0</td>\n",
              "      <td>1103030.0</td>\n",
              "    </tr>\n",
              "  </tbody>\n",
              "</table>\n",
              "<p>5 rows × 26 columns</p>\n",
              "</div>\n",
              "    <div class=\"colab-df-buttons\">\n",
              "\n",
              "  <div class=\"colab-df-container\">\n",
              "    <button class=\"colab-df-convert\" onclick=\"convertToInteractive('df-27180958-06c5-4868-9b33-28b3c317ed55')\"\n",
              "            title=\"Convert this dataframe to an interactive table.\"\n",
              "            style=\"display:none;\">\n",
              "\n",
              "  <svg xmlns=\"http://www.w3.org/2000/svg\" height=\"24px\" viewBox=\"0 -960 960 960\">\n",
              "    <path d=\"M120-120v-720h720v720H120Zm60-500h600v-160H180v160Zm220 220h160v-160H400v160Zm0 220h160v-160H400v160ZM180-400h160v-160H180v160Zm440 0h160v-160H620v160ZM180-180h160v-160H180v160Zm440 0h160v-160H620v160Z\"/>\n",
              "  </svg>\n",
              "    </button>\n",
              "\n",
              "  <style>\n",
              "    .colab-df-container {\n",
              "      display:flex;\n",
              "      gap: 12px;\n",
              "    }\n",
              "\n",
              "    .colab-df-convert {\n",
              "      background-color: #E8F0FE;\n",
              "      border: none;\n",
              "      border-radius: 50%;\n",
              "      cursor: pointer;\n",
              "      display: none;\n",
              "      fill: #1967D2;\n",
              "      height: 32px;\n",
              "      padding: 0 0 0 0;\n",
              "      width: 32px;\n",
              "    }\n",
              "\n",
              "    .colab-df-convert:hover {\n",
              "      background-color: #E2EBFA;\n",
              "      box-shadow: 0px 1px 2px rgba(60, 64, 67, 0.3), 0px 1px 3px 1px rgba(60, 64, 67, 0.15);\n",
              "      fill: #174EA6;\n",
              "    }\n",
              "\n",
              "    .colab-df-buttons div {\n",
              "      margin-bottom: 4px;\n",
              "    }\n",
              "\n",
              "    [theme=dark] .colab-df-convert {\n",
              "      background-color: #3B4455;\n",
              "      fill: #D2E3FC;\n",
              "    }\n",
              "\n",
              "    [theme=dark] .colab-df-convert:hover {\n",
              "      background-color: #434B5C;\n",
              "      box-shadow: 0px 1px 3px 1px rgba(0, 0, 0, 0.15);\n",
              "      filter: drop-shadow(0px 1px 2px rgba(0, 0, 0, 0.3));\n",
              "      fill: #FFFFFF;\n",
              "    }\n",
              "  </style>\n",
              "\n",
              "    <script>\n",
              "      const buttonEl =\n",
              "        document.querySelector('#df-27180958-06c5-4868-9b33-28b3c317ed55 button.colab-df-convert');\n",
              "      buttonEl.style.display =\n",
              "        google.colab.kernel.accessAllowed ? 'block' : 'none';\n",
              "\n",
              "      async function convertToInteractive(key) {\n",
              "        const element = document.querySelector('#df-27180958-06c5-4868-9b33-28b3c317ed55');\n",
              "        const dataTable =\n",
              "          await google.colab.kernel.invokeFunction('convertToInteractive',\n",
              "                                                    [key], {});\n",
              "        if (!dataTable) return;\n",
              "\n",
              "        const docLinkHtml = 'Like what you see? Visit the ' +\n",
              "          '<a target=\"_blank\" href=https://colab.research.google.com/notebooks/data_table.ipynb>data table notebook</a>'\n",
              "          + ' to learn more about interactive tables.';\n",
              "        element.innerHTML = '';\n",
              "        dataTable['output_type'] = 'display_data';\n",
              "        await google.colab.output.renderOutput(dataTable, element);\n",
              "        const docLink = document.createElement('div');\n",
              "        docLink.innerHTML = docLinkHtml;\n",
              "        element.appendChild(docLink);\n",
              "      }\n",
              "    </script>\n",
              "  </div>\n",
              "\n",
              "\n",
              "    <div id=\"df-853b699b-f284-4be9-83a9-d2cffa9ea3b1\">\n",
              "      <button class=\"colab-df-quickchart\" onclick=\"quickchart('df-853b699b-f284-4be9-83a9-d2cffa9ea3b1')\"\n",
              "                title=\"Suggest charts\"\n",
              "                style=\"display:none;\">\n",
              "\n",
              "<svg xmlns=\"http://www.w3.org/2000/svg\" height=\"24px\"viewBox=\"0 0 24 24\"\n",
              "     width=\"24px\">\n",
              "    <g>\n",
              "        <path d=\"M19 3H5c-1.1 0-2 .9-2 2v14c0 1.1.9 2 2 2h14c1.1 0 2-.9 2-2V5c0-1.1-.9-2-2-2zM9 17H7v-7h2v7zm4 0h-2V7h2v10zm4 0h-2v-4h2v4z\"/>\n",
              "    </g>\n",
              "</svg>\n",
              "      </button>\n",
              "\n",
              "<style>\n",
              "  .colab-df-quickchart {\n",
              "      --bg-color: #E8F0FE;\n",
              "      --fill-color: #1967D2;\n",
              "      --hover-bg-color: #E2EBFA;\n",
              "      --hover-fill-color: #174EA6;\n",
              "      --disabled-fill-color: #AAA;\n",
              "      --disabled-bg-color: #DDD;\n",
              "  }\n",
              "\n",
              "  [theme=dark] .colab-df-quickchart {\n",
              "      --bg-color: #3B4455;\n",
              "      --fill-color: #D2E3FC;\n",
              "      --hover-bg-color: #434B5C;\n",
              "      --hover-fill-color: #FFFFFF;\n",
              "      --disabled-bg-color: #3B4455;\n",
              "      --disabled-fill-color: #666;\n",
              "  }\n",
              "\n",
              "  .colab-df-quickchart {\n",
              "    background-color: var(--bg-color);\n",
              "    border: none;\n",
              "    border-radius: 50%;\n",
              "    cursor: pointer;\n",
              "    display: none;\n",
              "    fill: var(--fill-color);\n",
              "    height: 32px;\n",
              "    padding: 0;\n",
              "    width: 32px;\n",
              "  }\n",
              "\n",
              "  .colab-df-quickchart:hover {\n",
              "    background-color: var(--hover-bg-color);\n",
              "    box-shadow: 0 1px 2px rgba(60, 64, 67, 0.3), 0 1px 3px 1px rgba(60, 64, 67, 0.15);\n",
              "    fill: var(--button-hover-fill-color);\n",
              "  }\n",
              "\n",
              "  .colab-df-quickchart-complete:disabled,\n",
              "  .colab-df-quickchart-complete:disabled:hover {\n",
              "    background-color: var(--disabled-bg-color);\n",
              "    fill: var(--disabled-fill-color);\n",
              "    box-shadow: none;\n",
              "  }\n",
              "\n",
              "  .colab-df-spinner {\n",
              "    border: 2px solid var(--fill-color);\n",
              "    border-color: transparent;\n",
              "    border-bottom-color: var(--fill-color);\n",
              "    animation:\n",
              "      spin 1s steps(1) infinite;\n",
              "  }\n",
              "\n",
              "  @keyframes spin {\n",
              "    0% {\n",
              "      border-color: transparent;\n",
              "      border-bottom-color: var(--fill-color);\n",
              "      border-left-color: var(--fill-color);\n",
              "    }\n",
              "    20% {\n",
              "      border-color: transparent;\n",
              "      border-left-color: var(--fill-color);\n",
              "      border-top-color: var(--fill-color);\n",
              "    }\n",
              "    30% {\n",
              "      border-color: transparent;\n",
              "      border-left-color: var(--fill-color);\n",
              "      border-top-color: var(--fill-color);\n",
              "      border-right-color: var(--fill-color);\n",
              "    }\n",
              "    40% {\n",
              "      border-color: transparent;\n",
              "      border-right-color: var(--fill-color);\n",
              "      border-top-color: var(--fill-color);\n",
              "    }\n",
              "    60% {\n",
              "      border-color: transparent;\n",
              "      border-right-color: var(--fill-color);\n",
              "    }\n",
              "    80% {\n",
              "      border-color: transparent;\n",
              "      border-right-color: var(--fill-color);\n",
              "      border-bottom-color: var(--fill-color);\n",
              "    }\n",
              "    90% {\n",
              "      border-color: transparent;\n",
              "      border-bottom-color: var(--fill-color);\n",
              "    }\n",
              "  }\n",
              "</style>\n",
              "\n",
              "      <script>\n",
              "        async function quickchart(key) {\n",
              "          const quickchartButtonEl =\n",
              "            document.querySelector('#' + key + ' button');\n",
              "          quickchartButtonEl.disabled = true;  // To prevent multiple clicks.\n",
              "          quickchartButtonEl.classList.add('colab-df-spinner');\n",
              "          try {\n",
              "            const charts = await google.colab.kernel.invokeFunction(\n",
              "                'suggestCharts', [key], {});\n",
              "          } catch (error) {\n",
              "            console.error('Error during call to suggestCharts:', error);\n",
              "          }\n",
              "          quickchartButtonEl.classList.remove('colab-df-spinner');\n",
              "          quickchartButtonEl.classList.add('colab-df-quickchart-complete');\n",
              "        }\n",
              "        (() => {\n",
              "          let quickchartButtonEl =\n",
              "            document.querySelector('#df-853b699b-f284-4be9-83a9-d2cffa9ea3b1 button');\n",
              "          quickchartButtonEl.style.display =\n",
              "            google.colab.kernel.accessAllowed ? 'block' : 'none';\n",
              "        })();\n",
              "      </script>\n",
              "    </div>\n",
              "\n",
              "    </div>\n",
              "  </div>\n"
            ],
            "application/vnd.google.colaboratory.intrinsic+json": {
              "type": "dataframe",
              "variable_name": "X_train"
            }
          },
          "metadata": {},
          "execution_count": 87
        }
      ]
    },
    {
      "cell_type": "code",
      "source": [
        "y_train.head()"
      ],
      "metadata": {
        "colab": {
          "base_uri": "https://localhost:8080/",
          "height": 241
        },
        "id": "VKibxH1JYIai",
        "outputId": "b45f0169-bac7-4d24-d3e4-a07a4e170d2b"
      },
      "execution_count": 88,
      "outputs": [
        {
          "output_type": "execute_result",
          "data": {
            "text/plain": [
              "2194    2645240\n",
              "2487    1403218\n",
              "1756     718801\n",
              "423      615280\n",
              "2996    1763899\n",
              "Name: views, dtype: int64"
            ],
            "text/html": [
              "<div>\n",
              "<style scoped>\n",
              "    .dataframe tbody tr th:only-of-type {\n",
              "        vertical-align: middle;\n",
              "    }\n",
              "\n",
              "    .dataframe tbody tr th {\n",
              "        vertical-align: top;\n",
              "    }\n",
              "\n",
              "    .dataframe thead th {\n",
              "        text-align: right;\n",
              "    }\n",
              "</style>\n",
              "<table border=\"1\" class=\"dataframe\">\n",
              "  <thead>\n",
              "    <tr style=\"text-align: right;\">\n",
              "      <th></th>\n",
              "      <th>views</th>\n",
              "    </tr>\n",
              "  </thead>\n",
              "  <tbody>\n",
              "    <tr>\n",
              "      <th>2194</th>\n",
              "      <td>2645240</td>\n",
              "    </tr>\n",
              "    <tr>\n",
              "      <th>2487</th>\n",
              "      <td>1403218</td>\n",
              "    </tr>\n",
              "    <tr>\n",
              "      <th>1756</th>\n",
              "      <td>718801</td>\n",
              "    </tr>\n",
              "    <tr>\n",
              "      <th>423</th>\n",
              "      <td>615280</td>\n",
              "    </tr>\n",
              "    <tr>\n",
              "      <th>2996</th>\n",
              "      <td>1763899</td>\n",
              "    </tr>\n",
              "  </tbody>\n",
              "</table>\n",
              "</div><br><label><b>dtype:</b> int64</label>"
            ]
          },
          "metadata": {},
          "execution_count": 88
        }
      ]
    },
    {
      "cell_type": "code",
      "source": [
        "X_test.head()"
      ],
      "metadata": {
        "colab": {
          "base_uri": "https://localhost:8080/",
          "height": 273
        },
        "id": "OZYz03KZYPuS",
        "outputId": "52fc6952-ffa7-4d04-84a5-97399ba21381"
      },
      "execution_count": 89,
      "outputs": [
        {
          "output_type": "execute_result",
          "data": {
            "text/plain": [
              "      talk_id recorded_date published_date  comments  duration  recorded_year  \\\n",
              "761       995    2010-07-14     2010-10-29     148.0       671           2010   \n",
              "1047     1307    2011-09-24     2011-12-18     121.0      1085           2011   \n",
              "1580     1879    2013-06-12     2013-11-26    1050.0       811           2013   \n",
              "3479    41223    2019-05-20     2019-05-20       0.0       287           2019   \n",
              "3153    32269    2016-10-27     2019-02-05      17.0       680           2016   \n",
              "\n",
              "      published_year  log_views  log_comments  log_duration  ...  \\\n",
              "761             2010  13.759999      5.003946      6.510258  ...   \n",
              "1047            2011  12.646512      4.804021      6.990257  ...   \n",
              "1580            2013  14.941232      6.957497      6.699500  ...   \n",
              "3479            2019  13.696434      0.000000      5.662960  ...   \n",
              "3153            2019  14.649995      2.890372      6.523562  ...   \n",
              "\n",
              "      native_lang_ja  native_lang_ko  native_lang_pt  native_lang_pt-br  \\\n",
              "761            False           False           False              False   \n",
              "1047           False           False           False              False   \n",
              "1580           False           False           False              False   \n",
              "3479           False           False           False              False   \n",
              "3153           False           False           False              False   \n",
              "\n",
              "      native_lang_zh-cn  speaker_1_encoded  occupations_encoded  num_speakers  \\\n",
              "761               False               2220                 1275             1   \n",
              "1047              False               3064                 1436             1   \n",
              "1580              False               2989                 1340             1   \n",
              "3479              False               1624                 2038             1   \n",
              "3153              False               2757                 1096             1   \n",
              "\n",
              "      publish_delay  speaker_avg_views  \n",
              "761               0           946000.0  \n",
              "1047              0           310677.0  \n",
              "1580              0          3082440.0  \n",
              "3479              0           739068.5  \n",
              "3153              3          2303625.0  \n",
              "\n",
              "[5 rows x 26 columns]"
            ],
            "text/html": [
              "\n",
              "  <div id=\"df-6b380046-1904-4f0d-a2e2-6027b7e70081\" class=\"colab-df-container\">\n",
              "    <div>\n",
              "<style scoped>\n",
              "    .dataframe tbody tr th:only-of-type {\n",
              "        vertical-align: middle;\n",
              "    }\n",
              "\n",
              "    .dataframe tbody tr th {\n",
              "        vertical-align: top;\n",
              "    }\n",
              "\n",
              "    .dataframe thead th {\n",
              "        text-align: right;\n",
              "    }\n",
              "</style>\n",
              "<table border=\"1\" class=\"dataframe\">\n",
              "  <thead>\n",
              "    <tr style=\"text-align: right;\">\n",
              "      <th></th>\n",
              "      <th>talk_id</th>\n",
              "      <th>recorded_date</th>\n",
              "      <th>published_date</th>\n",
              "      <th>comments</th>\n",
              "      <th>duration</th>\n",
              "      <th>recorded_year</th>\n",
              "      <th>published_year</th>\n",
              "      <th>log_views</th>\n",
              "      <th>log_comments</th>\n",
              "      <th>log_duration</th>\n",
              "      <th>...</th>\n",
              "      <th>native_lang_ja</th>\n",
              "      <th>native_lang_ko</th>\n",
              "      <th>native_lang_pt</th>\n",
              "      <th>native_lang_pt-br</th>\n",
              "      <th>native_lang_zh-cn</th>\n",
              "      <th>speaker_1_encoded</th>\n",
              "      <th>occupations_encoded</th>\n",
              "      <th>num_speakers</th>\n",
              "      <th>publish_delay</th>\n",
              "      <th>speaker_avg_views</th>\n",
              "    </tr>\n",
              "  </thead>\n",
              "  <tbody>\n",
              "    <tr>\n",
              "      <th>761</th>\n",
              "      <td>995</td>\n",
              "      <td>2010-07-14</td>\n",
              "      <td>2010-10-29</td>\n",
              "      <td>148.0</td>\n",
              "      <td>671</td>\n",
              "      <td>2010</td>\n",
              "      <td>2010</td>\n",
              "      <td>13.759999</td>\n",
              "      <td>5.003946</td>\n",
              "      <td>6.510258</td>\n",
              "      <td>...</td>\n",
              "      <td>False</td>\n",
              "      <td>False</td>\n",
              "      <td>False</td>\n",
              "      <td>False</td>\n",
              "      <td>False</td>\n",
              "      <td>2220</td>\n",
              "      <td>1275</td>\n",
              "      <td>1</td>\n",
              "      <td>0</td>\n",
              "      <td>946000.0</td>\n",
              "    </tr>\n",
              "    <tr>\n",
              "      <th>1047</th>\n",
              "      <td>1307</td>\n",
              "      <td>2011-09-24</td>\n",
              "      <td>2011-12-18</td>\n",
              "      <td>121.0</td>\n",
              "      <td>1085</td>\n",
              "      <td>2011</td>\n",
              "      <td>2011</td>\n",
              "      <td>12.646512</td>\n",
              "      <td>4.804021</td>\n",
              "      <td>6.990257</td>\n",
              "      <td>...</td>\n",
              "      <td>False</td>\n",
              "      <td>False</td>\n",
              "      <td>False</td>\n",
              "      <td>False</td>\n",
              "      <td>False</td>\n",
              "      <td>3064</td>\n",
              "      <td>1436</td>\n",
              "      <td>1</td>\n",
              "      <td>0</td>\n",
              "      <td>310677.0</td>\n",
              "    </tr>\n",
              "    <tr>\n",
              "      <th>1580</th>\n",
              "      <td>1879</td>\n",
              "      <td>2013-06-12</td>\n",
              "      <td>2013-11-26</td>\n",
              "      <td>1050.0</td>\n",
              "      <td>811</td>\n",
              "      <td>2013</td>\n",
              "      <td>2013</td>\n",
              "      <td>14.941232</td>\n",
              "      <td>6.957497</td>\n",
              "      <td>6.699500</td>\n",
              "      <td>...</td>\n",
              "      <td>False</td>\n",
              "      <td>False</td>\n",
              "      <td>False</td>\n",
              "      <td>False</td>\n",
              "      <td>False</td>\n",
              "      <td>2989</td>\n",
              "      <td>1340</td>\n",
              "      <td>1</td>\n",
              "      <td>0</td>\n",
              "      <td>3082440.0</td>\n",
              "    </tr>\n",
              "    <tr>\n",
              "      <th>3479</th>\n",
              "      <td>41223</td>\n",
              "      <td>2019-05-20</td>\n",
              "      <td>2019-05-20</td>\n",
              "      <td>0.0</td>\n",
              "      <td>287</td>\n",
              "      <td>2019</td>\n",
              "      <td>2019</td>\n",
              "      <td>13.696434</td>\n",
              "      <td>0.000000</td>\n",
              "      <td>5.662960</td>\n",
              "      <td>...</td>\n",
              "      <td>False</td>\n",
              "      <td>False</td>\n",
              "      <td>False</td>\n",
              "      <td>False</td>\n",
              "      <td>False</td>\n",
              "      <td>1624</td>\n",
              "      <td>2038</td>\n",
              "      <td>1</td>\n",
              "      <td>0</td>\n",
              "      <td>739068.5</td>\n",
              "    </tr>\n",
              "    <tr>\n",
              "      <th>3153</th>\n",
              "      <td>32269</td>\n",
              "      <td>2016-10-27</td>\n",
              "      <td>2019-02-05</td>\n",
              "      <td>17.0</td>\n",
              "      <td>680</td>\n",
              "      <td>2016</td>\n",
              "      <td>2019</td>\n",
              "      <td>14.649995</td>\n",
              "      <td>2.890372</td>\n",
              "      <td>6.523562</td>\n",
              "      <td>...</td>\n",
              "      <td>False</td>\n",
              "      <td>False</td>\n",
              "      <td>False</td>\n",
              "      <td>False</td>\n",
              "      <td>False</td>\n",
              "      <td>2757</td>\n",
              "      <td>1096</td>\n",
              "      <td>1</td>\n",
              "      <td>3</td>\n",
              "      <td>2303625.0</td>\n",
              "    </tr>\n",
              "  </tbody>\n",
              "</table>\n",
              "<p>5 rows × 26 columns</p>\n",
              "</div>\n",
              "    <div class=\"colab-df-buttons\">\n",
              "\n",
              "  <div class=\"colab-df-container\">\n",
              "    <button class=\"colab-df-convert\" onclick=\"convertToInteractive('df-6b380046-1904-4f0d-a2e2-6027b7e70081')\"\n",
              "            title=\"Convert this dataframe to an interactive table.\"\n",
              "            style=\"display:none;\">\n",
              "\n",
              "  <svg xmlns=\"http://www.w3.org/2000/svg\" height=\"24px\" viewBox=\"0 -960 960 960\">\n",
              "    <path d=\"M120-120v-720h720v720H120Zm60-500h600v-160H180v160Zm220 220h160v-160H400v160Zm0 220h160v-160H400v160ZM180-400h160v-160H180v160Zm440 0h160v-160H620v160ZM180-180h160v-160H180v160Zm440 0h160v-160H620v160Z\"/>\n",
              "  </svg>\n",
              "    </button>\n",
              "\n",
              "  <style>\n",
              "    .colab-df-container {\n",
              "      display:flex;\n",
              "      gap: 12px;\n",
              "    }\n",
              "\n",
              "    .colab-df-convert {\n",
              "      background-color: #E8F0FE;\n",
              "      border: none;\n",
              "      border-radius: 50%;\n",
              "      cursor: pointer;\n",
              "      display: none;\n",
              "      fill: #1967D2;\n",
              "      height: 32px;\n",
              "      padding: 0 0 0 0;\n",
              "      width: 32px;\n",
              "    }\n",
              "\n",
              "    .colab-df-convert:hover {\n",
              "      background-color: #E2EBFA;\n",
              "      box-shadow: 0px 1px 2px rgba(60, 64, 67, 0.3), 0px 1px 3px 1px rgba(60, 64, 67, 0.15);\n",
              "      fill: #174EA6;\n",
              "    }\n",
              "\n",
              "    .colab-df-buttons div {\n",
              "      margin-bottom: 4px;\n",
              "    }\n",
              "\n",
              "    [theme=dark] .colab-df-convert {\n",
              "      background-color: #3B4455;\n",
              "      fill: #D2E3FC;\n",
              "    }\n",
              "\n",
              "    [theme=dark] .colab-df-convert:hover {\n",
              "      background-color: #434B5C;\n",
              "      box-shadow: 0px 1px 3px 1px rgba(0, 0, 0, 0.15);\n",
              "      filter: drop-shadow(0px 1px 2px rgba(0, 0, 0, 0.3));\n",
              "      fill: #FFFFFF;\n",
              "    }\n",
              "  </style>\n",
              "\n",
              "    <script>\n",
              "      const buttonEl =\n",
              "        document.querySelector('#df-6b380046-1904-4f0d-a2e2-6027b7e70081 button.colab-df-convert');\n",
              "      buttonEl.style.display =\n",
              "        google.colab.kernel.accessAllowed ? 'block' : 'none';\n",
              "\n",
              "      async function convertToInteractive(key) {\n",
              "        const element = document.querySelector('#df-6b380046-1904-4f0d-a2e2-6027b7e70081');\n",
              "        const dataTable =\n",
              "          await google.colab.kernel.invokeFunction('convertToInteractive',\n",
              "                                                    [key], {});\n",
              "        if (!dataTable) return;\n",
              "\n",
              "        const docLinkHtml = 'Like what you see? Visit the ' +\n",
              "          '<a target=\"_blank\" href=https://colab.research.google.com/notebooks/data_table.ipynb>data table notebook</a>'\n",
              "          + ' to learn more about interactive tables.';\n",
              "        element.innerHTML = '';\n",
              "        dataTable['output_type'] = 'display_data';\n",
              "        await google.colab.output.renderOutput(dataTable, element);\n",
              "        const docLink = document.createElement('div');\n",
              "        docLink.innerHTML = docLinkHtml;\n",
              "        element.appendChild(docLink);\n",
              "      }\n",
              "    </script>\n",
              "  </div>\n",
              "\n",
              "\n",
              "    <div id=\"df-65052bd4-b795-48fb-bc29-911beaca6b64\">\n",
              "      <button class=\"colab-df-quickchart\" onclick=\"quickchart('df-65052bd4-b795-48fb-bc29-911beaca6b64')\"\n",
              "                title=\"Suggest charts\"\n",
              "                style=\"display:none;\">\n",
              "\n",
              "<svg xmlns=\"http://www.w3.org/2000/svg\" height=\"24px\"viewBox=\"0 0 24 24\"\n",
              "     width=\"24px\">\n",
              "    <g>\n",
              "        <path d=\"M19 3H5c-1.1 0-2 .9-2 2v14c0 1.1.9 2 2 2h14c1.1 0 2-.9 2-2V5c0-1.1-.9-2-2-2zM9 17H7v-7h2v7zm4 0h-2V7h2v10zm4 0h-2v-4h2v4z\"/>\n",
              "    </g>\n",
              "</svg>\n",
              "      </button>\n",
              "\n",
              "<style>\n",
              "  .colab-df-quickchart {\n",
              "      --bg-color: #E8F0FE;\n",
              "      --fill-color: #1967D2;\n",
              "      --hover-bg-color: #E2EBFA;\n",
              "      --hover-fill-color: #174EA6;\n",
              "      --disabled-fill-color: #AAA;\n",
              "      --disabled-bg-color: #DDD;\n",
              "  }\n",
              "\n",
              "  [theme=dark] .colab-df-quickchart {\n",
              "      --bg-color: #3B4455;\n",
              "      --fill-color: #D2E3FC;\n",
              "      --hover-bg-color: #434B5C;\n",
              "      --hover-fill-color: #FFFFFF;\n",
              "      --disabled-bg-color: #3B4455;\n",
              "      --disabled-fill-color: #666;\n",
              "  }\n",
              "\n",
              "  .colab-df-quickchart {\n",
              "    background-color: var(--bg-color);\n",
              "    border: none;\n",
              "    border-radius: 50%;\n",
              "    cursor: pointer;\n",
              "    display: none;\n",
              "    fill: var(--fill-color);\n",
              "    height: 32px;\n",
              "    padding: 0;\n",
              "    width: 32px;\n",
              "  }\n",
              "\n",
              "  .colab-df-quickchart:hover {\n",
              "    background-color: var(--hover-bg-color);\n",
              "    box-shadow: 0 1px 2px rgba(60, 64, 67, 0.3), 0 1px 3px 1px rgba(60, 64, 67, 0.15);\n",
              "    fill: var(--button-hover-fill-color);\n",
              "  }\n",
              "\n",
              "  .colab-df-quickchart-complete:disabled,\n",
              "  .colab-df-quickchart-complete:disabled:hover {\n",
              "    background-color: var(--disabled-bg-color);\n",
              "    fill: var(--disabled-fill-color);\n",
              "    box-shadow: none;\n",
              "  }\n",
              "\n",
              "  .colab-df-spinner {\n",
              "    border: 2px solid var(--fill-color);\n",
              "    border-color: transparent;\n",
              "    border-bottom-color: var(--fill-color);\n",
              "    animation:\n",
              "      spin 1s steps(1) infinite;\n",
              "  }\n",
              "\n",
              "  @keyframes spin {\n",
              "    0% {\n",
              "      border-color: transparent;\n",
              "      border-bottom-color: var(--fill-color);\n",
              "      border-left-color: var(--fill-color);\n",
              "    }\n",
              "    20% {\n",
              "      border-color: transparent;\n",
              "      border-left-color: var(--fill-color);\n",
              "      border-top-color: var(--fill-color);\n",
              "    }\n",
              "    30% {\n",
              "      border-color: transparent;\n",
              "      border-left-color: var(--fill-color);\n",
              "      border-top-color: var(--fill-color);\n",
              "      border-right-color: var(--fill-color);\n",
              "    }\n",
              "    40% {\n",
              "      border-color: transparent;\n",
              "      border-right-color: var(--fill-color);\n",
              "      border-top-color: var(--fill-color);\n",
              "    }\n",
              "    60% {\n",
              "      border-color: transparent;\n",
              "      border-right-color: var(--fill-color);\n",
              "    }\n",
              "    80% {\n",
              "      border-color: transparent;\n",
              "      border-right-color: var(--fill-color);\n",
              "      border-bottom-color: var(--fill-color);\n",
              "    }\n",
              "    90% {\n",
              "      border-color: transparent;\n",
              "      border-bottom-color: var(--fill-color);\n",
              "    }\n",
              "  }\n",
              "</style>\n",
              "\n",
              "      <script>\n",
              "        async function quickchart(key) {\n",
              "          const quickchartButtonEl =\n",
              "            document.querySelector('#' + key + ' button');\n",
              "          quickchartButtonEl.disabled = true;  // To prevent multiple clicks.\n",
              "          quickchartButtonEl.classList.add('colab-df-spinner');\n",
              "          try {\n",
              "            const charts = await google.colab.kernel.invokeFunction(\n",
              "                'suggestCharts', [key], {});\n",
              "          } catch (error) {\n",
              "            console.error('Error during call to suggestCharts:', error);\n",
              "          }\n",
              "          quickchartButtonEl.classList.remove('colab-df-spinner');\n",
              "          quickchartButtonEl.classList.add('colab-df-quickchart-complete');\n",
              "        }\n",
              "        (() => {\n",
              "          let quickchartButtonEl =\n",
              "            document.querySelector('#df-65052bd4-b795-48fb-bc29-911beaca6b64 button');\n",
              "          quickchartButtonEl.style.display =\n",
              "            google.colab.kernel.accessAllowed ? 'block' : 'none';\n",
              "        })();\n",
              "      </script>\n",
              "    </div>\n",
              "\n",
              "    </div>\n",
              "  </div>\n"
            ],
            "application/vnd.google.colaboratory.intrinsic+json": {
              "type": "dataframe",
              "variable_name": "X_test"
            }
          },
          "metadata": {},
          "execution_count": 89
        }
      ]
    },
    {
      "cell_type": "code",
      "source": [
        "y_test.head()"
      ],
      "metadata": {
        "colab": {
          "base_uri": "https://localhost:8080/",
          "height": 241
        },
        "id": "YX4buNQBYUjD",
        "outputId": "b8b1f13c-b13c-43cc-e0f3-37d698d4ddfb"
      },
      "execution_count": 91,
      "outputs": [
        {
          "output_type": "execute_result",
          "data": {
            "text/plain": [
              "761      946000\n",
              "1047     310677\n",
              "1580    3082440\n",
              "3479     887739\n",
              "3153    2303625\n",
              "Name: views, dtype: int64"
            ],
            "text/html": [
              "<div>\n",
              "<style scoped>\n",
              "    .dataframe tbody tr th:only-of-type {\n",
              "        vertical-align: middle;\n",
              "    }\n",
              "\n",
              "    .dataframe tbody tr th {\n",
              "        vertical-align: top;\n",
              "    }\n",
              "\n",
              "    .dataframe thead th {\n",
              "        text-align: right;\n",
              "    }\n",
              "</style>\n",
              "<table border=\"1\" class=\"dataframe\">\n",
              "  <thead>\n",
              "    <tr style=\"text-align: right;\">\n",
              "      <th></th>\n",
              "      <th>views</th>\n",
              "    </tr>\n",
              "  </thead>\n",
              "  <tbody>\n",
              "    <tr>\n",
              "      <th>761</th>\n",
              "      <td>946000</td>\n",
              "    </tr>\n",
              "    <tr>\n",
              "      <th>1047</th>\n",
              "      <td>310677</td>\n",
              "    </tr>\n",
              "    <tr>\n",
              "      <th>1580</th>\n",
              "      <td>3082440</td>\n",
              "    </tr>\n",
              "    <tr>\n",
              "      <th>3479</th>\n",
              "      <td>887739</td>\n",
              "    </tr>\n",
              "    <tr>\n",
              "      <th>3153</th>\n",
              "      <td>2303625</td>\n",
              "    </tr>\n",
              "  </tbody>\n",
              "</table>\n",
              "</div><br><label><b>dtype:</b> int64</label>"
            ]
          },
          "metadata": {},
          "execution_count": 91
        }
      ]
    },
    {
      "cell_type": "markdown",
      "source": [
        "##### What data splitting ratio have you used and why?"
      ],
      "metadata": {
        "id": "qjKvONjwE8ra"
      }
    },
    {
      "cell_type": "markdown",
      "source": [
        "I have used 80:20"
      ],
      "metadata": {
        "id": "Y2lJ8cobFDb_"
      }
    },
    {
      "cell_type": "markdown",
      "source": [
        "Feature Engineering on some columns\n"
      ],
      "metadata": {
        "id": "lNVW6XKGN-BI"
      }
    },
    {
      "cell_type": "code",
      "source": [
        "# Ensure datetime type\n",
        "X_train['recorded_date'] = pd.to_datetime(X_train['recorded_date'], errors='coerce')\n",
        "X_test['recorded_date'] = pd.to_datetime(X_test['recorded_date'], errors='coerce')\n",
        "\n",
        "X_train['published_date'] = pd.to_datetime(X_train['published_date'], errors='coerce')\n",
        "X_test['published_date'] = pd.to_datetime(X_test['published_date'], errors='coerce')\n",
        "\n",
        "# Extract numeric parts\n",
        "X_train['recorded_year'] = X_train['recorded_date'].dt.year\n",
        "X_train['recorded_month'] = X_train['recorded_date'].dt.month\n",
        "\n",
        "X_test['recorded_year'] = X_test['recorded_date'].dt.year\n",
        "X_test['recorded_month'] = X_test['recorded_date'].dt.month\n",
        "\n",
        "X_train['published_year'] = X_train['published_date'].dt.year\n",
        "X_train['published_month'] = X_train['published_date'].dt.month\n",
        "\n",
        "X_test['published_year'] = X_test['published_date'].dt.year\n",
        "X_test['published_month'] = X_test['published_date'].dt.month\n",
        "\n",
        "# Drop original datetime columns\n",
        "X_train.drop(columns=['recorded_date', 'published_date'], inplace=True)\n",
        "X_test.drop(columns=['recorded_date', 'published_date'], inplace=True)\n"
      ],
      "metadata": {
        "id": "VaF2hVmYavMW"
      },
      "execution_count": 95,
      "outputs": []
    },
    {
      "cell_type": "code",
      "source": [
        "# Convert object-based one-hot columns to int (0/1)\n",
        "lang_cols = [col for col in X_train.columns if 'native_lang' in col]\n",
        "\n",
        "X_train[lang_cols] = X_train[lang_cols].astype(int)\n",
        "X_test[lang_cols] = X_test[lang_cols].astype(int)"
      ],
      "metadata": {
        "id": "3sE2Wbdoa6JY"
      },
      "execution_count": 97,
      "outputs": []
    },
    {
      "cell_type": "code",
      "source": [
        "print(X_train.select_dtypes(exclude=[np.number]).columns)"
      ],
      "metadata": {
        "colab": {
          "base_uri": "https://localhost:8080/"
        },
        "id": "L9IKt212acQT",
        "outputId": "cb418b56-1544-43ee-a2a2-d5c17e75ac54"
      },
      "execution_count": 98,
      "outputs": [
        {
          "output_type": "stream",
          "name": "stdout",
          "text": [
            "Index([], dtype='object')\n"
          ]
        }
      ]
    },
    {
      "cell_type": "markdown",
      "source": [
        "## ***ML Model Implementation***"
      ],
      "metadata": {
        "id": "VfCC591jGiD4"
      }
    },
    {
      "cell_type": "markdown",
      "source": [
        "### ML Model - 1"
      ],
      "metadata": {
        "id": "OB4l2ZhMeS1U"
      }
    },
    {
      "cell_type": "code",
      "source": [
        "from sklearn.linear_model import LinearRegression\n",
        "from sklearn.metrics import mean_absolute_error, mean_squared_error, r2_score\n",
        "import numpy as np\n",
        "\n",
        "# Initialize and train the model\n",
        "lr = LinearRegression()\n",
        "lr.fit(X_train, y_train)\n",
        "\n",
        "# Predict on training and test data\n",
        "y_pred_train_lr = lr.predict(X_train)\n",
        "y_pred_test_lr = lr.predict(X_test)\n",
        "\n",
        "# Evaluate on training data\n",
        "mae_train_lr = mean_absolute_error(y_train, y_pred_train_lr)\n",
        "rmse_train_lr = np.sqrt(mean_squared_error(y_train, y_pred_train_lr))\n",
        "r2_train_lr = r2_score(y_train, y_pred_train_lr)\n",
        "\n",
        "# Evaluate on test data\n",
        "mae_test_lr = mean_absolute_error(y_test, y_pred_test_lr)\n",
        "rmse_test_lr = np.sqrt(mean_squared_error(y_test, y_pred_test_lr))\n",
        "r2_test_lr = r2_score(y_test, y_pred_test_lr)\n",
        "\n",
        "\n",
        "print(\"\\n Model Evaluation - Linear Regression\")\n",
        "print(f\"{'Train MAE':<15}: {mae_train_lr:.2f}\")\n",
        "print(f\"{'Train RMSE':<15}: {rmse_train_lr:.2f}\")\n",
        "print(f\"{'Train R2 Score':<15}: {r2_train_lr:.4f}\")\n",
        "print(f\"{'Test MAE':<15}: {mae_test_lr:.2f}\")\n",
        "print(f\"{'Test RMSE':<15}: {rmse_test_lr:.2f}\")\n",
        "print(f\"{'Test R2 Score':<15}: {r2_test_lr:.4f}\")\n"
      ],
      "metadata": {
        "id": "7ebyywQieS1U",
        "colab": {
          "base_uri": "https://localhost:8080/"
        },
        "outputId": "c2130fb3-78a8-40f7-b8b5-9e513eaccd9c"
      },
      "execution_count": 114,
      "outputs": [
        {
          "output_type": "stream",
          "name": "stdout",
          "text": [
            "\n",
            " Model Evaluation - Linear Regression\n",
            "Train MAE      : 528879.42\n",
            "Train RMSE     : 1608274.10\n",
            "Train R2 Score : 0.7944\n",
            "Test MAE       : 434129.73\n",
            "Test RMSE      : 979754.00\n",
            "Test R2 Score  : 0.8959\n"
          ]
        }
      ]
    },
    {
      "cell_type": "markdown",
      "source": [
        "#### 1. Explain the ML Model used and it's performance using Evaluation metric Score Chart."
      ],
      "metadata": {
        "id": "ArJBuiUVfxKd"
      }
    },
    {
      "cell_type": "markdown",
      "source": [
        "Linear Regression is a baseline model that assumes a linear relationship between the independent features and the target (views). It’s fast, interpretable, and good for testing whether simple relationships exist."
      ],
      "metadata": {
        "id": "24knYcl2Zs9u"
      }
    },
    {
      "cell_type": "code",
      "source": [
        "# Visualizing evaluation Metric Score chart\n",
        "\n",
        "fig, ax1 = plt.subplots(figsize=(8, 5))\n",
        "\n",
        "# First y-axis for MAE & RMSE\n",
        "ax1.bar(['MAE', 'RMSE'], [mae_lr, rmse_lr], color=['skyblue', 'lightgray'])\n",
        "ax1.set_ylabel('Error Score')\n",
        "ax1.set_ylim(0, max(rmse_lr, mae_lr) * 1.2)\n",
        "\n",
        "# Second y-axis for R²\n",
        "ax2 = ax1.twinx()\n",
        "ax2.bar(['R²'], [r2_lr], color='salmon', width=0.4)\n",
        "ax2.set_ylabel('R² Score')\n",
        "ax2.set_ylim(0, 1)  # R² is usually between 0 and 1\n",
        "\n",
        "plt.title(\"Linear Regression - Evaluation Metrics\")\n",
        "plt.show()"
      ],
      "metadata": {
        "id": "rqD5ZohzfxKe",
        "colab": {
          "base_uri": "https://localhost:8080/",
          "height": 468
        },
        "outputId": "454a1d74-68db-4f58-d693-b15a685bc9a0"
      },
      "execution_count": 103,
      "outputs": [
        {
          "output_type": "display_data",
          "data": {
            "text/plain": [
              "<Figure size 800x500 with 2 Axes>"
            ],
            "image/png": "[encoded data removed]"
          },
          "metadata": {}
        }
      ]
    },
    {
      "cell_type": "markdown",
      "source": [
        "#### 2. Cross- Validation & Hyperparameter Tuning"
      ],
      "metadata": {
        "id": "4qY1EAkEfxKe"
      }
    },
    {
      "cell_type": "code",
      "source": [
        "from sklearn.linear_model import Ridge\n",
        "from sklearn.model_selection import GridSearchCV\n",
        "from sklearn.metrics import mean_absolute_error, mean_squared_error, r2_score\n",
        "import numpy as np\n",
        "import pandas as pd\n",
        "\n",
        "# Define the model\n",
        "ridge = Ridge()\n",
        "\n",
        "# Define hyperparameter grid\n",
        "param_grid = {\n",
        "    'alpha': [0.001, 0.01, 0.1, 1, 10, 100]\n",
        "}\n",
        "\n",
        "# Setup GridSearchCV\n",
        "grid_search_ridge = GridSearchCV(estimator=ridge,\n",
        "                                 param_grid=param_grid,\n",
        "                                 scoring='r2',\n",
        "                                 cv=5,\n",
        "                                 n_jobs=-1,\n",
        "                                 verbose=1)\n",
        "\n",
        "# Fit the model\n",
        "grid_search_ridge.fit(X_train, y_train)\n",
        "best_ridge = grid_search_ridge.best_estimator_\n",
        "\n",
        "# Predict\n",
        "y_pred_ridge = best_ridge.predict(X_test)\n",
        "\n",
        "# Evaluate\n",
        "mae_ridge = mean_absolute_error(y_test, y_pred_ridge)\n",
        "rmse_ridge = np.sqrt(mean_squared_error(y_test, y_pred_ridge))\n",
        "r2_ridge = r2_score(y_test, y_pred_ridge)\n",
        "\n",
        "# Store results\n",
        "ridge_results = {\n",
        "    'Model': 'Ridge Regression (GridSearchCV)',\n",
        "    'Best Alpha': grid_search_ridge.best_params_['alpha'],\n",
        "    'MAE': round(mae_ridge, 2),\n",
        "    'RMSE': round(rmse_ridge, 2),\n",
        "    'R2 Score': round(r2_ridge, 4)\n",
        "}\n",
        "\n",
        "print(\"\\n Ridge Regression (with GridSearchCV) Evaluation:\")\n",
        "print(f\"{'Best Alpha':<15}: {ridge_results['Best Alpha']}\")\n",
        "print(f\"{'MAE':<15}: {ridge_results['MAE']}\")\n",
        "print(f\"{'RMSE':<15}: {ridge_results['RMSE']}\")\n",
        "print(f\"{'R2 Score':<15}: {ridge_results['R2 Score']}\")\n",
        "\n",
        "\n"
      ],
      "metadata": {
        "id": "Dy61ujd6fxKe",
        "colab": {
          "base_uri": "https://localhost:8080/"
        },
        "outputId": "62093f74-98f8-43e4-e059-1580483310e5"
      },
      "execution_count": 106,
      "outputs": [
        {
          "output_type": "stream",
          "name": "stdout",
          "text": [
            "Fitting 5 folds for each of 6 candidates, totalling 30 fits\n",
            "\n",
            " Ridge Regression (with GridSearchCV) Evaluation:\n",
            "Best Alpha     : 10\n",
            "MAE            : 431336.84\n",
            "RMSE           : 978565.32\n",
            "R2 Score       : 0.8962\n"
          ]
        }
      ]
    },
    {
      "cell_type": "markdown",
      "source": [
        "##### Which hyperparameter optimization technique have you used and why?"
      ],
      "metadata": {
        "id": "PiV4Ypx8fxKe"
      }
    },
    {
      "cell_type": "markdown",
      "source": [
        "I used Grid Search Cross-Validation (GridSearchCV) as the hyperparameter optimization technique. It systematically searches through a predefined set of hyperparameter values and evaluates model performance using cross-validation for each combination. I chose this method because it is simple, exhaustive, and works well for small search spaces like in regularized linear models (e.g., Ridge or Lasso), where tuning a parameter like alpha can significantly impact model performance."
      ],
      "metadata": {
        "id": "negyGRa7fxKf"
      }
    },
    {
      "cell_type": "markdown",
      "source": [
        "##### Have you seen any improvement? Note down the improvement with updates Evaluation metric Score Chart."
      ],
      "metadata": {
        "id": "TfvqoZmBfxKf"
      }
    },
    {
      "cell_type": "markdown",
      "source": [
        "The Ridge Regression model, optimized using GridSearchCV with the best alpha value of 10, yielded a slight improvement over the basic Linear Regression model. While the Test R² score increased marginally from **0.8959 to 0.8962**, and RMSE and MAE showed small reductions, the overall improvement was not significant.\n",
        "\n",
        "**This indicates that the basic Linear Regression model was already performing quite well, and the dataset likely did not suffer from severe multicollinearity or overfitting that Ridge regularization typically addresses.**"
      ],
      "metadata": {
        "id": "OaLui8CcfxKf"
      }
    },
    {
      "cell_type": "markdown",
      "source": [
        "### ML Model - 2"
      ],
      "metadata": {
        "id": "dJ2tPlVmpsJ0"
      }
    },
    {
      "cell_type": "markdown",
      "source": [
        "#### 1. Explain the ML Model used and it's performance using Evaluation metric Score Chart."
      ],
      "metadata": {
        "id": "JWYfwnehpsJ1"
      }
    },
    {
      "cell_type": "code",
      "source": [
        "from sklearn.ensemble import RandomForestRegressor\n",
        "from sklearn.metrics import mean_absolute_error, mean_squared_error, r2_score\n",
        "import numpy as np\n",
        "import pandas as pd\n",
        "\n",
        "# Initialize and train model\n",
        "rf_basic = RandomForestRegressor(random_state=42)\n",
        "rf_basic.fit(X_train, y_train)\n",
        "\n",
        "# Predict on test and train data\n",
        "y_pred_rf_test = rf_basic.predict(X_test)\n",
        "y_pred_rf_train = rf_basic.predict(X_train)\n",
        "\n",
        "# Evaluate Test Performance\n",
        "mae_test = mean_absolute_error(y_test, y_pred_rf_test)\n",
        "rmse_test = np.sqrt(mean_squared_error(y_test, y_pred_rf_test))\n",
        "r2_test = r2_score(y_test, y_pred_rf_test)\n",
        "\n",
        "# Evaluate Training Performance\n",
        "mae_train = mean_absolute_error(y_train, y_pred_rf_train)\n",
        "rmse_train = np.sqrt(mean_squared_error(y_train, y_pred_rf_train))\n",
        "r2_train = r2_score(y_train, y_pred_rf_train)\n",
        "\n",
        "# Store results\n",
        "rf_basic_results = {\n",
        "    'Model': 'Random Forest Regressor',\n",
        "    'Train MAE': round(mae_train, 2),\n",
        "    'Train RMSE': round(rmse_train, 2),\n",
        "    'Train R2': round(r2_train, 4),\n",
        "    'Test MAE': round(mae_test, 2),\n",
        "    'Test RMSE': round(rmse_test, 2),\n",
        "    'Test R2': round(r2_test, 4)\n",
        "}\n",
        "\n",
        "print(\"\\n Random Forest Regressor Evaluation:\")\n",
        "print(f\"{'Train MAE':<15}: {rf_basic_results['Train MAE']}\")\n",
        "print(f\"{'Train RMSE':<15}: {rf_basic_results['Train RMSE']}\")\n",
        "print(f\"{'Train R2 Score':<15}: {rf_basic_results['Train R2']}\")\n",
        "print(f\"{'Test MAE':<15}: {rf_basic_results['Test MAE']}\")\n",
        "print(f\"{'Test RMSE':<15}: {rf_basic_results['Test RMSE']}\")\n",
        "print(f\"{'Test R2 Score':<15}: {rf_basic_results['Test R2']}\")\n"
      ],
      "metadata": {
        "colab": {
          "base_uri": "https://localhost:8080/"
        },
        "id": "VcfoJtz0rNm5",
        "outputId": "bae403e1-5670-42f7-8d16-165d29e41b87"
      },
      "execution_count": 110,
      "outputs": [
        {
          "output_type": "stream",
          "name": "stdout",
          "text": [
            "\n",
            " Random Forest Regressor Evaluation:\n",
            "Train MAE      : 9195.63\n",
            "Train RMSE     : 165419.74\n",
            "Train R2 Score : 0.9978\n",
            "Test MAE       : 12385.51\n",
            "Test RMSE      : 118144.39\n",
            "Test R2 Score  : 0.9985\n"
          ]
        }
      ]
    },
    {
      "cell_type": "code",
      "source": [
        "import matplotlib.pyplot as plt\n",
        "import numpy as np\n",
        "\n",
        "# Metrics\n",
        "metrics = ['MAE', 'RMSE']\n",
        "train_scores = [mae_train, rmse_train]\n",
        "test_scores = [mae_test, rmse_test]\n",
        "\n",
        "# R² scores\n",
        "train_r2 = r2_train\n",
        "test_r2 = r2_test\n",
        "\n",
        "x = np.arange(len(metrics))  # [0, 1]\n",
        "width = 0.35\n",
        "\n",
        "# Create figure and axis\n",
        "fig, ax1 = plt.subplots(figsize=(9, 6))\n",
        "\n",
        "# Plot MAE and RMSE\n",
        "bars1 = ax1.bar(x - width/2, train_scores, width, label='Train', color='skyblue')\n",
        "bars2 = ax1.bar(x + width/2, test_scores, width, label='Test', color='salmon')\n",
        "\n",
        "ax1.set_xlabel('Evaluation Metric')\n",
        "ax1.set_ylabel('Error Score (MAE / RMSE)')\n",
        "ax1.set_xticks(x)\n",
        "ax1.set_xticklabels(metrics)\n",
        "ax1.legend(loc='upper left')\n",
        "ax1.set_title('📊 Random Forest Regressor - Evaluation Metrics')\n",
        "\n",
        "# Add grid to left axis\n",
        "ax1.grid(axis='y', linestyle='--', alpha=0.6)\n",
        "\n",
        "# Create second y-axis for R² Score\n",
        "ax2 = ax1.twinx()\n",
        "ax2.plot(x, [train_r2]*2, label='Train R²', color='blue', linestyle='--', marker='o')\n",
        "ax2.plot(x, [test_r2]*2, label='Test R²', color='red', linestyle='--', marker='o')\n",
        "ax2.set_ylabel('R² Score')\n",
        "ax2.set_ylim(0, 1.1)  # R² is usually between 0 and 1\n",
        "\n",
        "# Add legends\n",
        "ax2.legend(loc='upper right')\n",
        "\n",
        "plt.tight_layout()\n",
        "plt.show()\n"
      ],
      "metadata": {
        "id": "yEl-hgQWpsJ1",
        "colab": {
          "base_uri": "https://localhost:8080/",
          "height": 676
        },
        "outputId": "f263ed5e-4818-437e-d786-13061ece27fa"
      },
      "execution_count": 112,
      "outputs": [
        {
          "output_type": "stream",
          "name": "stderr",
          "text": [
            "/tmp/ipython-input-112-4239963886.py:43: UserWarning: Glyph 128202 (\\N{BAR CHART}) missing from font(s) DejaVu Sans.\n",
            "  plt.tight_layout()\n",
            "/usr/local/lib/python3.11/dist-packages/IPython/core/pylabtools.py:151: UserWarning: Glyph 128202 (\\N{BAR CHART}) missing from font(s) DejaVu Sans.\n",
            "  fig.canvas.print_figure(bytes_io, **kw)\n"
          ]
        },
        {
          "output_type": "display_data",
          "data": {
            "text/plain": [
              "<Figure size 900x600 with 2 Axes>"
            ],
            "image/png": "[encoded data removed]"
          },
          "metadata": {}
        }
      ]
    },
    {
      "cell_type": "markdown",
      "source": [
        "#### 2. Cross- Validation & Hyperparameter Tuning"
      ],
      "metadata": {
        "id": "-jK_YjpMpsJ2"
      }
    },
    {
      "cell_type": "code",
      "source": [
        "from sklearn.ensemble import RandomForestRegressor\n",
        "from sklearn.model_selection import GridSearchCV, cross_val_score\n",
        "from sklearn.metrics import mean_absolute_error, mean_squared_error, r2_score\n",
        "import numpy as np\n",
        "import pandas as pd\n",
        "\n",
        "# Step 1: Define Model\n",
        "rf = RandomForestRegressor(random_state=42)\n",
        "\n",
        "# Step 2: Define Hyperparameter Grid\n",
        "param_grid = {\n",
        "    'n_estimators': [100, 200],\n",
        "    'max_depth': [10, 20, None],\n",
        "    'min_samples_split': [2, 5],\n",
        "    'min_samples_leaf': [1, 2]\n",
        "}\n",
        "\n",
        "# Step 3: Setup GridSearchCV with Cross-Validation\n",
        "grid_search = GridSearchCV(\n",
        "    estimator=rf,\n",
        "    param_grid=param_grid,\n",
        "    scoring='r2',\n",
        "    cv=5,                # 5-fold cross-validation\n",
        "    verbose=1,\n",
        "    n_jobs=-1\n",
        ")\n",
        "\n",
        "# Step 4: Fit on Training Data\n",
        "grid_search.fit(X_train, y_train)\n",
        "best_rf = grid_search.best_estimator_\n",
        "\n",
        "# Step 5: Predict\n",
        "y_pred_test = best_rf.predict(X_test)\n",
        "y_pred_train = best_rf.predict(X_train)\n",
        "\n",
        "# Step 6: Evaluate\n",
        "mae_train = mean_absolute_error(y_train, y_pred_train)\n",
        "rmse_train = np.sqrt(mean_squared_error(y_train, y_pred_train))\n",
        "r2_train = r2_score(y_train, y_pred_train)\n",
        "\n",
        "mae_test = mean_absolute_error(y_test, y_pred_test)\n",
        "rmse_test = np.sqrt(mean_squared_error(y_test, y_pred_test))\n",
        "r2_test = r2_score(y_test, y_pred_test)\n",
        "\n",
        "# Step 7: Store Results\n",
        "rf_cv_results = {\n",
        "    'Model': 'Random Forest (GridSearchCV + CV)',\n",
        "    'Best Params': grid_search.best_params_,\n",
        "    'Train MAE': round(mae_train, 2),\n",
        "    'Train RMSE': round(rmse_train, 2),\n",
        "    'Train R2': round(r2_train, 4),\n",
        "    'Test MAE': round(mae_test, 2),\n",
        "    'Test RMSE': round(rmse_test, 2),\n",
        "    'Test R2': round(r2_test, 4)\n",
        "}\n",
        "\n",
        "\n",
        "print(\"\\n Random Forest Regressor (CV + GridSearch) Evaluation:\")\n",
        "print(f\"{'Best Parameters':<20}: {rf_cv_results['Best Params']}\")\n",
        "print(f\"{'Train MAE':<20}: {rf_cv_results['Train MAE']}\")\n",
        "print(f\"{'Train RMSE':<20}: {rf_cv_results['Train RMSE']}\")\n",
        "print(f\"{'Train R2 Score':<20}: {rf_cv_results['Train R2']}\")\n",
        "print(f\"{'Test MAE':<20}: {rf_cv_results['Test MAE']}\")\n",
        "print(f\"{'Test RMSE':<20}: {rf_cv_results['Test RMSE']}\")\n",
        "print(f\"{'Test R2 Score':<20}: {rf_cv_results['Test R2']}\")\n"
      ],
      "metadata": {
        "id": "Dn0EOfS6psJ2",
        "colab": {
          "base_uri": "https://localhost:8080/"
        },
        "outputId": "f95d6915-acef-4d36-95e8-06c9a0fe8cc2"
      },
      "execution_count": 113,
      "outputs": [
        {
          "output_type": "stream",
          "name": "stdout",
          "text": [
            "Fitting 5 folds for each of 24 candidates, totalling 120 fits\n",
            "\n",
            " Random Forest Regressor (CV + GridSearch) Evaluation:\n",
            "Best Parameters     : {'max_depth': 10, 'min_samples_leaf': 1, 'min_samples_split': 2, 'n_estimators': 200}\n",
            "Train MAE           : 8634.48\n",
            "Train RMSE          : 145012.31\n",
            "Train R2 Score      : 0.9983\n",
            "Test MAE            : 13749.81\n",
            "Test RMSE           : 135078.69\n",
            "Test R2 Score       : 0.998\n"
          ]
        }
      ]
    },
    {
      "cell_type": "markdown",
      "source": [
        "##### Which hyperparameter optimization technique have you used and why?"
      ],
      "metadata": {
        "id": "HAih1iBOpsJ2"
      }
    },
    {
      "cell_type": "markdown",
      "source": [
        "I used Grid Search Cross-Validation (GridSearchCV) to perform hyperparameter tuning for the Random Forest Regressor. This technique exhaustively searches through a specified grid of hyperparameter values and evaluates each combination using k-fold cross-validation (in this case, 5-fold). It ensures that the selected hyperparameters not only perform well on training data but also generalize effectively to unseen data. I chose GridSearchCV because it is systematic, easy to implement, and provides reliable results for models like Random Forest, which have multiple influential hyperparameters."
      ],
      "metadata": {
        "id": "9kBgjYcdpsJ2"
      }
    },
    {
      "cell_type": "markdown",
      "source": [
        "##### Have you seen any improvement? Note down the improvement with updates Evaluation metric Score Chart."
      ],
      "metadata": {
        "id": "zVGeBEFhpsJ2"
      }
    },
    {
      "cell_type": "markdown",
      "source": [
        "The model became more accurate on the training data after tuning, suggesting it fits the training set better.\n",
        "\n",
        "Test performance slightly declined, which may indicate a bit of overfitting with the new hyperparameters.\n",
        "\n",
        "Despite a small drop in test R², the overall performance is still exceptionally high (~0.998).\n",
        "\n"
      ],
      "metadata": {
        "id": "74yRdG6UpsJ3"
      }
    },
    {
      "cell_type": "markdown",
      "source": [
        "### ML Model - 3"
      ],
      "metadata": {
        "id": "Fze-IPXLpx6K"
      }
    },
    {
      "cell_type": "code",
      "source": [
        "from xgboost import XGBRegressor\n",
        "from sklearn.metrics import mean_absolute_error, mean_squared_error, r2_score\n",
        "import numpy as np\n",
        "\n",
        "# Initialize and train the model\n",
        "xgb = XGBRegressor(random_state=42, n_estimators=100, learning_rate=0.1)\n",
        "xgb.fit(X_train, y_train)\n",
        "\n",
        "# Predict\n",
        "y_pred_train_xgb = xgb.predict(X_train)\n",
        "y_pred_test_xgb = xgb.predict(X_test)\n",
        "\n",
        "# Evaluate - Train\n",
        "mae_train_xgb = mean_absolute_error(y_train, y_pred_train_xgb)\n",
        "rmse_train_xgb = np.sqrt(mean_squared_error(y_train, y_pred_train_xgb))\n",
        "r2_train_xgb = r2_score(y_train, y_pred_train_xgb)\n",
        "\n",
        "# Evaluate - Test\n",
        "mae_test_xgb = mean_absolute_error(y_test, y_pred_test_xgb)\n",
        "rmse_test_xgb = np.sqrt(mean_squared_error(y_test, y_pred_test_xgb))\n",
        "r2_test_xgb = r2_score(y_test, y_pred_test_xgb)\n",
        "\n",
        "# Print results\n",
        "print(\"\\n Model Evaluation - XGBoost Regressor\")\n",
        "print(f\"{'Train MAE':<15}: {mae_train_xgb:.2f}\")\n",
        "print(f\"{'Train RMSE':<15}: {rmse_train_xgb:.2f}\")\n",
        "print(f\"{'Train R2 Score':<15}: {r2_train_xgb:.4f}\")\n",
        "print(f\"{'Test MAE':<15}: {mae_test_xgb:.2f}\")\n",
        "print(f\"{'Test RMSE':<15}: {rmse_test_xgb:.2f}\")\n",
        "print(f\"{'Test R2 Score':<15}: {r2_test_xgb:.4f}\")\n"
      ],
      "metadata": {
        "id": "FFrSXAtrpx6M",
        "colab": {
          "base_uri": "https://localhost:8080/"
        },
        "outputId": "977bd874-e8b9-4b73-dc05-8d6a77e8f7db"
      },
      "execution_count": 116,
      "outputs": [
        {
          "output_type": "stream",
          "name": "stdout",
          "text": [
            "\n",
            " Model Evaluation - XGBoost Regressor\n",
            "Train MAE      : 7095.00\n",
            "Train RMSE     : 15385.10\n",
            "Train R2 Score : 1.0000\n",
            "Test MAE       : 121307.98\n",
            "Test RMSE      : 1447691.48\n",
            "Test R2 Score  : 0.7728\n"
          ]
        }
      ]
    },
    {
      "cell_type": "markdown",
      "source": [
        "#### 1. Explain the ML Model used and it's performance using Evaluation metric Score Chart.\n",
        "\n",
        "XGBoost (Extreme Gradient Boosting) is a powerful and efficient implementation of gradient boosting algorithms. It builds an ensemble of decision trees in a sequential manner, optimizing for a specified loss function while regularizing to reduce overfitting."
      ],
      "metadata": {
        "id": "7AN1z2sKpx6M"
      }
    },
    {
      "cell_type": "markdown",
      "source": [
        "#### 2. Cross- Validation & Hyperparameter Tuning"
      ],
      "metadata": {
        "id": "9PIHJqyupx6M"
      }
    },
    {
      "cell_type": "code",
      "source": [
        "from xgboost import XGBRegressor\n",
        "from sklearn.model_selection import RandomizedSearchCV\n",
        "from sklearn.metrics import mean_absolute_error, mean_squared_error, r2_score\n",
        "import numpy as np\n",
        "\n",
        "# 1. Define the base model\n",
        "xgb = XGBRegressor(random_state=42, verbosity=0)\n",
        "\n",
        "# 2. Define the hyperparameter distribution\n",
        "param_dist = {\n",
        "    'n_estimators': [100, 200, 300, 500],\n",
        "    'max_depth': [3, 5, 7, 10],\n",
        "    'learning_rate': [0.01, 0.05, 0.1, 0.3],\n",
        "    'subsample': [0.6, 0.8, 1],\n",
        "    'colsample_bytree': [0.6, 0.8, 1],\n",
        "    'min_child_weight': [1, 3, 5]\n",
        "}\n",
        "\n",
        "# 3. Setup RandomizedSearchCV\n",
        "random_search = RandomizedSearchCV(\n",
        "    estimator=xgb,\n",
        "    param_distributions=param_dist,\n",
        "    scoring='r2',\n",
        "    n_iter=20,             # Try 20 different combinations\n",
        "    cv=5,                  # 5-fold cross-validation\n",
        "    verbose=1,\n",
        "    random_state=42,\n",
        "    n_jobs=-1\n",
        ")\n",
        "\n",
        "# 4. Fit on training data\n",
        "random_search.fit(X_train, y_train)\n",
        "best_xgb_rand = random_search.best_estimator_\n",
        "\n",
        "# 5. Predict on train and test\n",
        "y_train_pred = best_xgb_rand.predict(X_train)\n",
        "y_test_pred = best_xgb_rand.predict(X_test)\n",
        "\n",
        "# 6. Evaluate performance\n",
        "mae_train = mean_absolute_error(y_train, y_train_pred)\n",
        "rmse_train = np.sqrt(mean_squared_error(y_train, y_train_pred))\n",
        "r2_train = r2_score(y_train, y_train_pred)\n",
        "\n",
        "mae_test = mean_absolute_error(y_test, y_test_pred)\n",
        "rmse_test = np.sqrt(mean_squared_error(y_test, y_test_pred))\n",
        "r2_test = r2_score(y_test, y_test_pred)\n",
        "\n",
        "# 7. Display results\n",
        "print(\"\\n XGBoost Regressor (RandomizedSearchCV) Evaluation\")\n",
        "print(f\"{'Best Parameters':<20}: {random_search.best_params_}\")\n",
        "print(f\"{'Train MAE':<20}: {mae_train:.2f}\")\n",
        "print(f\"{'Train RMSE':<20}: {rmse_train:.2f}\")\n",
        "print(f\"{'Train R2 Score':<20}: {r2_train:.4f}\")\n",
        "print(f\"{'Test MAE':<20}: {mae_test:.2f}\")\n",
        "print(f\"{'Test RMSE':<20}: {rmse_test:.2f}\")\n",
        "print(f\"{'Test R2 Score':<20}: {r2_test:.4f}\")\n"
      ],
      "metadata": {
        "id": "eSVXuaSKpx6M",
        "colab": {
          "base_uri": "https://localhost:8080/"
        },
        "outputId": "a3b7682f-5370-4017-e581-095653ca612e"
      },
      "execution_count": 117,
      "outputs": [
        {
          "output_type": "stream",
          "name": "stdout",
          "text": [
            "Fitting 5 folds for each of 20 candidates, totalling 100 fits\n",
            "\n",
            " XGBoost Regressor (RandomizedSearchCV) Evaluation\n",
            "Best Parameters     : {'subsample': 0.8, 'n_estimators': 300, 'min_child_weight': 5, 'max_depth': 5, 'learning_rate': 0.1, 'colsample_bytree': 0.8}\n",
            "Train MAE           : 36314.13\n",
            "Train RMSE          : 126882.07\n",
            "Train R2 Score      : 0.9987\n",
            "Test MAE            : 83032.80\n",
            "Test RMSE           : 438968.46\n",
            "Test R2 Score       : 0.9791\n"
          ]
        }
      ]
    },
    {
      "cell_type": "markdown",
      "source": [
        "##### Which hyperparameter optimization technique have you used and why?"
      ],
      "metadata": {
        "id": "_-qAgymDpx6N"
      }
    },
    {
      "cell_type": "markdown",
      "source": [
        "Here I have used RandomizedSearchCV\n",
        "\n",
        " Unlike GridSearchCV (which tries all possible combinations), RandomizedSearchCV evaluates only a fixed number of randomly selected combinations, making it faster and less computationally expensive, especially when the search space is large.\n",
        "\n",
        "Scalability: Suitable for models like XGBoost, which have many hyperparameters and long training times."
      ],
      "metadata": {
        "id": "lQMffxkwpx6N"
      }
    },
    {
      "cell_type": "markdown",
      "source": [
        "##### Have you seen any improvement? Note down the improvement with updates Evaluation metric Score Chart."
      ],
      "metadata": {
        "id": "Z-hykwinpx6N"
      }
    },
    {
      "cell_type": "markdown",
      "source": [
        "The initial model was overfitting, with a perfect R² on training but poor generalization on test data.\n",
        "\n",
        "After hyperparameter tuning using RandomizedSearchCV, the model generalized better and performance on test data improved substantially, especially Test R² jumping from 0.77 → 0.98.\n",
        "\n",
        "Although training error metrics slightly worsened (as expected), this is a positive trade-off in favor of generalization.\n",
        "\n"
      ],
      "metadata": {
        "id": "MzVzZC6opx6N"
      }
    },
    {
      "cell_type": "markdown",
      "source": [
        "# Comparison between all three models"
      ],
      "metadata": {
        "id": "CnxjFEBU1-nb"
      }
    },
    {
      "cell_type": "code",
      "source": [
        "model_results = {\n",
        "    'Model': ['Linear Regression', 'Random Forest', 'XGBoost'],\n",
        "    'MAE': [mae_test_lr, mae_test, mae_test_xgb],           # test MAEs\n",
        "    'RMSE': [rmse_test_lr, rmse_test, rmse_test_xgb],       # test RMSEs\n",
        "    'R2 Score': [r2_test_lr, r2_test, r2_test_xgb]           # test R2s\n",
        "}\n"
      ],
      "metadata": {
        "id": "rmtBCQiZ0Px-"
      },
      "execution_count": 119,
      "outputs": []
    },
    {
      "cell_type": "code",
      "source": [
        "import numpy as np\n",
        "\n",
        "# Data\n",
        "models = df_results['Model']\n",
        "mae_vals = df_results['MAE']\n",
        "rmse_vals = df_results['RMSE']\n",
        "r2_vals = df_results['R2 Score']\n",
        "\n",
        "x = np.arange(len(models))  # [0, 1, 2]\n",
        "width = 0.35\n",
        "\n",
        "fig, ax1 = plt.subplots(figsize=(10, 6))\n",
        "\n",
        "# Plot MAE and RMSE (Left Y-Axis)\n",
        "bar1 = ax1.bar(x - width/2, mae_vals, width, label='MAE', color='skyblue')\n",
        "bar2 = ax1.bar(x + width/2, rmse_vals, width, label='RMSE', color='salmon')\n",
        "ax1.set_ylabel('MAE / RMSE')\n",
        "ax1.set_xticks(x)\n",
        "ax1.set_xticklabels(models)\n",
        "ax1.legend(loc='upper left')\n",
        "ax1.set_title('📊 Model Comparison: MAE, RMSE, and R² (Test Set)')\n",
        "ax1.grid(axis='y', linestyle='--', alpha=0.5)\n",
        "\n",
        "# R² (Right Y-Axis)\n",
        "ax2 = ax1.twinx()\n",
        "ax2.plot(x, r2_vals, color='green', marker='o', linestyle='--', linewidth=2, label='R² Score')\n",
        "ax2.set_ylabel('R² Score')\n",
        "ax2.set_ylim(0, 1.05)\n",
        "ax2.legend(loc='upper right')\n",
        "\n",
        "plt.tight_layout()\n",
        "plt.show()\n"
      ],
      "metadata": {
        "colab": {
          "base_uri": "https://localhost:8080/",
          "height": 642
        },
        "id": "AmMGBATV1S8J",
        "outputId": "bd38e19b-ee63-4959-bbd9-31aa9c01fe6d"
      },
      "execution_count": 121,
      "outputs": [
        {
          "output_type": "stream",
          "name": "stderr",
          "text": [
            "/tmp/ipython-input-121-776716640.py:31: UserWarning: Glyph 128202 (\\N{BAR CHART}) missing from font(s) DejaVu Sans.\n",
            "  plt.tight_layout()\n"
          ]
        },
        {
          "output_type": "display_data",
          "data": {
            "text/plain": [
              "<Figure size 1000x600 with 2 Axes>"
            ],
            "image/png": "[encoded data removed]"
          },
          "metadata": {}
        }
      ]
    },
    {
      "cell_type": "markdown",
      "source": [
        "### 1. Which Evaluation metrics did you consider for a positive business impact and why?"
      ],
      "metadata": {
        "id": "h_CCil-SKHpo"
      }
    },
    {
      "cell_type": "markdown",
      "source": [
        "To assess model performance and ensure real-world usefulness, we selected the following evaluation metrics:\n",
        "\n",
        "* **Mean Absolute Error (MAE)**\n",
        "\n",
        " Average of the absolute differences between predicted and actual views.\n",
        "\n",
        " Business Impact:\n",
        "Helps TED assess how far off the predictions are on average.\n",
        "\n",
        "* **Root Mean Squared Error (RMSE)**\n",
        "\n",
        "  Penalizes larger errors more heavily than MAE.\n",
        "Useful when large deviations (like viral talks) could skew resource planning.\n",
        "\n",
        "  Business Impact:\n",
        "Captures high-impact mispredictions, especially in talks that might go viral.\n",
        "Helps in optimizing marketing efforts or language translations for talks expected to perform well.\n",
        "* **R² Score (Coefficient of Determination)**\n",
        "\n",
        "  Proportion of variance in the target (views) explained by the model.Gives a holistic measure of how well the model explains variation.\n",
        "\n",
        "  Ranges from 0 (no explanation) to 1 (perfect fit).\n",
        "\n",
        "  Business Impact:\n",
        "Indicates trust level in the model’s predictions.\n",
        "A high R² means the model is reliable for strategic decision-making, like prioritizing speakers, topics, or events.\n",
        "\n",
        "\n"
      ],
      "metadata": {
        "id": "jHVz9hHDKFms"
      }
    },
    {
      "cell_type": "markdown",
      "source": [
        "### 2. Which ML model did you choose from the above created models as your final prediction model and why?"
      ],
      "metadata": {
        "id": "cBFFvTBNJzUa"
      }
    },
    {
      "cell_type": "markdown",
      "source": [
        "Based on the evaluation metrics of all three models,the best model for final prediction is the Random Forest Regressor.\n",
        "\n",
        "Random Forest is the Best Choice because:\n",
        "\n",
        "* Lowest Test MAE and RMSE: Indicates it makes the most accurate predictions on unseen data.\n",
        "\n",
        "* Highest Test R² Score (0.9985): Shows it explains nearly all the variability in the target variable.\n",
        "\n",
        "* Good Generalization: The small gap between training and test scores suggests it generalizes well and is not overfitting."
      ],
      "metadata": {
        "id": "6ksF5Q1LKTVm"
      }
    },
    {
      "cell_type": "markdown",
      "source": [
        "### 3. Explain the model which you have used and the feature importance using any model explainability tool?"
      ],
      "metadata": {
        "id": "HvGl1hHyA_VK"
      }
    },
    {
      "cell_type": "markdown",
      "source": [
        "**Random Forest**\n",
        "\n",
        "It is an ensemble learning method that builds multiple decision trees during training and outputs the average prediction of the individual trees. It improves prediction accuracy and controls overfitting.\n",
        "\n",
        "Key Characteristics:\n",
        "\n",
        "Handles non-linear relationships well.\n",
        "\n",
        "Robust to outliers and noise.\n",
        "\n",
        "Can automatically estimate feature importance.\n",
        "\n",
        "Suitable for both regression and classification tasks.\n",
        "\n",
        "\n",
        "**Feature Importance Using SHAP (Model Explainability Tool)**\n",
        "\n",
        "\n"
      ],
      "metadata": {
        "id": "YnvVTiIxBL-C"
      }
    },
    {
      "cell_type": "markdown",
      "source": [
        "# **Conclusion**"
      ],
      "metadata": {
        "id": "gCX9965dhzqZ"
      }
    },
    {
      "cell_type": "markdown",
      "source": [
        "In this project, we aimed to build a robust machine learning model to predict the number of views a TED Talk might receive, using a variety of features from the official TED dataset.\n",
        "\n",
        "\n",
        "**Exploratory Data Analysis (EDA):**\n",
        "\n",
        "Explored data distribution, null values, outliers, and variable relationships.\n",
        "\n",
        "Found that views, comments, and duration were highly right-skewed.\n",
        "\n",
        "Visualized strong correlations between views and features like comments, duration, and event.\n",
        "\n",
        "**Data Cleaning & Wrangling:**\n",
        "\n",
        "Handled missing values using appropriate imputation strategies (mode/median based).\n",
        "\n",
        "Dropped irrelevant or high-cardinality columns that were not useful for modeling.\n",
        "\n",
        "**Major Columns Removed for Efficiency:**\n",
        "\n",
        "title, url, description — non-numeric & not directly informative for prediction.\n",
        "\n",
        "related_talks, about_speakers — too unstructured or inconsistent.\n",
        "\n",
        "all_speakers, available_lang, native_lang, occupations — created too many one-hot encoded columns, increasing dimensionality unnecessarily.\n",
        "\n",
        " **Models Trained:**\n",
        "\n",
        "Linear Regression\n",
        "\n",
        "Random Forest Regressor\n",
        "\n",
        "XGBoost Regressor\n",
        "\n",
        "Each model was evaluated on both train and test sets, using the Evaluation metrics: MAE, RMSE, R² Score.\n",
        "\n",
        "**Final Model Chosen: Random Forest Regressor**\n",
        "\n",
        "Because:\n",
        "\n",
        "Gave high R² Score on test data (~0.9985) with acceptable MAE/RMSE\n",
        "\n",
        "Balanced performance without overfitting (verified by comparing train vs test)\n",
        "\n",
        "Required minimal preprocessing, handled non-linearity and outliers well\n",
        "\n",
        "---\n",
        "\n",
        "The Random Forest model proved to be the most reliable and accurate for predicting TED Talk views. This model can help TED:\n",
        "\n",
        "Forecast talk popularity\n",
        "\n",
        "Prioritize topics or speakers likely to succeed\n",
        "\n",
        "Strategically allocate promotional resources\n",
        "\n",
        "It showcases the power of data-driven decisions in content strategy and the impact of proper data preprocessing + model selection."
      ],
      "metadata": {
        "id": "Fjb1IsQkh3yE"
      }
    },
    {
      "cell_type": "markdown",
      "source": [
        "### ***Hurrah! You have successfully completed your Machine Learning Capstone Project !!!***"
      ],
      "metadata": {
        "id": "gIfDvo9L0UH2"
      }
    }
  ]
}