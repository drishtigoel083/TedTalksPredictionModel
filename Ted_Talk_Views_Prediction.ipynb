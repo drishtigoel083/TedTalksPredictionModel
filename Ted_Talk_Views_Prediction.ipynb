{
  "nbformat": 4,
  "nbformat_minor": 0,
  "metadata": {
    "colab": {
      "provenance": [],
      "collapsed_sections": [
        "vncDsAP0Gaoa",
        "FJNUwmbgGyua",
        "w6K7xa23Elo4",
        "yQaldy8SH6Dl",
        "mDgbUHAGgjLW",
        "O_i_v8NEhb9l",
        "HhfV-JJviCcP",
        "Y3lxredqlCYt",
        "3RnN4peoiCZX",
        "x71ZqKXriCWQ",
        "7hBIi_osiCS2",
        "JlHwYmJAmNHm",
        "35m5QtbWiB9F",
        "PoPl-ycgm1ru",
        "H0kj-8xxnORC",
        "nA9Y7ga8ng1Z",
        "PBTbrJXOngz2",
        "u3PMJOP6ngxN",
        "dauF4eBmngu3",
        "bKJF3rekwFvQ",
        "MSa1f5Uengrz",
        "GF8Ens_Soomf",
        "0wOQAZs5pc--",
        "K5QZ13OEpz2H",
        "lQ7QKXXCp7Bj",
        "448CDAPjqfQr",
        "KSlN3yHqYklG",
        "t6dVpIINYklI",
        "ijmpgYnKYklI",
        "-JiQyfWJYklI",
        "EM7whBJCYoAo",
        "fge-S5ZAYoAp",
        "85gYPyotYoAp",
        "RoGjAbkUYoAp",
        "4Of9eVA-YrdM",
        "iky9q4vBYrdO",
        "F6T5p64dYrdO",
        "y-Ehk30pYrdP",
        "bamQiAODYuh1",
        "QHF8YVU7Yuh3",
        "GwzvFGzlYuh3",
        "qYpmQ266Yuh3",
        "OH-pJp9IphqM",
        "bbFf2-_FphqN",
        "_ouA3fa0phqN",
        "Seke61FWphqN",
        "PIIx-8_IphqN",
        "t27r6nlMphqO",
        "r2jJGEOYphqO",
        "b0JNsNcRphqO",
        "BZR9WyysphqO",
        "jj7wYXLtphqO",
        "eZrbJ2SmphqO",
        "rFu4xreNphqO",
        "YJ55k-q6phqO",
        "gCFgpxoyphqP",
        "OVtJsKN_phqQ",
        "lssrdh5qphqQ",
        "U2RJ9gkRphqQ",
        "1M8mcRywphqQ",
        "tgIPom80phqQ",
        "JMzcOPDDphqR",
        "x-EpHcCOp1ci",
        "X_VqEhTip1ck",
        "8zGJKyg5p1ck",
        "PVzmfK_Ep1ck",
        "n3dbpmDWp1ck",
        "ylSl6qgtp1ck",
        "ZWILFDl5p1ck",
        "M7G43BXep1ck",
        "Ag9LCva-p1cl",
        "E6MkPsBcp1cl",
        "2cELzS2fp1cl",
        "3MPXvC8up1cl",
        "NC_X3p0fY2L0",
        "UV0SzAkaZNRQ",
        "YPEH6qLeZNRQ",
        "q29F0dvdveiT",
        "EXh0U9oCveiU",
        "22aHeOlLveiV",
        "g-ATYxFrGrvw",
        "Yfr_Vlr8HBkt",
        "8yEUt7NnHlrM",
        "tEA2Xm5dHt1r",
        "I79__PHVH19G",
        "Ou-I18pAyIpj",
        "fF3858GYyt-u",
        "4_0_7-oCpUZd",
        "hwyV_J3ipUZe",
        "3yB-zSqbpUZe",
        "dEUvejAfpUZe",
        "Fd15vwWVpUZf",
        "bn_IUdTipZyH",
        "49K5P_iCpZyH",
        "Nff-vKELpZyI",
        "kLW572S8pZyI",
        "dWbDXHzopZyI",
        "yLjJCtPM0KBk",
        "xiyOF9F70UgQ",
        "7wuGOrhz0itI",
        "id1riN9m0vUs",
        "578E2V7j08f6",
        "89xtkJwZ18nB",
        "67NQN5KX2AMe",
        "Iwf50b-R2tYG",
        "GMQiZwjn3iu7",
        "WVIkgGqN3qsr",
        "XkPnILGE3zoT",
        "Hlsf0x5436Go",
        "mT9DMSJo4nBL",
        "c49ITxTc407N",
        "OeJFEK0N496M",
        "9ExmJH0g5HBk",
        "cJNqERVU536h",
        "k5UmGsbsOxih",
        "T0VqWOYE6DLQ",
        "qBMux9mC6MCf",
        "-oLEiFgy-5Pf",
        "C74aWNz2AliB",
        "2DejudWSA-a0",
        "pEMng2IbBLp7",
        "rAdphbQ9Bhjc",
        "TNVZ9zx19K6k",
        "nqoHp30x9hH9",
        "rMDnDkt2B6du",
        "yiiVWRdJDDil",
        "1UUpS68QDMuG",
        "kexQrXU-DjzY",
        "T5CmagL3EC8N",
        "BhH2vgX9EjGr",
        "qjKvONjwE8ra",
        "P1XJ9OREExlT",
        "VFOzZv6IFROw",
        "TIqpNgepFxVj",
        "VfCC591jGiD4",
        "OB4l2ZhMeS1U",
        "ArJBuiUVfxKd",
        "4qY1EAkEfxKe",
        "PiV4Ypx8fxKe",
        "TfvqoZmBfxKf",
        "dJ2tPlVmpsJ0",
        "JWYfwnehpsJ1",
        "-jK_YjpMpsJ2",
        "HAih1iBOpsJ2",
        "zVGeBEFhpsJ2",
        "bmKjuQ-FpsJ3",
        "Fze-IPXLpx6K",
        "7AN1z2sKpx6M",
        "9PIHJqyupx6M",
        "_-qAgymDpx6N",
        "Z-hykwinpx6N",
        "h_CCil-SKHpo",
        "cBFFvTBNJzUa",
        "HvGl1hHyA_VK",
        "EyNgTHvd2WFk",
        "KH5McJBi2d8v",
        "iW_Lq9qf2h6X",
        "-Kee-DAl2viO",
        "gCX9965dhzqZ",
        "gIfDvo9L0UH2"
      ],
      "include_colab_link": true
    },
    "kernelspec": {
      "name": "python3",
      "display_name": "Python 3"
    },
    "language_info": {
      "name": "python"
    }
  },
  "cells": [
    {
      "cell_type": "markdown",
      "metadata": {
        "id": "view-in-github",
        "colab_type": "text"
      },
      "source": [
        "<a href=\"https://colab.research.google.com/github/drishtigoel083/TedTalksPredictionModel/blob/main/Ted_Talk_Views_Prediction.ipynb\" target=\"_parent\"><img src=\"https://colab.research.google.com/assets/colab-badge.svg\" alt=\"Open In Colab\"/></a>"
      ]
    },
    {
      "cell_type": "markdown",
      "source": [
        "# **Project Name**    -  Ted Talk Views Predication\n",
        "\n"
      ],
      "metadata": {
        "id": "vncDsAP0Gaoa"
      }
    },
    {
      "cell_type": "markdown",
      "source": [
        "##### **Project Type**    - Regression\n",
        "##### **Contribution**    - Individual\n",
        "##### **Name -**            Drishti Goel\n"
      ],
      "metadata": {
        "id": "beRrZCGUAJYm"
      }
    },
    {
      "cell_type": "markdown",
      "source": [
        "# **Project Summary -**"
      ],
      "metadata": {
        "id": "FJNUwmbgGyua"
      }
    },
    {
      "cell_type": "markdown",
      "source": [
        "**Project Title:**\n",
        "\n",
        "TED Talks Views Prediction Using Machine Learning\n",
        "\n",
        "\n",
        "---\n",
        "\n",
        "\n",
        "\n",
        " **Project Summary:**\n",
        "\n",
        "This project aims to build a machine learning model that predicts the number of views a TED Talk will receive based on its metadata and content features. By analyzing the patterns in past TED Talks—such as title, description, speaker's occupation, duration, tags, and number of comments—the model will learn to estimate how popular a talk might become. The insights generated can help TED content curators, marketers, or content creators understand what factors contribute to higher viewer engagement.\n",
        "\n",
        "\n",
        "---\n",
        "\n",
        " **Objectives:**\n",
        "\n",
        "Analyze and preprocess the TED Talks dataset.\n",
        "\n",
        "Explore correlations between features (e.g., title length, number of tags, duration) and views.\n",
        "\n",
        "Train regression models to predict the number of views.\n",
        "\n",
        "Evaluate model performance using appropriate metrics (MAE, RMSE, R²).\n",
        "\n",
        "Identify key features influencing TED Talk popularity.\n",
        "\n",
        "\n",
        "---\n",
        "\n",
        "\n",
        "**Dataset Overview:**\n",
        "\n",
        "The dataset typically includes:\n",
        "\n",
        "title, description, tags, views, duration, comments, speaker_occupation, published_date, event, etc.\n",
        "\n",
        "---\n",
        "\n",
        "**Technologies & Tools**:\n",
        "\n",
        "Language: Python\n",
        "\n",
        "Libraries: pandas, NumPy, matplotlib/seaborn, scikit-learn, XGBoost/LightGBM\n",
        "\n",
        "Colab for prototyping\n",
        "\n",
        "---\n",
        "\n",
        "**Model Approaches:**\n",
        "\n",
        "Linear Regression\n",
        "\n",
        "Random Forest Regressor\n",
        "\n",
        "Gradient Boosting (e.g., XGBoost)"
      ],
      "metadata": {
        "id": "F6v_1wHtG2nS"
      }
    },
    {
      "cell_type": "markdown",
      "source": [
        "# **GitHub Link -**"
      ],
      "metadata": {
        "id": "w6K7xa23Elo4"
      }
    },
    {
      "cell_type": "markdown",
      "source": [
        "https://github.com/drishtigoel083/TedTalksPredictionModel"
      ],
      "metadata": {
        "id": "h1o69JH3Eqqn"
      }
    },
    {
      "cell_type": "markdown",
      "source": [
        "# **Problem Statement**\n"
      ],
      "metadata": {
        "id": "yQaldy8SH6Dl"
      }
    },
    {
      "cell_type": "markdown",
      "source": [
        "Despite TED Talks covering a wide range of inspiring and educational topics, not all talks receive equal attention or views. Understanding what makes some talks go viral while others remain unnoticed is crucial for content creators and strategists. The goal of this project is to develop a predictive model that can estimate the number of views a TED Talk will receive based on various features such as its title, description, tags, duration, speaker's occupation, number of comments, and other metadata.\n",
        "\n",
        "By leveraging machine learning techniques, this project aims to uncover patterns in TED Talks data and accurately forecast viewership. Such a model can provide valuable insights into the factors that drive audience engagement and help optimize future content for broader reach."
      ],
      "metadata": {
        "id": "DpeJGUA3kjGy"
      }
    },
    {
      "cell_type": "markdown",
      "source": [
        "## ***1. Know Your Data***"
      ],
      "metadata": {
        "id": "HhfV-JJviCcP"
      }
    },
    {
      "cell_type": "markdown",
      "source": [
        "### Import Libraries"
      ],
      "metadata": {
        "id": "Y3lxredqlCYt"
      }
    },
    {
      "cell_type": "code",
      "source": [
        "# Import Libraries\n",
        "import numpy as np\n",
        "import pandas as pd\n",
        "import matplotlib.pyplot as plt\n",
        "import seaborn as sns\n",
        "%matplotlib inline\n",
        "from sklearn.linear_model import Lasso, Ridge\n",
        "from sklearn.linear_model import LinearRegression\n",
        "from sklearn.tree import DecisionTreeRegressor\n",
        "from sklearn.metrics import r2_score, mean_squared_error,mean_absolute_error,mean_absolute_percentage_error\n",
        "import math\n",
        "from sklearn.ensemble import AdaBoostRegressor\n",
        "from sklearn.ensemble import GradientBoostingRegressor\n",
        "from sklearn.ensemble import RandomForestRegressor\n",
        "from sklearn.preprocessing import StandardScaler\n",
        "from sklearn.neighbors import KNeighborsRegressor\n",
        "from sklearn.ensemble import VotingRegressor\n",
        "from xgboost import XGBRegressor\n",
        "from sklearn.model_selection import GridSearchCV\n",
        "from sklearn.preprocessing import PolynomialFeatures"
      ],
      "metadata": {
        "id": "M8Vqi-pPk-HR"
      },
      "execution_count": 2,
      "outputs": []
    },
    {
      "cell_type": "markdown",
      "source": [
        "### Dataset Loading"
      ],
      "metadata": {
        "id": "3RnN4peoiCZX"
      }
    },
    {
      "cell_type": "code",
      "source": [
        "from google.colab import drive\n",
        "drive.mount('/content/drive')"
      ],
      "metadata": {
        "id": "sFjgZZq5nRy-",
        "colab": {
          "base_uri": "https://localhost:8080/"
        },
        "outputId": "45bc5a32-0b3d-407c-c4c0-c994d3a89660"
      },
      "execution_count": 5,
      "outputs": [
        {
          "output_type": "stream",
          "name": "stdout",
          "text": [
            "Mounted at /content/drive\n"
          ]
        }
      ]
    },
    {
      "cell_type": "code",
      "source": [
        "# Load Dataset\n",
        "df = pd.read_csv(\"/content/drive/MyDrive/Datasets/Copy of data_ted_talks.csv\")"
      ],
      "metadata": {
        "id": "KYqAQF_CxLai"
      },
      "execution_count": 7,
      "outputs": []
    },
    {
      "cell_type": "markdown",
      "source": [
        "### Dataset First View"
      ],
      "metadata": {
        "id": "x71ZqKXriCWQ"
      }
    },
    {
      "cell_type": "code",
      "source": [
        "# Dataset First Look\n",
        "df.head(3)"
      ],
      "metadata": {
        "id": "LWNFOSvLl09H",
        "colab": {
          "base_uri": "https://localhost:8080/",
          "height": 371
        },
        "outputId": "8f4997b0-8c5c-430f-cab9-1ba8ac4dda6b"
      },
      "execution_count": 8,
      "outputs": [
        {
          "output_type": "execute_result",
          "data": {
            "text/plain": [
              "   talk_id                            title     speaker_1  \\\n",
              "0        1      Averting the climate crisis       Al Gore   \n",
              "1       92  The best stats you've ever seen  Hans Rosling   \n",
              "2        7                 Simplicity sells   David Pogue   \n",
              "\n",
              "          all_speakers                                    occupations  \\\n",
              "0       {0: 'Al Gore'}                      {0: ['climate advocate']}   \n",
              "1  {0: 'Hans Rosling'}  {0: ['global health expert; data visionary']}   \n",
              "2   {0: 'David Pogue'}                  {0: ['technology columnist']}   \n",
              "\n",
              "                                      about_speakers     views recorded_date  \\\n",
              "0  {0: 'Nobel Laureate Al Gore focused the world’...   3523392    2006-02-25   \n",
              "1  {0: 'In Hans Rosling’s hands, data sings. Glob...  14501685    2006-02-22   \n",
              "2  {0: 'David Pogue is the personal technology co...   1920832    2006-02-24   \n",
              "\n",
              "  published_date    event native_lang  \\\n",
              "0     2006-06-27  TED2006          en   \n",
              "1     2006-06-27  TED2006          en   \n",
              "2     2006-06-27  TED2006          en   \n",
              "\n",
              "                                      available_lang  comments  duration  \\\n",
              "0  ['ar', 'bg', 'cs', 'de', 'el', 'en', 'es', 'fa...     272.0       977   \n",
              "1  ['ar', 'az', 'bg', 'bn', 'bs', 'cs', 'da', 'de...     628.0      1190   \n",
              "2  ['ar', 'bg', 'de', 'el', 'en', 'es', 'fa', 'fr...     124.0      1286   \n",
              "\n",
              "                                              topics  \\\n",
              "0  ['alternative energy', 'cars', 'climate change...   \n",
              "1  ['Africa', 'Asia', 'Google', 'demo', 'economic...   \n",
              "2  ['computers', 'entertainment', 'interface desi...   \n",
              "\n",
              "                                       related_talks  \\\n",
              "0  {243: 'New thinking on the climate crisis', 54...   \n",
              "1  {2056: \"Own your body's data\", 2296: 'A visual...   \n",
              "2  {1725: '10 top time-saving tech tips', 2274: '...   \n",
              "\n",
              "                                                 url  \\\n",
              "0  https://www.ted.com/talks/al_gore_averting_the...   \n",
              "1  https://www.ted.com/talks/hans_rosling_the_bes...   \n",
              "2  https://www.ted.com/talks/david_pogue_simplici...   \n",
              "\n",
              "                                         description  \\\n",
              "0  With the same humor and humanity he exuded in ...   \n",
              "1  You've never seen data presented like this. Wi...   \n",
              "2  New York Times columnist David Pogue takes aim...   \n",
              "\n",
              "                                          transcript  \n",
              "0  Thank you so much, Chris. And it's truly a gre...  \n",
              "1  About 10 years ago, I took on the task to teac...  \n",
              "2  (Music: \"The Sound of Silence,\" Simon & Garfun...  "
            ],
            "text/html": [
              "\n",
              "  <div id=\"df-47cb550b-81df-4826-8f2b-f3e02606fa34\" class=\"colab-df-container\">\n",
              "    <div>\n",
              "<style scoped>\n",
              "    .dataframe tbody tr th:only-of-type {\n",
              "        vertical-align: middle;\n",
              "    }\n",
              "\n",
              "    .dataframe tbody tr th {\n",
              "        vertical-align: top;\n",
              "    }\n",
              "\n",
              "    .dataframe thead th {\n",
              "        text-align: right;\n",
              "    }\n",
              "</style>\n",
              "<table border=\"1\" class=\"dataframe\">\n",
              "  <thead>\n",
              "    <tr style=\"text-align: right;\">\n",
              "      <th></th>\n",
              "      <th>talk_id</th>\n",
              "      <th>title</th>\n",
              "      <th>speaker_1</th>\n",
              "      <th>all_speakers</th>\n",
              "      <th>occupations</th>\n",
              "      <th>about_speakers</th>\n",
              "      <th>views</th>\n",
              "      <th>recorded_date</th>\n",
              "      <th>published_date</th>\n",
              "      <th>event</th>\n",
              "      <th>native_lang</th>\n",
              "      <th>available_lang</th>\n",
              "      <th>comments</th>\n",
              "      <th>duration</th>\n",
              "      <th>topics</th>\n",
              "      <th>related_talks</th>\n",
              "      <th>url</th>\n",
              "      <th>description</th>\n",
              "      <th>transcript</th>\n",
              "    </tr>\n",
              "  </thead>\n",
              "  <tbody>\n",
              "    <tr>\n",
              "      <th>0</th>\n",
              "      <td>1</td>\n",
              "      <td>Averting the climate crisis</td>\n",
              "      <td>Al Gore</td>\n",
              "      <td>{0: 'Al Gore'}</td>\n",
              "      <td>{0: ['climate advocate']}</td>\n",
              "      <td>{0: 'Nobel Laureate Al Gore focused the world’...</td>\n",
              "      <td>3523392</td>\n",
              "      <td>2006-02-25</td>\n",
              "      <td>2006-06-27</td>\n",
              "      <td>TED2006</td>\n",
              "      <td>en</td>\n",
              "      <td>['ar', 'bg', 'cs', 'de', 'el', 'en', 'es', 'fa...</td>\n",
              "      <td>272.0</td>\n",
              "      <td>977</td>\n",
              "      <td>['alternative energy', 'cars', 'climate change...</td>\n",
              "      <td>{243: 'New thinking on the climate crisis', 54...</td>\n",
              "      <td>https://www.ted.com/talks/al_gore_averting_the...</td>\n",
              "      <td>With the same humor and humanity he exuded in ...</td>\n",
              "      <td>Thank you so much, Chris. And it's truly a gre...</td>\n",
              "    </tr>\n",
              "    <tr>\n",
              "      <th>1</th>\n",
              "      <td>92</td>\n",
              "      <td>The best stats you've ever seen</td>\n",
              "      <td>Hans Rosling</td>\n",
              "      <td>{0: 'Hans Rosling'}</td>\n",
              "      <td>{0: ['global health expert; data visionary']}</td>\n",
              "      <td>{0: 'In Hans Rosling’s hands, data sings. Glob...</td>\n",
              "      <td>14501685</td>\n",
              "      <td>2006-02-22</td>\n",
              "      <td>2006-06-27</td>\n",
              "      <td>TED2006</td>\n",
              "      <td>en</td>\n",
              "      <td>['ar', 'az', 'bg', 'bn', 'bs', 'cs', 'da', 'de...</td>\n",
              "      <td>628.0</td>\n",
              "      <td>1190</td>\n",
              "      <td>['Africa', 'Asia', 'Google', 'demo', 'economic...</td>\n",
              "      <td>{2056: \"Own your body's data\", 2296: 'A visual...</td>\n",
              "      <td>https://www.ted.com/talks/hans_rosling_the_bes...</td>\n",
              "      <td>You've never seen data presented like this. Wi...</td>\n",
              "      <td>About 10 years ago, I took on the task to teac...</td>\n",
              "    </tr>\n",
              "    <tr>\n",
              "      <th>2</th>\n",
              "      <td>7</td>\n",
              "      <td>Simplicity sells</td>\n",
              "      <td>David Pogue</td>\n",
              "      <td>{0: 'David Pogue'}</td>\n",
              "      <td>{0: ['technology columnist']}</td>\n",
              "      <td>{0: 'David Pogue is the personal technology co...</td>\n",
              "      <td>1920832</td>\n",
              "      <td>2006-02-24</td>\n",
              "      <td>2006-06-27</td>\n",
              "      <td>TED2006</td>\n",
              "      <td>en</td>\n",
              "      <td>['ar', 'bg', 'de', 'el', 'en', 'es', 'fa', 'fr...</td>\n",
              "      <td>124.0</td>\n",
              "      <td>1286</td>\n",
              "      <td>['computers', 'entertainment', 'interface desi...</td>\n",
              "      <td>{1725: '10 top time-saving tech tips', 2274: '...</td>\n",
              "      <td>https://www.ted.com/talks/david_pogue_simplici...</td>\n",
              "      <td>New York Times columnist David Pogue takes aim...</td>\n",
              "      <td>(Music: \"The Sound of Silence,\" Simon &amp; Garfun...</td>\n",
              "    </tr>\n",
              "  </tbody>\n",
              "</table>\n",
              "</div>\n",
              "    <div class=\"colab-df-buttons\">\n",
              "\n",
              "  <div class=\"colab-df-container\">\n",
              "    <button class=\"colab-df-convert\" onclick=\"convertToInteractive('df-47cb550b-81df-4826-8f2b-f3e02606fa34')\"\n",
              "            title=\"Convert this dataframe to an interactive table.\"\n",
              "            style=\"display:none;\">\n",
              "\n",
              "  <svg xmlns=\"http://www.w3.org/2000/svg\" height=\"24px\" viewBox=\"0 -960 960 960\">\n",
              "    <path d=\"M120-120v-720h720v720H120Zm60-500h600v-160H180v160Zm220 220h160v-160H400v160Zm0 220h160v-160H400v160ZM180-400h160v-160H180v160Zm440 0h160v-160H620v160ZM180-180h160v-160H180v160Zm440 0h160v-160H620v160Z\"/>\n",
              "  </svg>\n",
              "    </button>\n",
              "\n",
              "  <style>\n",
              "    .colab-df-container {\n",
              "      display:flex;\n",
              "      gap: 12px;\n",
              "    }\n",
              "\n",
              "    .colab-df-convert {\n",
              "      background-color: #E8F0FE;\n",
              "      border: none;\n",
              "      border-radius: 50%;\n",
              "      cursor: pointer;\n",
              "      display: none;\n",
              "      fill: #1967D2;\n",
              "      height: 32px;\n",
              "      padding: 0 0 0 0;\n",
              "      width: 32px;\n",
              "    }\n",
              "\n",
              "    .colab-df-convert:hover {\n",
              "      background-color: #E2EBFA;\n",
              "      box-shadow: 0px 1px 2px rgba(60, 64, 67, 0.3), 0px 1px 3px 1px rgba(60, 64, 67, 0.15);\n",
              "      fill: #174EA6;\n",
              "    }\n",
              "\n",
              "    .colab-df-buttons div {\n",
              "      margin-bottom: 4px;\n",
              "    }\n",
              "\n",
              "    [theme=dark] .colab-df-convert {\n",
              "      background-color: #3B4455;\n",
              "      fill: #D2E3FC;\n",
              "    }\n",
              "\n",
              "    [theme=dark] .colab-df-convert:hover {\n",
              "      background-color: #434B5C;\n",
              "      box-shadow: 0px 1px 3px 1px rgba(0, 0, 0, 0.15);\n",
              "      filter: drop-shadow(0px 1px 2px rgba(0, 0, 0, 0.3));\n",
              "      fill: #FFFFFF;\n",
              "    }\n",
              "  </style>\n",
              "\n",
              "    <script>\n",
              "      const buttonEl =\n",
              "        document.querySelector('#df-47cb550b-81df-4826-8f2b-f3e02606fa34 button.colab-df-convert');\n",
              "      buttonEl.style.display =\n",
              "        google.colab.kernel.accessAllowed ? 'block' : 'none';\n",
              "\n",
              "      async function convertToInteractive(key) {\n",
              "        const element = document.querySelector('#df-47cb550b-81df-4826-8f2b-f3e02606fa34');\n",
              "        const dataTable =\n",
              "          await google.colab.kernel.invokeFunction('convertToInteractive',\n",
              "                                                    [key], {});\n",
              "        if (!dataTable) return;\n",
              "\n",
              "        const docLinkHtml = 'Like what you see? Visit the ' +\n",
              "          '<a target=\"_blank\" href=https://colab.research.google.com/notebooks/data_table.ipynb>data table notebook</a>'\n",
              "          + ' to learn more about interactive tables.';\n",
              "        element.innerHTML = '';\n",
              "        dataTable['output_type'] = 'display_data';\n",
              "        await google.colab.output.renderOutput(dataTable, element);\n",
              "        const docLink = document.createElement('div');\n",
              "        docLink.innerHTML = docLinkHtml;\n",
              "        element.appendChild(docLink);\n",
              "      }\n",
              "    </script>\n",
              "  </div>\n",
              "\n",
              "\n",
              "    <div id=\"df-4b0f9c52-6a84-4769-8c61-ecd7fb63a0b6\">\n",
              "      <button class=\"colab-df-quickchart\" onclick=\"quickchart('df-4b0f9c52-6a84-4769-8c61-ecd7fb63a0b6')\"\n",
              "                title=\"Suggest charts\"\n",
              "                style=\"display:none;\">\n",
              "\n",
              "<svg xmlns=\"http://www.w3.org/2000/svg\" height=\"24px\"viewBox=\"0 0 24 24\"\n",
              "     width=\"24px\">\n",
              "    <g>\n",
              "        <path d=\"M19 3H5c-1.1 0-2 .9-2 2v14c0 1.1.9 2 2 2h14c1.1 0 2-.9 2-2V5c0-1.1-.9-2-2-2zM9 17H7v-7h2v7zm4 0h-2V7h2v10zm4 0h-2v-4h2v4z\"/>\n",
              "    </g>\n",
              "</svg>\n",
              "      </button>\n",
              "\n",
              "<style>\n",
              "  .colab-df-quickchart {\n",
              "      --bg-color: #E8F0FE;\n",
              "      --fill-color: #1967D2;\n",
              "      --hover-bg-color: #E2EBFA;\n",
              "      --hover-fill-color: #174EA6;\n",
              "      --disabled-fill-color: #AAA;\n",
              "      --disabled-bg-color: #DDD;\n",
              "  }\n",
              "\n",
              "  [theme=dark] .colab-df-quickchart {\n",
              "      --bg-color: #3B4455;\n",
              "      --fill-color: #D2E3FC;\n",
              "      --hover-bg-color: #434B5C;\n",
              "      --hover-fill-color: #FFFFFF;\n",
              "      --disabled-bg-color: #3B4455;\n",
              "      --disabled-fill-color: #666;\n",
              "  }\n",
              "\n",
              "  .colab-df-quickchart {\n",
              "    background-color: var(--bg-color);\n",
              "    border: none;\n",
              "    border-radius: 50%;\n",
              "    cursor: pointer;\n",
              "    display: none;\n",
              "    fill: var(--fill-color);\n",
              "    height: 32px;\n",
              "    padding: 0;\n",
              "    width: 32px;\n",
              "  }\n",
              "\n",
              "  .colab-df-quickchart:hover {\n",
              "    background-color: var(--hover-bg-color);\n",
              "    box-shadow: 0 1px 2px rgba(60, 64, 67, 0.3), 0 1px 3px 1px rgba(60, 64, 67, 0.15);\n",
              "    fill: var(--button-hover-fill-color);\n",
              "  }\n",
              "\n",
              "  .colab-df-quickchart-complete:disabled,\n",
              "  .colab-df-quickchart-complete:disabled:hover {\n",
              "    background-color: var(--disabled-bg-color);\n",
              "    fill: var(--disabled-fill-color);\n",
              "    box-shadow: none;\n",
              "  }\n",
              "\n",
              "  .colab-df-spinner {\n",
              "    border: 2px solid var(--fill-color);\n",
              "    border-color: transparent;\n",
              "    border-bottom-color: var(--fill-color);\n",
              "    animation:\n",
              "      spin 1s steps(1) infinite;\n",
              "  }\n",
              "\n",
              "  @keyframes spin {\n",
              "    0% {\n",
              "      border-color: transparent;\n",
              "      border-bottom-color: var(--fill-color);\n",
              "      border-left-color: var(--fill-color);\n",
              "    }\n",
              "    20% {\n",
              "      border-color: transparent;\n",
              "      border-left-color: var(--fill-color);\n",
              "      border-top-color: var(--fill-color);\n",
              "    }\n",
              "    30% {\n",
              "      border-color: transparent;\n",
              "      border-left-color: var(--fill-color);\n",
              "      border-top-color: var(--fill-color);\n",
              "      border-right-color: var(--fill-color);\n",
              "    }\n",
              "    40% {\n",
              "      border-color: transparent;\n",
              "      border-right-color: var(--fill-color);\n",
              "      border-top-color: var(--fill-color);\n",
              "    }\n",
              "    60% {\n",
              "      border-color: transparent;\n",
              "      border-right-color: var(--fill-color);\n",
              "    }\n",
              "    80% {\n",
              "      border-color: transparent;\n",
              "      border-right-color: var(--fill-color);\n",
              "      border-bottom-color: var(--fill-color);\n",
              "    }\n",
              "    90% {\n",
              "      border-color: transparent;\n",
              "      border-bottom-color: var(--fill-color);\n",
              "    }\n",
              "  }\n",
              "</style>\n",
              "\n",
              "      <script>\n",
              "        async function quickchart(key) {\n",
              "          const quickchartButtonEl =\n",
              "            document.querySelector('#' + key + ' button');\n",
              "          quickchartButtonEl.disabled = true;  // To prevent multiple clicks.\n",
              "          quickchartButtonEl.classList.add('colab-df-spinner');\n",
              "          try {\n",
              "            const charts = await google.colab.kernel.invokeFunction(\n",
              "                'suggestCharts', [key], {});\n",
              "          } catch (error) {\n",
              "            console.error('Error during call to suggestCharts:', error);\n",
              "          }\n",
              "          quickchartButtonEl.classList.remove('colab-df-spinner');\n",
              "          quickchartButtonEl.classList.add('colab-df-quickchart-complete');\n",
              "        }\n",
              "        (() => {\n",
              "          let quickchartButtonEl =\n",
              "            document.querySelector('#df-4b0f9c52-6a84-4769-8c61-ecd7fb63a0b6 button');\n",
              "          quickchartButtonEl.style.display =\n",
              "            google.colab.kernel.accessAllowed ? 'block' : 'none';\n",
              "        })();\n",
              "      </script>\n",
              "    </div>\n",
              "\n",
              "    </div>\n",
              "  </div>\n"
            ],
            "application/vnd.google.colaboratory.intrinsic+json": {
              "type": "dataframe",
              "variable_name": "df",
              "summary": "{\n  \"name\": \"df\",\n  \"rows\": 4005,\n  \"fields\": [\n    {\n      \"column\": \"talk_id\",\n      \"properties\": {\n        \"dtype\": \"number\",\n        \"std\": 17447,\n        \"min\": 1,\n        \"max\": 62794,\n        \"num_unique_values\": 4005,\n        \"samples\": [\n          995,\n          1307,\n          1879\n        ],\n        \"semantic_type\": \"\",\n        \"description\": \"\"\n      }\n    },\n    {\n      \"column\": \"title\",\n      \"properties\": {\n        \"dtype\": \"string\",\n        \"num_unique_values\": 4005,\n        \"samples\": [\n          \"Glorious visions in animation and performance\",\n          \"Medicine for the 99 percent\",\n          \"What is so special about the human brain?\"\n        ],\n        \"semantic_type\": \"\",\n        \"description\": \"\"\n      }\n    },\n    {\n      \"column\": \"speaker_1\",\n      \"properties\": {\n        \"dtype\": \"string\",\n        \"num_unique_values\": 3274,\n        \"samples\": [\n          \"Derek Sivers\",\n          \"Esther Meduna\",\n          \"Gillian Gibb\"\n        ],\n        \"semantic_type\": \"\",\n        \"description\": \"\"\n      }\n    },\n    {\n      \"column\": \"all_speakers\",\n      \"properties\": {\n        \"dtype\": \"string\",\n        \"num_unique_values\": 3306,\n        \"samples\": [\n          \"{0: 'Phil Borges'}\",\n          \"{0: 'Anders Ynnerman'}\",\n          \"{0: 'Chip Kidd'}\"\n        ],\n        \"semantic_type\": \"\",\n        \"description\": \"\"\n      }\n    },\n    {\n      \"column\": \"occupations\",\n      \"properties\": {\n        \"dtype\": \"string\",\n        \"num_unique_values\": 2049,\n        \"samples\": [\n          \"{0: ['comparative anatomist', 'paleontologist']}\",\n          \"{0: ['musician', 'conductor']}\",\n          \"{0: ['architect and urbanist']}\"\n        ],\n        \"semantic_type\": \"\",\n        \"description\": \"\"\n      }\n    },\n    {\n      \"column\": \"about_speakers\",\n      \"properties\": {\n        \"dtype\": \"string\",\n        \"num_unique_values\": 2977,\n        \"samples\": [\n          \"{0: 'Kola Masha is the founder of Babban Gona, the first for-profit social enterprise in history to be awarded the prestigious Skoll Award, due to its financial sustainability and highly scalable impact. The organization is part-owned by the farmers they serve.'}\",\n          \"{0: 'Bright Simons is a technology thinker, social innovator and \\\"ideas activist.\\\"'}\",\n          \"{0: 'Francesco Sauro studies caves and other karst features, and his research takes him places no one has ever been before.'}\"\n        ],\n        \"semantic_type\": \"\",\n        \"description\": \"\"\n      }\n    },\n    {\n      \"column\": \"views\",\n      \"properties\": {\n        \"dtype\": \"number\",\n        \"std\": 3451225,\n        \"min\": 0,\n        \"max\": 65051954,\n        \"num_unique_values\": 3996,\n        \"samples\": [\n          3640867,\n          1754608,\n          2666629\n        ],\n        \"semantic_type\": \"\",\n        \"description\": \"\"\n      }\n    },\n    {\n      \"column\": \"recorded_date\",\n      \"properties\": {\n        \"dtype\": \"object\",\n        \"num_unique_values\": 1334,\n        \"samples\": [\n          \"2013-01-08\",\n          \"2017-06-08\",\n          \"2016-09-20\"\n        ],\n        \"semantic_type\": \"\",\n        \"description\": \"\"\n      }\n    },\n    {\n      \"column\": \"published_date\",\n      \"properties\": {\n        \"dtype\": \"object\",\n        \"num_unique_values\": 2962,\n        \"samples\": [\n          \"2015-03-18\",\n          \"2014-06-20\",\n          \"2019-06-03\"\n        ],\n        \"semantic_type\": \"\",\n        \"description\": \"\"\n      }\n    },\n    {\n      \"column\": \"event\",\n      \"properties\": {\n        \"dtype\": \"category\",\n        \"num_unique_values\": 459,\n        \"samples\": [\n          \"TEDxIslay\",\n          \"TEDGlobal 2009\",\n          \"TEDGlobal 2013\"\n        ],\n        \"semantic_type\": \"\",\n        \"description\": \"\"\n      }\n    },\n    {\n      \"column\": \"native_lang\",\n      \"properties\": {\n        \"dtype\": \"category\",\n        \"num_unique_values\": 12,\n        \"samples\": [\n          \"it\",\n          \"ja\",\n          \"en\"\n        ],\n        \"semantic_type\": \"\",\n        \"description\": \"\"\n      }\n    },\n    {\n      \"column\": \"available_lang\",\n      \"properties\": {\n        \"dtype\": \"string\",\n        \"num_unique_values\": 3902,\n        \"samples\": [\n          \"['ar', 'az', 'bg', 'de', 'el', 'en', 'es', 'fa', 'fr', 'he', 'hu', 'it', 'ja', 'ko', 'nl', 'pl', 'pt', 'pt-br', 'ro', 'ru', 'sq', 'sr', 'tr', 'uk', 'vi', 'zh-cn', 'zh-tw']\",\n          \"['ar', 'bg', 'ca', 'cs', 'de', 'el', 'en', 'es', 'fa', 'fi', 'fr', 'gl', 'he', 'hr', 'hu', 'id', 'it', 'ja', 'ko', 'ku', 'mk', 'mr', 'ms', 'my', 'nl', 'pl', 'pt', 'pt-br', 'ru', 'sk', 'sr', 'sv', 'sw', 'th', 'tr', 'uk', 'ur', 'uz', 'vi', 'zh-cn', 'zh-tw']\",\n          \"['ar', 'bg', 'de', 'el', 'en', 'es', 'fa', 'fr', 'he', 'hi', 'hu', 'it', 'ja', 'ko', 'nl', 'pl', 'pt', 'pt-br', 'ru', 'sk', 'sl', 'sr', 'sv', 'th', 'tr', 'vi', 'zh-cn', 'zh-tw']\"\n        ],\n        \"semantic_type\": \"\",\n        \"description\": \"\"\n      }\n    },\n    {\n      \"column\": \"comments\",\n      \"properties\": {\n        \"dtype\": \"number\",\n        \"std\": 268.8389221643949,\n        \"min\": 0.0,\n        \"max\": 6449.0,\n        \"num_unique_values\": 601,\n        \"samples\": [\n          111.0,\n          670.0,\n          1557.0\n        ],\n        \"semantic_type\": \"\",\n        \"description\": \"\"\n      }\n    },\n    {\n      \"column\": \"duration\",\n      \"properties\": {\n        \"dtype\": \"number\",\n        \"std\": 361,\n        \"min\": 60,\n        \"max\": 3922,\n        \"num_unique_values\": 1188,\n        \"samples\": [\n          1181,\n          109,\n          2010\n        ],\n        \"semantic_type\": \"\",\n        \"description\": \"\"\n      }\n    },\n    {\n      \"column\": \"topics\",\n      \"properties\": {\n        \"dtype\": \"string\",\n        \"num_unique_values\": 3977,\n        \"samples\": [\n          \"['creativity', 'design', 'exploration', 'materials', 'transportation']\",\n          \"['TEDx', 'brain', 'depression', 'health', 'mental health', 'neuroscience', \\\"Alzheimer's\\\"]\",\n          \"['children', 'design', 'entertainment', 'entrepreneur', 'gaming', 'toy']\"\n        ],\n        \"semantic_type\": \"\",\n        \"description\": \"\"\n      }\n    },\n    {\n      \"column\": \"related_talks\",\n      \"properties\": {\n        \"dtype\": \"string\",\n        \"num_unique_values\": 4005,\n        \"samples\": [\n          \"{24: 'A dance of \\\"Symbiosis\\\"', 179: 'My magic moves', 1464: 'Dancing with light', 2273: 'An 11-year-old prodigy performs old-school jazz', 2147: 'A dance in a hurricane of paper, wind and light', 1156: 'On violin and cello, \\\"Passacaglia\\\"'}\",\n          \"{249: 'World-class health care', 869: 'HIV and flu -- the vaccine strategy', 1005: 'Making global labor fair', 50855: \\\"Why it's so hard to make healthy decisions\\\", 34369: 'What if all US health care costs were transparent?', 20268: 'You may be accidentally investing in cigarette companies'}\",\n          \"{1308: 'The quest to understand consciousness', 1573: \\\"What we're learning from 5,000 brains\\\", 1671: 'A monkey that controls a robot with its thoughts. No, really.', 24026: 'What percentage of your brain do you use?', 659: 'A brain in a supercomputer', 967: 'I am my connectome'}\"\n        ],\n        \"semantic_type\": \"\",\n        \"description\": \"\"\n      }\n    },\n    {\n      \"column\": \"url\",\n      \"properties\": {\n        \"dtype\": \"string\",\n        \"num_unique_values\": 4005,\n        \"samples\": [\n          \"https://www.ted.com/talks/miwa_matreyek_glorious_visions_in_animation_and_performance/\",\n          \"https://www.ted.com/talks/thomas_pogge_medicine_for_the_99_percent/\",\n          \"https://www.ted.com/talks/suzana_herculano_houzel_what_is_so_special_about_the_human_brain/\"\n        ],\n        \"semantic_type\": \"\",\n        \"description\": \"\"\n      }\n    },\n    {\n      \"column\": \"description\",\n      \"properties\": {\n        \"dtype\": \"string\",\n        \"num_unique_values\": 4005,\n        \"samples\": [\n          \"Using animation, projections and her own moving shadow, Miwa Matreyek performs a gorgeous, meditative piece about inner and outer discovery. Take a quiet 10 minutes and dive in. With music from Anna Oxygen, Mirah, Caroline Lufkin and Mileece.\",\n          \"Sad but true: Many of the cures and vaccines our world desperately needs -- for illnesses millions of people have -- just aren't being produced or developed, because there's no financial incentive. Thomas Pogge proposes a $6 billion plan to revolutionize the way medications are developed and sold.\",\n          \"The human brain is puzzling -- it is curiously large given the size of our bodies, uses a tremendous amount of energy for its weight and has a bizarrely dense cerebral cortex. But: why? Neuroscientist Suzana Herculano-Houzel puts on her detective's cap and leads us through this mystery. By making \\\"brain soup,\\\" she arrives at a startling conclusion.\"\n        ],\n        \"semantic_type\": \"\",\n        \"description\": \"\"\n      }\n    },\n    {\n      \"column\": \"transcript\",\n      \"properties\": {\n        \"dtype\": \"string\",\n        \"num_unique_values\": 4005,\n        \"samples\": [\n          \"(Music by Anna Oxygen) (Music: \\\"Shells\\\" by Mirah) \\u266a You learned how to be a diver \\u266a \\u266a Put on a mask and believe \\u266a \\u266a Gather a dinner of shells for me \\u266a \\u266a Take the tank down so you can breathe \\u266a \\u266a Below \\u266a \\u266a Movements slow \\u266a \\u266a You are an island \\u266a \\u266a All the secrets until then \\u266a \\u266a Pried open I held them \\u266a \\u266a Until they were still \\u266a \\u266a Until they were still \\u266a \\u266a Until they were still \\u266a (Music) (Music by Caroline Lufkin) (Music by Anna Oxygen) \\u266a Dream time, I will find you \\u266a \\u266a You are shady, you are new \\u266a \\u266a I'm not so good at mornings \\u266a \\u266a I can see too clearly \\u266a \\u266a I prefer the nighttime \\u266a \\u266a Dark and blurry \\u266a \\u266a Falling night \\u266a \\u266a Hovering light \\u266a \\u266a Calling night \\u266a \\u266a Hovering light \\u266a \\u266a In the moontime I will give up my life \\u266a \\u266a And in the deep dreams \\u266a \\u266a You will find me \\u266a (Applause) [Excerpts from \\\"Myth and Infrastructure\\\"] Bruno Giussani: Come back. Miwa Matreyek! (Applause)\",\n          \"I hope you're all healthy, and I hope we will all remain healthy for the indefinite future. But that hope is a little bit unrealistic, and so I've got a second back-up hope. The second back-up hope is that, insofar as we have health problems, we will have good medicines to take care of them. Medicines are very cheap to produce and they're very effective \\u2014 much more pleasant, actually, than the alternatives: hospitalization, operations, emergency rooms, the morgue ... None of these are good things. So we should be very grateful that we have pharmacologists around, people who research these things and develop new medicines. And we should be grateful that we have a pharmaceutical industry that supports their activities. But there is a problem, and you can tell from the fact that the pharmaceutical industry isn't well-loved. In fact, in terms of popularity, they rank just about with the tobacco companies and the arms manufacturers. So that's the problem I want to talk with you about today. How would you organize the pharmaceutical industry? If we did it all over again, how would you do it? I think we would think of three main principles. The first one is: we want patients to have access to all the important medicines. Remember, these things are very cheap to produce. So everybody in the world should have access to all the important medicines. Secondly, we want innovative activities, the research and development that pharmaceutical companies do, to track the diseases that are the most important, the most damaging. We want them to aim for the greatest health impact. And thirdly, we want the whole system to be efficient. We want as little of the money that goes into the system to go to waste, to go for overhead, for red tape, and so on and so forth. Very simple three points. Now what about the existing system? I think it does poorly on all these three counts. First, universal access: forget about it. The vast majority of human beings do not have access to medicines, at least while they're still under patent. There are extremely high markups, and that's the problem. The problem is that even though these medicines are very cheap to produce, they cost a great amount of money during the time that they're under patent, and the reason for that is that rich people can pay a lot of money. Pharmaceutical companies have a temporary monopoly; they price for the rich, they forget about the poor. The second problem is innovation. Again, we don't focus on the diseases that do the most damage, and that's often put into the phrase \\\"the 10/90 gap.\\\" Ten percent of all the money spent on pharmaceutical research is focusing on diseases that account for ninety percent of the global burden of disease. And vice versa \\u2014 ninety percent of the money is spent on diseases that account for only ten percent of the global burden of disease. So there's a huge mismatch between where we spend the research money and where the greatest problems are. Now, both these problems \\u2014 the problem with innovation and the problem with access \\u2014 have to do with this: the distribution of money in the world. It's extremely unequal. The blue area here is the top quarter of the human population. They have more than ninety percent of the global household income. The bottom half of humanity, on the other hand, has not even three percent of global household income. So if you're a pharmaceutical company and you look for profit opportunities, you look at this sort of chart and say, \\\"Where's the money? What am I going to research? Who am I going to provide with medicines?\\\" And again, that is in the context of there being only one way in which pharmaceutical companies make money under the present system, that is, through patent-protected markups. That's how they make their money, through markups. And if you make money through markups, then obviously, you will go to where the people have the most income. Now in terms of overall efficiency, the system also does very, very poorly. A lot of money goes for lobbying politicians in order to extend patent periods \\u2014 to \\\"evergreen,\\\" as it's called. Data exclusivity and so on. A lot of money goes for gaming, where brand-name companies pay generic companies to delay entry, for example. A lot of money goes to take our patents in all the different jurisdictions. Money goes \\u2013 even larger amounts \\u2013 for litigation. They're litigating endlessly \\u2014 brand-name company against brand-name company, brand-name company against generic company ... Enormous amounts go there. People say pharmaceutical companies make a lot of profit. Well, yes and no; they do, but a lot of it goes to these wasteful activities. Deadweight losses \\u2014 I won't even tell you what they are, because it's too complicated. But there's also wasteful marketing. A lot of the money that pharmaceutical companies make goes into advertising campaigns, trying to win favor with doctors, trying to persuade patients to try this medicine. And these marketing battles, of course, are a pure waste, because what one company spends to get patients over to their drug, another company spends to win them back. And then there is counterfeiting in the developing countries. A lot of the drugs there, often more than fifty percent of what's sold, are counterfeit drugs, where people say, \\\"Because the drug is so expensive, I can offer you a cheaper version.\\\" But of course it's not the real thing, it's either diluted or it's completely inert. So on the whole, all the money that is spent on pharmaceuticals \\u2014 and it's roughly a trillion dollars now, per annum \\u2014 much of that money is absolutely going to waste, it's not going to where it should be going, namely, to the development of new medicines and to the manufacturing of ones that we already have. Now, many people think that the solution to the problem is moral pressure on pharmaceutical companies. And, sure \\u2014 pharmaceutical companies have moral obligations, just like we do. When we have to make a choice, often between having a little extra money and saving a human life, we often feel that we have a duty to spend the money and save the life. And why should pharmaceutical companies be any different? But really, it isn't realistic to expect pharmaceutical companies to act as well as you or maybe I might act. And the reason is threefold. One is that pharmaceutical companies are bound to their shareholders. The executive of such a company wouldn't last very long if he gave a lot of money away, or she, for good purposes, and thereby lost money for the shareholders. They would be replaced. Also, pharmaceutical companies stand in fierce competition with one another, and if you do more, if you are nicer than the other company, sooner or later, you'll be driven out of the market. You will not survive. The other company will gain market share. And finally, remember \\u2014 the entire industry is dependent for its income on one thing and one thing only: markups. And ultimately, you have to be sustainable. If you spend a lot of money on helping poor people and you don't get paid for it, and you lose this money; you cannot continue with your innovative activities. So for these reasons, it's just unrealistic to expect that pharmaceutical companies will solve the problem on moral grounds. Who, then, should solve the problem? I suggest it has to be us. We, citizens and politicians, have to do better in terms of regulating the pharmaceutical industry, focusing them, giving them the right incentives, focusing them on the problems that really matter. The potential gains here are enormous. About one third of all deaths each day, each year, are due to the diseases of poverty in the developing world. Fifty thousand people every day die prematurely from these diseases. And that's not even counting all the diseases that we know only too well in the rich countries: cancer, heart disease and so on. Again, poor people die often much earlier, because they don't have good medical care, including good medicines. And even in rich countries, many patients are not getting the best medicine. That's sometimes due to the fact that insurance companies won't cover it, because the price is so absolutely ridiculous. And it's also due, sometimes, to the fact that doctors and patients are falsely influenced by advertising campaigns of pharmaceutical companies. So what can we do? How can we change the system? I want to show you a way in which we can better incentivize pharmaceutical innovation and the provision [of] medicines to poor people and rich alike. And that is the Health Impact Fund. The Health Impact Fund is basically opening up the second track with which pharmaceutical innovators can be rewarded for their activities. They have a choice. They can either go with the old system, with patent-protected markups, or they can go with the new system, being rewarded on the basis of the health impact of the medicines that they develop. And with each particular medicine, they have their choice. So they can be partly on one track, partly on the other, with different products. Now, how would the Health Impact Fund work? There would be a fixed reward pool every year. We start with maybe six billion dollars, but that can eventually be revved up. Remember that the total money that the world spends on pharmaceuticals is a trillion. So it's a thousand billion; six billion is a drop in the bucket. It's relatively small, but it would work with six billion, and we'd get a lot of bang for the buck if we introduced the Health Impact Fund with just six billion dollars. If you have a product and you want to register it with the Health Impact Fund, you will be rewarded for a period of 10 years. During these 10 years, you get a share of these annual reward pools. That share would be proportional to your share of the health impact achieved by all these registered products. So if your product accounts for eight percent of the health impact of all the registered products, you get eight percent of the reward money that year. That repeats for 10 years, and at the end of the 10 years, your product goes generic, so you basically lose any further income from it. Each year, the health impact from your product would be evaluated, and you would be paid on that basis. Now, if you take that reward from the Health Impact Fund, you can't claim the other reward, you can't mark up the price. You have to sell at cost. What does that mean? Well, it doesn't mean that the pharmaceutical company tells us what their cost is; but rather, our preferred way of determining what the real cost is of making a medicine, of manufacturing it, is to ask the registrant to put the production of the medicine out for tender, let generic companies compete for the production, and then the innovator would buy the product from the cheapest supplier and would sell it at that same lowest possible price to patients. So the innovator would make no money at all on selling the product, but would make all its money from the health impact rewards. Now, how do we assess the impact of the introduction of a medicine? Well, we assess it relative to the preceding state of the art. So some people, before the medicine came along, had no treatment at all. Now for the first time, they have treatment, because it's cheap; people can afford it. So here, the impact is the difference between being treated and not being treated. In other cases, the new product is better than the old products, and so a person gets switched over to a better product, and we pay for the impact, for the difference the new product makes. If you have a product on the Health Impact Fund and you simply switch somebody from an existing product to another product, to your product, and it's no better, you get no money. That's in stark contrast to the existing system, where you get a lot of money for switching somebody from one product to an equal product that is your product. The Health Impact Fund does not pay for that. We quantify health impact in terms of quality-adjusted life years. That method has been around for about 20 years, and it's very easy to explain. Just think of a human life as a kind of plank. It's eighty inches long, one inch high. And when you die prematurely before you reach 80, well, the plank is a little shorter. And if you're sick during the time that you live, the plank is a little bit thinner. And what diseases can nibble away, medicines can restore, or medicines can avert the taking away of these parts. And they get paid for that. That's the method, basically. Now, we look \\u2013 of course, each year, we have to assess. We have to spend a considerable amount of money looking at how these various medicines that are registered with the Health Impact Fund are doing in various countries. And here, statistics is extremely helpful. You all know how exit polling works. This is a similar method. You look for a statistically significant sample, and then try to figure out what the health impact of the medicine is in different locations, in different demographic groups ... And, of course, you look very carefully at the actual world \\u2014 this is in contrast to how medicines are today rewarded. Sometimes, there is a reward based on performance, but it's the performance in clinical trials, in the laboratory, if you like, and not the performance in the real world. The Health Impact Fund would look at real-world impact. It would look not just at the quality of a drug, but also at how widely it is distributed, whether the innovator manages to target those patients who can benefit the most, and also, how well the drug is used in the field. So innovators would have much stronger incentives than they do now to make sure that every patient who takes the drug knows exactly how to take it to optimal effect. Today, most packaged inserts are not even translated into local languages, and so it's not surprising that patients don't make the best use of the product. Now, how would the financing work? Basically, the Health Impact Fund, as I said, could start with something like six billion dollars. It's not nothing, but it's also not a lot of money, compared to what the world is already spending on pharmaceuticals. So the best way to think of it is as a new way of paying for what we are already paying for, namely, new medicines. You pay with one hand through the tax system, but you get something back with the other hand, because you also get these medicines for cheap. This is not just for poor people \\u2014 everybody will have these Health Impact Fund registered medicines at cost, at a very low price. One very important hurdle here, politically, is that we have to make sure that we have long-term visibility for innovators, that innovators know that the money is actually there, and so we need governments to fund the Health Impact Fund, because only governments can make predictable commitments for a long period of time. Because the Health Impact Fund registration is voluntary, you basically have a self-adjusting reward rate. As the rate rises too high, innovators will come in and drive the rate down. Conversely, if the rate falls too low, innovators would be reluctant to register, and the rate will recover. So the rate will always be at a reasonable level. The Health Impact Fund is beneficial for all parties. It benefits innovators by giving them a new market, and most importantly, by overcoming their public relations problems that we started with. It benefits patients, because patients are much more likely to get the right medicine, and also for these medicines to be developed, the medicines that we most need. And it also benefits governments or taxpayers, if you like, because it creates a permanent source of pharmaceutical innovation that will be here for all future times. It's a kind of machine that always directs pharmaceutical innovation to where we have the greatest problems, maybe for diseases that don't even exist yet. The Health Impact Fund will always channel innovation in the direction where it's most needed. Now, we have a little bit of help already. You can see here the number of people who have agreed to help us, but we want your help as well. We want you to join us, maybe to talk with your government to help us with publicity, to help us with your ideas in perfecting the Health Impact Fund scheme. And what we most urgently need for the moment is to start a pilot. The pilot would introduce one medicine into one jurisdiction on the Health Impact Fund model. The innovator would get paid according to the cost of the medicine for the sales, and would then get additional money on the basis of the health impact. Here, we need funding for the rewards, funding for the assessment, and in particular, we need political support to get politicians to support a pilot of that sort. If you have any further questions, don't hesitate to write us and contact us at this address. Thank you very much. (Applause)\",\n          \"What is so special about the human brain? Why is it that we study other animals instead of them studying us? What does a human brain have or do that no other brain does? When I became interested in these questions about 10 years ago, scientists thought they knew what different brains were made of. Though it was based on very little evidence, many scientists thought that all mammalian brains, including the human brain, were made in the same way, with a number of neurons that was always proportional to the size of the brain. This means that two brains of the same size, like these two, with a respectable 400 grams, should have similar numbers of neurons. Now, if neurons are the functional information processing units of the brain, then the owners of these two brains should have similar cognitive abilities. And yet, one is a chimp, and the other is a cow. Now maybe cows have a really rich internal mental life and are so smart that they choose not to let us realize it, but we eat them. I think most people will agree that chimps are capable of much more complex, elaborate and flexible behaviors than cows are. So this is a first indication that the \\\"all brains are made the same way\\\" scenario is not quite right. But let's play along. If all brains were made the same way and you were to compare animals with brains of different sizes, larger brains should always have more neurons than smaller brains, and the larger the brain, the more cognitively able its owner should be. So the largest brain around should also be the most cognitively able. And here comes the bad news: Our brain, not the largest one around. It seems quite vexing. Our brain weighs between 1.2 and 1.5 kilos, but elephant brains weigh between four and five kilos, and whale brains can weigh up to nine kilos, which is why scientists used to resort to saying that our brain must be special to explain our cognitive abilities. It must be really extraordinary, an exception to the rule. Theirs may be bigger, but ours is better, and it could be better, for example, in that it seems larger than it should be, with a much larger cerebral cortex than we should have for the size of our bodies. So that would give us extra cortex to do more interesting things than just operating the body. That's because the size of the brain usually follows the size of the body. So the main reason for saying that our brain is larger than it should be actually comes from comparing ourselves to great apes. Gorillas can be two to three times larger than we are, so their brains should also be larger than ours, but instead it's the other way around. Our brain is three times larger than a gorilla brain. The human brain also seems special in the amount of energy that it uses. Although it weighs only two percent of the body, it alone uses 25 percent of all the energy that your body requires to run per day. That's 500 calories out of a total of 2,000 calories, just to keep your brain working. So the human brain is larger than it should be, it uses much more energy than it should, so it's special. And this is where the story started to bother me. In biology, we look for rules that apply to all animals and to life in general, so why should the rules of evolution apply to everybody else but not to us? Maybe the problem was with the basic assumption that all brains are made in the same way. Maybe two brains of a similar size can actually be made of very different numbers of neurons. Maybe a very large brain does not necessarily have more neurons than a more modest-sized brain. Maybe the human brain actually has the most neurons of any brain, regardless of its size, especially in the cerebral cortex. So this to me became the important question to answer: how many neurons does the human brain have, and how does that compare to other animals? Now, you may have heard or read somewhere that we have 100 billion neurons, so 10 years ago, I asked my colleagues if they knew where this number came from. But nobody did. I've been digging through the literature for the original reference for that number, and I could never find it. It seems that nobody had actually ever counted the number of neurons in the human brain, or in any other brain for that matter. So I came up with my own way to count cells in the brain, and it essentially consists of dissolving that brain into soup. It works like this: You take a brain, or parts of that brain, and you dissolve it in detergent, which destroys the cell membranes but keeps the cell nuclei intact, so you end up with a suspension of free nuclei that looks like this, like a clear soup. This soup contains all the nuclei that once were a mouse brain. Now, the beauty of a soup is that because it is soup, you can agitate it and make those nuclei be distributed homogeneously in the liquid, so that now by looking under the microscope at just four or five samples of this homogeneous solution, you can count nuclei, and therefore tell how many cells that brain had. It's simple, it's straightforward, and it's really fast. So we've used that method to count neurons in dozens of different species so far, and it turns out that all brains are not made the same way. Take rodents and primates, for instance: In larger rodent brains, the average size of the neuron increases, so the brain inflates very rapidly and gains size much faster than it gains neurons. But primate brains gain neurons without the average neuron becoming any larger, which is a very economical way to add neurons to your brain. The result is that a primate brain will always have more neurons than a rodent brain of the same size, and the larger the brain, the larger this difference will be. Well, what about our brain then? We found that we have, on average, 86 billion neurons, 16 billion of which are in the cerebral cortex, and if you consider that the cerebral cortex is the seat of functions like awareness and logical and abstract reasoning, and that 16 billion is the most neurons that any cortex has, I think this is the simplest explanation for our remarkable cognitive abilities. But just as important is what the 86 billion neurons mean. Because we found that the relationship between the size of the brain and its number of neurons could be described mathematically, we could calculate what a human brain would look like if it was made like a rodent brain. So, a rodent brain with 86 billion neurons would weigh 36 kilos. That's not possible. A brain that huge would be crushed by its own weight, and this impossible brain would go in the body of 89 tons. I don't think it looks like us. So this brings us to a very important conclusion already, which is that we are not rodents. The human brain is not a large rat brain. Compared to a rat, we might seem special, yes, but that's not a fair comparison to make, given that we know that we are not rodents. We are primates, so the correct comparison is to other primates. And there, if you do the math, you find that a generic primate with 86 billion neurons would have a brain of about 1.2 kilos, which seems just right, in a body of some 66 kilos, which in my case is exactly right, which brings us to a very unsurprising but still incredibly important conclusion: I am a primate. And all of you are primates. And so was Darwin. I love to think that Darwin would have really appreciated this. His brain, like ours, was made in the image of other primate brains. So the human brain may be remarkable, yes, but it is not special in its number of neurons. It is just a large primate brain. I think that's a very humbling and sobering thought that should remind us of our place in nature. Why does it cost so much energy, then? Well, other people have figured out how much energy the human brain and that of other species costs, and now that we knew how many neurons each brain was made of, we could do the math. And it turns out that both human and other brains cost about the same, an average of six calories per billion neurons per day. So the total energetic cost of a brain is a simple, linear function of its number of neurons, and it turns out that the human brain costs just as much energy as you would expect. So the reason why the human brain costs so much energy is simply because it has a huge number of neurons, and because we are primates with many more neurons for a given body size than any other animal, the relative cost of our brain is large, but just because we're primates, not because we're special. Last question, then: how did we come by this remarkable number of neurons, and in particular, if great apes are larger than we are, why don't they have a larger brain than we do, with more neurons? When we realized how much expensive it is to have a lot of neurons in the brain, I figured, maybe there's a simple reason. They just can't afford the energy for both a large body and a large number of neurons. So we did the math. We calculated on the one hand how much energy a primate gets per day from eating raw foods, and on the other hand, how much energy a body of a certain size costs and how much energy a brain of a certain number of neurons costs, and we looked for the combinations of body size and number of brain neurons that a primate could afford if it ate a certain number of hours per day. And what we found is that because neurons are so expensive, there is a tradeoff between body size and number of neurons. So a primate that eats eight hours per day can afford at most 53 billion neurons, but then its body cannot be any bigger than 25 kilos. To weigh any more than that, it has to give up neurons. So it's either a large body or a large number of neurons. When you eat like a primate, you can't afford both. One way out of this metabolic limitation would be to spend even more hours per day eating, but that gets dangerous, and past a certain point, it's just not possible. Gorillas and orangutans, for instance, afford about 30 billion neurons by spending eight and a half hours per day eating, and that seems to be about as much as they can do. Nine hours of feeding per day seems to be the practical limit for a primate. What about us? With our 86 billion neurons and 60 to 70 kilos of body mass, we should have to spend over nine hours per day every single day feeding, which is just not feasible. If we ate like a primate, we should not be here. How did we get here, then? Well, if our brain costs just as much energy as it should, and if we can't spend every waking hour of the day feeding, then the only alternative, really, is to somehow get more energy out of the same foods. And remarkably, that matches exactly what our ancestors are believed to have invented one and a half million years ago, when they invented cooking. To cook is to use fire to pre-digest foods outside of your body. Cooked foods are softer, so they're easier to chew and to turn completely into mush in your mouth, so that allows them to be completely digested and absorbed in your gut, which makes them yield much more energy in much less time. So cooking frees time for us to do much more interesting things with our day and with our neurons than just thinking about food, looking for food, and gobbling down food all day long. So because of cooking, what once was a major liability, this large, dangerously expensive brain with a lot of neurons, could now become a major asset, now that we could both afford the energy for a lot of neurons and the time to do interesting things with them. So I think this explains why the human brain grew to become so large so fast in evolution, all of the while remaining just a primate brain. With this large brain now affordable by cooking, we went rapidly from raw foods to culture, agriculture, civilization, grocery stores, electricity, refrigerators, all of those things that nowadays allow us to get all the energy we need for the whole day in a single sitting at your favorite fast food joint. So what once was a solution now became the problem, and ironically, we look for the solution in raw food. So what is the human advantage? What is it that we have that no other animal has? My answer is that we have the largest number of neurons in the cerebral cortex, and I think that's the simplest explanation for our remarkable cognitive abilities. And what is it that we do that no other animal does, and which I believe was fundamental to allow us to reach that large, largest number of neurons in the cortex? In two words, we cook. No other animal cooks its food. Only humans do. And I think that's how we got to become human. Studying the human brain changed the way I think about food. I now look at my kitchen, and I bow to it, and I thank my ancestors for coming up with the invention that probably made us humans. Thank you very much. (Applause)\"\n        ],\n        \"semantic_type\": \"\",\n        \"description\": \"\"\n      }\n    }\n  ]\n}"
            }
          },
          "metadata": {},
          "execution_count": 8
        }
      ]
    },
    {
      "cell_type": "markdown",
      "source": [
        "### Dataset Rows & Columns count"
      ],
      "metadata": {
        "id": "7hBIi_osiCS2"
      }
    },
    {
      "cell_type": "code",
      "source": [
        "# Dataset Rows & Columns count\n",
        "df.shape"
      ],
      "metadata": {
        "id": "Kllu7SJgmLij",
        "colab": {
          "base_uri": "https://localhost:8080/"
        },
        "outputId": "fff3ce81-58dc-40dd-fb49-b3113e838e56"
      },
      "execution_count": null,
      "outputs": [
        {
          "output_type": "execute_result",
          "data": {
            "text/plain": [
              "(4005, 19)"
            ]
          },
          "metadata": {},
          "execution_count": 5
        }
      ]
    },
    {
      "cell_type": "markdown",
      "source": [
        "### Dataset Information"
      ],
      "metadata": {
        "id": "JlHwYmJAmNHm"
      }
    },
    {
      "cell_type": "code",
      "source": [
        "# Dataset Info\n",
        "df.info()"
      ],
      "metadata": {
        "id": "e9hRXRi6meOf",
        "colab": {
          "base_uri": "https://localhost:8080/"
        },
        "outputId": "dcc13ac2-9f09-4b94-a5b6-8d09ff274663"
      },
      "execution_count": null,
      "outputs": [
        {
          "output_type": "stream",
          "name": "stdout",
          "text": [
            "<class 'pandas.core.frame.DataFrame'>\n",
            "RangeIndex: 4005 entries, 0 to 4004\n",
            "Data columns (total 19 columns):\n",
            " #   Column          Non-Null Count  Dtype  \n",
            "---  ------          --------------  -----  \n",
            " 0   talk_id         4005 non-null   int64  \n",
            " 1   title           4005 non-null   object \n",
            " 2   speaker_1       4005 non-null   object \n",
            " 3   all_speakers    4001 non-null   object \n",
            " 4   occupations     3483 non-null   object \n",
            " 5   about_speakers  3502 non-null   object \n",
            " 6   views           4005 non-null   int64  \n",
            " 7   recorded_date   4004 non-null   object \n",
            " 8   published_date  4005 non-null   object \n",
            " 9   event           4005 non-null   object \n",
            " 10  native_lang     4005 non-null   object \n",
            " 11  available_lang  4005 non-null   object \n",
            " 12  comments        3350 non-null   float64\n",
            " 13  duration        4005 non-null   int64  \n",
            " 14  topics          4005 non-null   object \n",
            " 15  related_talks   4005 non-null   object \n",
            " 16  url             4005 non-null   object \n",
            " 17  description     4005 non-null   object \n",
            " 18  transcript      4005 non-null   object \n",
            "dtypes: float64(1), int64(3), object(15)\n",
            "memory usage: 594.6+ KB\n"
          ]
        }
      ]
    },
    {
      "cell_type": "markdown",
      "source": [
        "#### Duplicate Values"
      ],
      "metadata": {
        "id": "35m5QtbWiB9F"
      }
    },
    {
      "cell_type": "code",
      "source": [
        "# Dataset Duplicate Value Count\n",
        "print(df.duplicated().sum())"
      ],
      "metadata": {
        "id": "1sLdpKYkmox0",
        "colab": {
          "base_uri": "https://localhost:8080/"
        },
        "outputId": "90572d52-9fa7-4e35-8ada-ac1b8371ab2d"
      },
      "execution_count": 9,
      "outputs": [
        {
          "output_type": "stream",
          "name": "stdout",
          "text": [
            "0\n"
          ]
        }
      ]
    },
    {
      "cell_type": "markdown",
      "source": [
        "The dataset doesn't contain any duplicate rows."
      ],
      "metadata": {
        "id": "GoMMd_eB2QwL"
      }
    },
    {
      "cell_type": "markdown",
      "source": [
        "#### Missing Values/Null Values"
      ],
      "metadata": {
        "id": "PoPl-ycgm1ru"
      }
    },
    {
      "cell_type": "code",
      "source": [
        "# Missing Values/Null Values Count\n",
        "missing_values = df.isnull().sum()\n",
        "print(missing_values)"
      ],
      "metadata": {
        "id": "GgHWkxvamxVg",
        "colab": {
          "base_uri": "https://localhost:8080/"
        },
        "outputId": "a2cedbf5-b067-4dc3-c813-028d035e19cb"
      },
      "execution_count": 10,
      "outputs": [
        {
          "output_type": "stream",
          "name": "stdout",
          "text": [
            "talk_id             0\n",
            "title               0\n",
            "speaker_1           0\n",
            "all_speakers        4\n",
            "occupations       522\n",
            "about_speakers    503\n",
            "views               0\n",
            "recorded_date       1\n",
            "published_date      0\n",
            "event               0\n",
            "native_lang         0\n",
            "available_lang      0\n",
            "comments          655\n",
            "duration            0\n",
            "topics              0\n",
            "related_talks       0\n",
            "url                 0\n",
            "description         0\n",
            "transcript          0\n",
            "dtype: int64\n"
          ]
        }
      ]
    },
    {
      "cell_type": "code",
      "source": [
        "# Visualizing the missing values\n",
        "plt.figure(figsize=(14, 8))  # Bigger figure for better clarity\n",
        "sns.heatmap(df.isnull(),\n",
        "            cmap='viridis',\n",
        "            cbar=False,\n",
        "            yticklabels=False,\n",
        "            linewidths=0.5,\n",
        "            linecolor='gray')\n",
        "plt.title(\"Improved Missing Values Heatmap\")\n",
        "plt.xlabel(\"Columns\")\n",
        "plt.ylabel(\"Data Points\")\n",
        "plt.show()\n"
      ],
      "metadata": {
        "id": "3q5wnI3om9sJ",
        "collapsed": true,
        "colab": {
          "base_uri": "https://localhost:8080/",
          "height": 813
        },
        "outputId": "29fc3c60-c557-4b51-e9ad-f5edef822745"
      },
      "execution_count": 11,
      "outputs": [
        {
          "output_type": "display_data",
          "data": {
            "text/plain": [
              "<Figure size 1400x800 with 1 Axes>"
            ],
            "image/png": "[encoded data removed]"
          },
          "metadata": {}
        }
      ]
    },
    {
      "cell_type": "markdown",
      "source": [
        "### What did you know about your dataset?"
      ],
      "metadata": {
        "id": "H0kj-8xxnORC"
      }
    },
    {
      "cell_type": "markdown",
      "source": [
        "\n",
        "The dataset contains information about TED Talks, including metadata like title, description, speaker, views, comments, duration, tags, event, and more.\n",
        "\n",
        "\n",
        "Columns like occupations, available_lang, and comments have missing values.\n",
        "\n",
        "Most other columns are complete (no missing data).\n",
        "\n",
        "duration, tags, title, description, speaker_occupation, and comments could be useful for predicting views.\n",
        "\n",
        "\n",
        "The dataset includes text (title, description), numeric (views, duration, comments), categorical (occupation, event), and datetime (recorded/published dates).\n",
        "\n",
        "Duplicates:\n",
        "\n",
        "Duplicate rows may be present and should be handled before modeling.\n"
      ],
      "metadata": {
        "id": "gfoNAAC-nUe_"
      }
    },
    {
      "cell_type": "markdown",
      "source": [
        "## ***2. Understanding Your Variables***"
      ],
      "metadata": {
        "id": "nA9Y7ga8ng1Z"
      }
    },
    {
      "cell_type": "code",
      "source": [
        "# Dataset Columns\n",
        "df.columns"
      ],
      "metadata": {
        "id": "j7xfkqrt5Ag5",
        "colab": {
          "base_uri": "https://localhost:8080/"
        },
        "outputId": "a31cedf9-cada-42bf-a755-d868222b8d63"
      },
      "execution_count": 12,
      "outputs": [
        {
          "output_type": "execute_result",
          "data": {
            "text/plain": [
              "Index(['talk_id', 'title', 'speaker_1', 'all_speakers', 'occupations',\n",
              "       'about_speakers', 'views', 'recorded_date', 'published_date', 'event',\n",
              "       'native_lang', 'available_lang', 'comments', 'duration', 'topics',\n",
              "       'related_talks', 'url', 'description', 'transcript'],\n",
              "      dtype='object')"
            ]
          },
          "metadata": {},
          "execution_count": 12
        }
      ]
    },
    {
      "cell_type": "code",
      "source": [
        "# Dataset Describe\n",
        "df.describe()"
      ],
      "metadata": {
        "id": "DnOaZdaE5Q5t",
        "colab": {
          "base_uri": "https://localhost:8080/",
          "height": 300
        },
        "outputId": "87784454-9ee4-424f-b8a6-3aea3cafbdef"
      },
      "execution_count": 13,
      "outputs": [
        {
          "output_type": "execute_result",
          "data": {
            "text/plain": [
              "            talk_id         views     comments     duration\n",
              "count   4005.000000  4.005000e+03  3350.000000  4005.000000\n",
              "mean   12432.538327  2.148006e+06   161.997015   724.011236\n",
              "std    17447.576262  3.451226e+06   268.838922   361.775462\n",
              "min        1.000000  0.000000e+00     0.000000    60.000000\n",
              "25%     1252.000000  8.820690e+05    38.000000   393.000000\n",
              "50%     2333.000000  1.375508e+06    89.000000   738.000000\n",
              "75%    23777.000000  2.133110e+06   188.000000   974.000000\n",
              "max    62794.000000  6.505195e+07  6449.000000  3922.000000"
            ],
            "text/html": [
              "\n",
              "  <div id=\"df-bfdc48c6-bdb0-474e-969a-0dc15b5c30c0\" class=\"colab-df-container\">\n",
              "    <div>\n",
              "<style scoped>\n",
              "    .dataframe tbody tr th:only-of-type {\n",
              "        vertical-align: middle;\n",
              "    }\n",
              "\n",
              "    .dataframe tbody tr th {\n",
              "        vertical-align: top;\n",
              "    }\n",
              "\n",
              "    .dataframe thead th {\n",
              "        text-align: right;\n",
              "    }\n",
              "</style>\n",
              "<table border=\"1\" class=\"dataframe\">\n",
              "  <thead>\n",
              "    <tr style=\"text-align: right;\">\n",
              "      <th></th>\n",
              "      <th>talk_id</th>\n",
              "      <th>views</th>\n",
              "      <th>comments</th>\n",
              "      <th>duration</th>\n",
              "    </tr>\n",
              "  </thead>\n",
              "  <tbody>\n",
              "    <tr>\n",
              "      <th>count</th>\n",
              "      <td>4005.000000</td>\n",
              "      <td>4.005000e+03</td>\n",
              "      <td>3350.000000</td>\n",
              "      <td>4005.000000</td>\n",
              "    </tr>\n",
              "    <tr>\n",
              "      <th>mean</th>\n",
              "      <td>12432.538327</td>\n",
              "      <td>2.148006e+06</td>\n",
              "      <td>161.997015</td>\n",
              "      <td>724.011236</td>\n",
              "    </tr>\n",
              "    <tr>\n",
              "      <th>std</th>\n",
              "      <td>17447.576262</td>\n",
              "      <td>3.451226e+06</td>\n",
              "      <td>268.838922</td>\n",
              "      <td>361.775462</td>\n",
              "    </tr>\n",
              "    <tr>\n",
              "      <th>min</th>\n",
              "      <td>1.000000</td>\n",
              "      <td>0.000000e+00</td>\n",
              "      <td>0.000000</td>\n",
              "      <td>60.000000</td>\n",
              "    </tr>\n",
              "    <tr>\n",
              "      <th>25%</th>\n",
              "      <td>1252.000000</td>\n",
              "      <td>8.820690e+05</td>\n",
              "      <td>38.000000</td>\n",
              "      <td>393.000000</td>\n",
              "    </tr>\n",
              "    <tr>\n",
              "      <th>50%</th>\n",
              "      <td>2333.000000</td>\n",
              "      <td>1.375508e+06</td>\n",
              "      <td>89.000000</td>\n",
              "      <td>738.000000</td>\n",
              "    </tr>\n",
              "    <tr>\n",
              "      <th>75%</th>\n",
              "      <td>23777.000000</td>\n",
              "      <td>2.133110e+06</td>\n",
              "      <td>188.000000</td>\n",
              "      <td>974.000000</td>\n",
              "    </tr>\n",
              "    <tr>\n",
              "      <th>max</th>\n",
              "      <td>62794.000000</td>\n",
              "      <td>6.505195e+07</td>\n",
              "      <td>6449.000000</td>\n",
              "      <td>3922.000000</td>\n",
              "    </tr>\n",
              "  </tbody>\n",
              "</table>\n",
              "</div>\n",
              "    <div class=\"colab-df-buttons\">\n",
              "\n",
              "  <div class=\"colab-df-container\">\n",
              "    <button class=\"colab-df-convert\" onclick=\"convertToInteractive('df-bfdc48c6-bdb0-474e-969a-0dc15b5c30c0')\"\n",
              "            title=\"Convert this dataframe to an interactive table.\"\n",
              "            style=\"display:none;\">\n",
              "\n",
              "  <svg xmlns=\"http://www.w3.org/2000/svg\" height=\"24px\" viewBox=\"0 -960 960 960\">\n",
              "    <path d=\"M120-120v-720h720v720H120Zm60-500h600v-160H180v160Zm220 220h160v-160H400v160Zm0 220h160v-160H400v160ZM180-400h160v-160H180v160Zm440 0h160v-160H620v160ZM180-180h160v-160H180v160Zm440 0h160v-160H620v160Z\"/>\n",
              "  </svg>\n",
              "    </button>\n",
              "\n",
              "  <style>\n",
              "    .colab-df-container {\n",
              "      display:flex;\n",
              "      gap: 12px;\n",
              "    }\n",
              "\n",
              "    .colab-df-convert {\n",
              "      background-color: #E8F0FE;\n",
              "      border: none;\n",
              "      border-radius: 50%;\n",
              "      cursor: pointer;\n",
              "      display: none;\n",
              "      fill: #1967D2;\n",
              "      height: 32px;\n",
              "      padding: 0 0 0 0;\n",
              "      width: 32px;\n",
              "    }\n",
              "\n",
              "    .colab-df-convert:hover {\n",
              "      background-color: #E2EBFA;\n",
              "      box-shadow: 0px 1px 2px rgba(60, 64, 67, 0.3), 0px 1px 3px 1px rgba(60, 64, 67, 0.15);\n",
              "      fill: #174EA6;\n",
              "    }\n",
              "\n",
              "    .colab-df-buttons div {\n",
              "      margin-bottom: 4px;\n",
              "    }\n",
              "\n",
              "    [theme=dark] .colab-df-convert {\n",
              "      background-color: #3B4455;\n",
              "      fill: #D2E3FC;\n",
              "    }\n",
              "\n",
              "    [theme=dark] .colab-df-convert:hover {\n",
              "      background-color: #434B5C;\n",
              "      box-shadow: 0px 1px 3px 1px rgba(0, 0, 0, 0.15);\n",
              "      filter: drop-shadow(0px 1px 2px rgba(0, 0, 0, 0.3));\n",
              "      fill: #FFFFFF;\n",
              "    }\n",
              "  </style>\n",
              "\n",
              "    <script>\n",
              "      const buttonEl =\n",
              "        document.querySelector('#df-bfdc48c6-bdb0-474e-969a-0dc15b5c30c0 button.colab-df-convert');\n",
              "      buttonEl.style.display =\n",
              "        google.colab.kernel.accessAllowed ? 'block' : 'none';\n",
              "\n",
              "      async function convertToInteractive(key) {\n",
              "        const element = document.querySelector('#df-bfdc48c6-bdb0-474e-969a-0dc15b5c30c0');\n",
              "        const dataTable =\n",
              "          await google.colab.kernel.invokeFunction('convertToInteractive',\n",
              "                                                    [key], {});\n",
              "        if (!dataTable) return;\n",
              "\n",
              "        const docLinkHtml = 'Like what you see? Visit the ' +\n",
              "          '<a target=\"_blank\" href=https://colab.research.google.com/notebooks/data_table.ipynb>data table notebook</a>'\n",
              "          + ' to learn more about interactive tables.';\n",
              "        element.innerHTML = '';\n",
              "        dataTable['output_type'] = 'display_data';\n",
              "        await google.colab.output.renderOutput(dataTable, element);\n",
              "        const docLink = document.createElement('div');\n",
              "        docLink.innerHTML = docLinkHtml;\n",
              "        element.appendChild(docLink);\n",
              "      }\n",
              "    </script>\n",
              "  </div>\n",
              "\n",
              "\n",
              "    <div id=\"df-5429f9e9-e86e-41b7-962b-068d112e0f24\">\n",
              "      <button class=\"colab-df-quickchart\" onclick=\"quickchart('df-5429f9e9-e86e-41b7-962b-068d112e0f24')\"\n",
              "                title=\"Suggest charts\"\n",
              "                style=\"display:none;\">\n",
              "\n",
              "<svg xmlns=\"http://www.w3.org/2000/svg\" height=\"24px\"viewBox=\"0 0 24 24\"\n",
              "     width=\"24px\">\n",
              "    <g>\n",
              "        <path d=\"M19 3H5c-1.1 0-2 .9-2 2v14c0 1.1.9 2 2 2h14c1.1 0 2-.9 2-2V5c0-1.1-.9-2-2-2zM9 17H7v-7h2v7zm4 0h-2V7h2v10zm4 0h-2v-4h2v4z\"/>\n",
              "    </g>\n",
              "</svg>\n",
              "      </button>\n",
              "\n",
              "<style>\n",
              "  .colab-df-quickchart {\n",
              "      --bg-color: #E8F0FE;\n",
              "      --fill-color: #1967D2;\n",
              "      --hover-bg-color: #E2EBFA;\n",
              "      --hover-fill-color: #174EA6;\n",
              "      --disabled-fill-color: #AAA;\n",
              "      --disabled-bg-color: #DDD;\n",
              "  }\n",
              "\n",
              "  [theme=dark] .colab-df-quickchart {\n",
              "      --bg-color: #3B4455;\n",
              "      --fill-color: #D2E3FC;\n",
              "      --hover-bg-color: #434B5C;\n",
              "      --hover-fill-color: #FFFFFF;\n",
              "      --disabled-bg-color: #3B4455;\n",
              "      --disabled-fill-color: #666;\n",
              "  }\n",
              "\n",
              "  .colab-df-quickchart {\n",
              "    background-color: var(--bg-color);\n",
              "    border: none;\n",
              "    border-radius: 50%;\n",
              "    cursor: pointer;\n",
              "    display: none;\n",
              "    fill: var(--fill-color);\n",
              "    height: 32px;\n",
              "    padding: 0;\n",
              "    width: 32px;\n",
              "  }\n",
              "\n",
              "  .colab-df-quickchart:hover {\n",
              "    background-color: var(--hover-bg-color);\n",
              "    box-shadow: 0 1px 2px rgba(60, 64, 67, 0.3), 0 1px 3px 1px rgba(60, 64, 67, 0.15);\n",
              "    fill: var(--button-hover-fill-color);\n",
              "  }\n",
              "\n",
              "  .colab-df-quickchart-complete:disabled,\n",
              "  .colab-df-quickchart-complete:disabled:hover {\n",
              "    background-color: var(--disabled-bg-color);\n",
              "    fill: var(--disabled-fill-color);\n",
              "    box-shadow: none;\n",
              "  }\n",
              "\n",
              "  .colab-df-spinner {\n",
              "    border: 2px solid var(--fill-color);\n",
              "    border-color: transparent;\n",
              "    border-bottom-color: var(--fill-color);\n",
              "    animation:\n",
              "      spin 1s steps(1) infinite;\n",
              "  }\n",
              "\n",
              "  @keyframes spin {\n",
              "    0% {\n",
              "      border-color: transparent;\n",
              "      border-bottom-color: var(--fill-color);\n",
              "      border-left-color: var(--fill-color);\n",
              "    }\n",
              "    20% {\n",
              "      border-color: transparent;\n",
              "      border-left-color: var(--fill-color);\n",
              "      border-top-color: var(--fill-color);\n",
              "    }\n",
              "    30% {\n",
              "      border-color: transparent;\n",
              "      border-left-color: var(--fill-color);\n",
              "      border-top-color: var(--fill-color);\n",
              "      border-right-color: var(--fill-color);\n",
              "    }\n",
              "    40% {\n",
              "      border-color: transparent;\n",
              "      border-right-color: var(--fill-color);\n",
              "      border-top-color: var(--fill-color);\n",
              "    }\n",
              "    60% {\n",
              "      border-color: transparent;\n",
              "      border-right-color: var(--fill-color);\n",
              "    }\n",
              "    80% {\n",
              "      border-color: transparent;\n",
              "      border-right-color: var(--fill-color);\n",
              "      border-bottom-color: var(--fill-color);\n",
              "    }\n",
              "    90% {\n",
              "      border-color: transparent;\n",
              "      border-bottom-color: var(--fill-color);\n",
              "    }\n",
              "  }\n",
              "</style>\n",
              "\n",
              "      <script>\n",
              "        async function quickchart(key) {\n",
              "          const quickchartButtonEl =\n",
              "            document.querySelector('#' + key + ' button');\n",
              "          quickchartButtonEl.disabled = true;  // To prevent multiple clicks.\n",
              "          quickchartButtonEl.classList.add('colab-df-spinner');\n",
              "          try {\n",
              "            const charts = await google.colab.kernel.invokeFunction(\n",
              "                'suggestCharts', [key], {});\n",
              "          } catch (error) {\n",
              "            console.error('Error during call to suggestCharts:', error);\n",
              "          }\n",
              "          quickchartButtonEl.classList.remove('colab-df-spinner');\n",
              "          quickchartButtonEl.classList.add('colab-df-quickchart-complete');\n",
              "        }\n",
              "        (() => {\n",
              "          let quickchartButtonEl =\n",
              "            document.querySelector('#df-5429f9e9-e86e-41b7-962b-068d112e0f24 button');\n",
              "          quickchartButtonEl.style.display =\n",
              "            google.colab.kernel.accessAllowed ? 'block' : 'none';\n",
              "        })();\n",
              "      </script>\n",
              "    </div>\n",
              "\n",
              "    </div>\n",
              "  </div>\n"
            ],
            "application/vnd.google.colaboratory.intrinsic+json": {
              "type": "dataframe",
              "summary": "{\n  \"name\": \"df\",\n  \"rows\": 8,\n  \"fields\": [\n    {\n      \"column\": \"talk_id\",\n      \"properties\": {\n        \"dtype\": \"number\",\n        \"std\": 20932.41756805879,\n        \"min\": 1.0,\n        \"max\": 62794.0,\n        \"num_unique_values\": 8,\n        \"samples\": [\n          12432.538327091135,\n          2333.0,\n          4005.0\n        ],\n        \"semantic_type\": \"\",\n        \"description\": \"\"\n      }\n    },\n    {\n      \"column\": \"views\",\n      \"properties\": {\n        \"dtype\": \"number\",\n        \"std\": 22524641.707642525,\n        \"min\": 0.0,\n        \"max\": 65051954.0,\n        \"num_unique_values\": 8,\n        \"samples\": [\n          2148005.5737827714,\n          1375508.0,\n          4005.0\n        ],\n        \"semantic_type\": \"\",\n        \"description\": \"\"\n      }\n    },\n    {\n      \"column\": \"comments\",\n      \"properties\": {\n        \"dtype\": \"number\",\n        \"std\": 2362.085391628029,\n        \"min\": 0.0,\n        \"max\": 6449.0,\n        \"num_unique_values\": 8,\n        \"samples\": [\n          161.99701492537312,\n          89.0,\n          3350.0\n        ],\n        \"semantic_type\": \"\",\n        \"description\": \"\"\n      }\n    },\n    {\n      \"column\": \"duration\",\n      \"properties\": {\n        \"dtype\": \"number\",\n        \"std\": 1608.4903002653587,\n        \"min\": 60.0,\n        \"max\": 4005.0,\n        \"num_unique_values\": 8,\n        \"samples\": [\n          724.0112359550562,\n          738.0,\n          4005.0\n        ],\n        \"semantic_type\": \"\",\n        \"description\": \"\"\n      }\n    }\n  ]\n}"
            }
          },
          "metadata": {},
          "execution_count": 13
        }
      ]
    },
    {
      "cell_type": "markdown",
      "source": [
        "### Variables Description"
      ],
      "metadata": {
        "id": "PBTbrJXOngz2"
      }
    },
    {
      "cell_type": "markdown",
      "source": [
        "talk_id: Unique identifier for each TED Talk.\n",
        "\n",
        "title:\tTitle of the TED Talk.\n",
        "\n",
        "speaker_1:\tName of the primary speaker giving the talk.\n",
        "\n",
        "all_speakers: Names of all speakers involved in the talk (can include co-speakers).\n",
        "\n",
        "occupations:\tOccupation or background of the speaker(s) (e.g., scientist, artist).\n",
        "\n",
        "about_speakers:\tA brief bio or description about the speaker(s).\n",
        "\n",
        "views:\tTotal number of views the talk has received. (Target variable)\n",
        "\n",
        "recorded_date:\tDate when the talk was recorded.\n",
        "\n",
        "published_date:\tDate when the talk was published online (e.g., on TED.com or YouTube).\n",
        "\n",
        "event:\tThe event at which the TED Talk was delivered.\n",
        "\n",
        "native_lang:\tOriginal language in which the talk was given.\n",
        "\n",
        "available_lang:\tLanguages in which subtitles are available.\n",
        "\n",
        "comments:\tNumber of comments received on the talk (on TED platform).\n",
        "\n",
        "duration:\tLength of the talk in seconds.\n",
        "\n",
        "topics:\tList of topics or themes covered in the talk.\n",
        "\n",
        "related_talks:\tList of other TED Talks related to this one.\n",
        "\n",
        "url:\tURL link to the talk page.\n",
        "\n",
        "description:\tShort summary or description of the talk.\n",
        "\n",
        "transcript:\tFull transcript of the TED Talk (text format)."
      ],
      "metadata": {
        "id": "aJV4KIxSnxay"
      }
    },
    {
      "cell_type": "markdown",
      "source": [
        "### Check Unique Values for each variable."
      ],
      "metadata": {
        "id": "u3PMJOP6ngxN"
      }
    },
    {
      "cell_type": "code",
      "source": [
        "# Check Unique Values for each variable.\n",
        "unique_counts = df.nunique().sort_values(ascending=False)\n",
        "print(unique_counts)\n"
      ],
      "metadata": {
        "id": "zms12Yq5n-jE",
        "colab": {
          "base_uri": "https://localhost:8080/"
        },
        "outputId": "6d3dc712-8a76-4b91-cccd-5a814cab61c0"
      },
      "execution_count": 16,
      "outputs": [
        {
          "output_type": "stream",
          "name": "stdout",
          "text": [
            "talk_id           4005\n",
            "title             4005\n",
            "related_talks     4005\n",
            "description       4005\n",
            "url               4005\n",
            "transcript        4005\n",
            "views             3996\n",
            "topics            3977\n",
            "available_lang    3902\n",
            "all_speakers      3306\n",
            "speaker_1         3274\n",
            "about_speakers    2977\n",
            "published_date    2962\n",
            "occupations       2049\n",
            "recorded_date     1334\n",
            "duration          1188\n",
            "comments           601\n",
            "event              459\n",
            "native_lang         12\n",
            "dtype: int64\n"
          ]
        }
      ]
    },
    {
      "cell_type": "code",
      "source": [
        "#visualising unique values\n",
        "\n",
        "plt.figure(figsize=(14, 6))\n",
        "sns.barplot(x=unique_counts.index, y=unique_counts.values, palette='hls')\n",
        "\n",
        "plt.title('Unique Values per Column')\n",
        "plt.ylabel('Number of Unique Values')\n",
        "plt.xlabel('Columns')\n",
        "plt.xticks(rotation=45, ha='right')\n",
        "plt.tight_layout()\n",
        "plt.show()"
      ],
      "metadata": {
        "id": "sUn5oTq0AZm0",
        "colab": {
          "base_uri": "https://localhost:8080/",
          "height": 642
        },
        "outputId": "e65f9ae5-83a5-4315-98a3-e036e987417f"
      },
      "execution_count": 17,
      "outputs": [
        {
          "output_type": "stream",
          "name": "stderr",
          "text": [
            "/tmp/ipython-input-17-1694939379.py:4: FutureWarning: \n",
            "\n",
            "Passing `palette` without assigning `hue` is deprecated and will be removed in v0.14.0. Assign the `x` variable to `hue` and set `legend=False` for the same effect.\n",
            "\n",
            "  sns.barplot(x=unique_counts.index, y=unique_counts.values, palette='hls')\n"
          ]
        },
        {
          "output_type": "display_data",
          "data": {
            "text/plain": [
              "<Figure size 1400x600 with 1 Axes>"
            ],
            "image/png": "[encoded data removed]"
          },
          "metadata": {}
        }
      ]
    },
    {
      "cell_type": "markdown",
      "source": [
        "## 3. ***Data Wrangling***"
      ],
      "metadata": {
        "id": "dauF4eBmngu3"
      }
    },
    {
      "cell_type": "markdown",
      "source": [
        "### Data Wrangling Code"
      ],
      "metadata": {
        "id": "bKJF3rekwFvQ"
      }
    },
    {
      "cell_type": "code",
      "source": [
        "#Columns with NaN values\n",
        "nan_columns = df.columns[df.isnull().any()].tolist()\n",
        "print(\"Columns with NaN values:\", nan_columns)"
      ],
      "metadata": {
        "id": "byOPpCufR0aD"
      },
      "execution_count": 17,
      "outputs": []
    },
    {
      "cell_type": "code",
      "source": [
        "# Dropping columns we don't need for prediction\n",
        "df = df.drop(['title', 'description', 'transcript', 'about_speakers', 'occupations'], axis=1)"
      ],
      "metadata": {
        "id": "BGaVcQyVPEvX"
      },
      "execution_count": 18,
      "outputs": []
    },
    {
      "cell_type": "code",
      "source": [
        "#checking numeric columns in the dataset\n",
        "numeric_columns = df.select_dtypes(include='number').columns.tolist()\n",
        "print(\"Numeric columns:\", numeric_columns)\n"
      ],
      "metadata": {
        "colab": {
          "base_uri": "https://localhost:8080/"
        },
        "id": "w7ncCcPmTA9g",
        "outputId": "4f8edfa1-c555-4408-9705-539748d20d1a"
      },
      "execution_count": 19,
      "outputs": [
        {
          "output_type": "stream",
          "name": "stdout",
          "text": [
            "Numeric columns: ['talk_id', 'views', 'comments', 'duration']\n"
          ]
        }
      ]
    },
    {
      "cell_type": "code",
      "source": [
        "# Fill missing comments with 0 (assuming missing means no comments)\n",
        "df['comments'] = df['comments'].fillna(0)"
      ],
      "metadata": {
        "id": "wk-9a2fpoLcV"
      },
      "execution_count": 21,
      "outputs": []
    },
    {
      "cell_type": "code",
      "source": [
        "df = df.drop(['url', 'related_talks', 'topics', 'all_speakers', 'speaker_1'], axis=1)\n"
      ],
      "metadata": {
        "id": "x6-D-7M7V_A8"
      },
      "execution_count": 22,
      "outputs": []
    },
    {
      "cell_type": "code",
      "source": [
        "# --- Drop unnecessary ID column ---\n",
        "df.drop('talk_id', axis=1, inplace=True)"
      ],
      "metadata": {
        "id": "59w-q7jfXD3J"
      },
      "execution_count": 23,
      "outputs": []
    },
    {
      "cell_type": "code",
      "source": [
        "# --- Convert dates to datetime format ---\n",
        "df['recorded_date'] = pd.to_datetime(df['recorded_date'], errors='coerce')\n",
        "df['published_date'] = pd.to_datetime(df['published_date'], errors='coerce')"
      ],
      "metadata": {
        "id": "Cp-5kLMGXHcO"
      },
      "execution_count": 24,
      "outputs": []
    },
    {
      "cell_type": "code",
      "source": [
        "df.info()"
      ],
      "metadata": {
        "colab": {
          "base_uri": "https://localhost:8080/"
        },
        "id": "pzYVamJwV0J2",
        "outputId": "b2fcec2b-5e45-4dbe-f1a9-a0774ad7acb8"
      },
      "execution_count": 25,
      "outputs": [
        {
          "output_type": "stream",
          "name": "stdout",
          "text": [
            "<class 'pandas.core.frame.DataFrame'>\n",
            "RangeIndex: 4005 entries, 0 to 4004\n",
            "Data columns (total 8 columns):\n",
            " #   Column          Non-Null Count  Dtype         \n",
            "---  ------          --------------  -----         \n",
            " 0   views           4005 non-null   int64         \n",
            " 1   recorded_date   4004 non-null   datetime64[ns]\n",
            " 2   published_date  4005 non-null   datetime64[ns]\n",
            " 3   event           4005 non-null   object        \n",
            " 4   native_lang     4005 non-null   object        \n",
            " 5   available_lang  4005 non-null   object        \n",
            " 6   comments        4005 non-null   float64       \n",
            " 7   duration        4005 non-null   int64         \n",
            "dtypes: datetime64[ns](2), float64(1), int64(2), object(3)\n",
            "memory usage: 250.4+ KB\n"
          ]
        }
      ]
    },
    {
      "cell_type": "markdown",
      "source": [
        "### What all manipulations have you done and insights you found?"
      ],
      "metadata": {
        "id": "MSa1f5Uengrz"
      }
    },
    {
      "cell_type": "markdown",
      "source": [
        "**Data Manipulations Performed:**\n",
        "\n",
        "Handling Missing Values:\n",
        "\n",
        "* Filled comments with 0, assuming missing means no comments were posted.\n",
        "\n",
        "* Filled missing occupations with the most frequent value (mode), preserving meaningful speaker data.\n",
        "\n",
        "Datetime Conversion:\n",
        "\n",
        "* Converted recorded_date and published_date columns into proper datetime format using pd.to_datetime() with errors='coerce', ensuring invalid or missing dates are handled as NaT.\n",
        "\n",
        "Column Removal:\n",
        "\n",
        "* url: Dropped, as it is a hyperlink and not useful for prediction.\n",
        "\n",
        "* bout_speakers: Dropped, likely due to high null values or irrelevance in modeling.\n",
        "\n",
        "* escription: Dropped, possibly to simplify text processing or due to redundancy with title.\n",
        "\n",
        "* transcript: Dropped, likely due to its large size or complexity for basic modeling.\n",
        "\n",
        "**Insights Gained from These Steps:**\n",
        "\n",
        "The dataset is now cleaner and more consistent.\n",
        "\n",
        "The dataset is more efficient for modeling as unused or bulky text fields like transcript and description have been removed, reducing memory load.\n",
        "\n",
        "Categorical and numeric fields are ready for encoding and scaling.\n"
      ],
      "metadata": {
        "id": "LbyXE7I1olp8"
      }
    },
    {
      "cell_type": "markdown",
      "source": [
        "## ***4. Data Vizualization, Storytelling & Experimenting with charts : Understand the relationships between variables***"
      ],
      "metadata": {
        "id": "GF8Ens_Soomf"
      }
    },
    {
      "cell_type": "markdown",
      "source": [
        "#### Chart - 1"
      ],
      "metadata": {
        "id": "0wOQAZs5pc--"
      }
    },
    {
      "cell_type": "code",
      "source": [
        "# Chart - 1 visualization code\n",
        "# Distribution plot of views\n",
        "plt.figure(figsize=(10,5))\n",
        "sns.histplot(df['views'], bins=50, kde=True)\n",
        "plt.title(\"Distribution of TED Talk Views\")\n",
        "plt.xlabel(\"Views\")\n",
        "plt.ylabel(\"Frequency\")\n",
        "plt.show()\n",
        "\n",
        "# Check for skew\n",
        "df['views'].skew()"
      ],
      "metadata": {
        "id": "7v_ESjsspbW7",
        "colab": {
          "base_uri": "https://localhost:8080/",
          "height": 0
        },
        "outputId": "10be978a-931b-4ce3-b17b-8db4f2e1eca4"
      },
      "execution_count": 26,
      "outputs": [
        {
          "output_type": "display_data",
          "data": {
            "text/plain": [
              "<Figure size 1000x500 with 1 Axes>"
            ],
            "image/png": "[encoded data removed]"
          },
          "metadata": {}
        },
        {
          "output_type": "execute_result",
          "data": {
            "text/plain": [
              "np.float64(8.185743853972696)"
            ]
          },
          "metadata": {},
          "execution_count": 26
        }
      ]
    },
    {
      "cell_type": "markdown",
      "source": [
        "#####  What is/are the insight(s) found from the chart?"
      ],
      "metadata": {
        "id": "lQ7QKXXCp7Bj"
      }
    },
    {
      "cell_type": "markdown",
      "source": [
        "The distribution is heavily right-skewed (a few talks have very high views, but most have low views).\n",
        "\n",
        "Most TED Talks have fewer than 10 million views, as seen by the tall bars near 0.\n",
        "\n",
        "The long tail on the right suggests a small number of talks that have gone viral.\n",
        "\n"
      ],
      "metadata": {
        "id": "C_j1G7yiqdRP"
      }
    },
    {
      "cell_type": "markdown",
      "source": [
        "#### Chart - 2"
      ],
      "metadata": {
        "id": "KSlN3yHqYklG"
      }
    },
    {
      "cell_type": "code",
      "source": [
        "# duration vs views\n",
        "sns.scatterplot(x='duration', y='views', data=df)\n",
        "plt.title(\"Duration vs Views\")\n",
        "plt.xlabel(\"Duration (seconds)\")\n",
        "plt.ylabel(\"Views\")\n",
        "plt.show()"
      ],
      "metadata": {
        "id": "R4YgtaqtYklH",
        "colab": {
          "base_uri": "https://localhost:8080/",
          "height": 472
        },
        "outputId": "dc1ac1b7-89c1-4e58-80c3-19bab171cd83"
      },
      "execution_count": 27,
      "outputs": [
        {
          "output_type": "display_data",
          "data": {
            "text/plain": [
              "<Figure size 640x480 with 1 Axes>"
            ],
            "image/png": "[encoded data removed]"
          },
          "metadata": {}
        }
      ]
    },
    {
      "cell_type": "markdown",
      "source": [
        "##### What is/are the insight(s) found from the chart?"
      ],
      "metadata": {
        "id": "ijmpgYnKYklI"
      }
    },
    {
      "cell_type": "markdown",
      "source": [
        "Most videos with high views are under 20 minutes in duration, with view counts decreasing as video length increases. Short to medium-length videos (5–20 minutes) tend to perform best in terms of viewership."
      ],
      "metadata": {
        "id": "PSx9atu2YklI"
      }
    },
    {
      "cell_type": "markdown",
      "source": [
        "#### Chart - 3"
      ],
      "metadata": {
        "id": "EM7whBJCYoAo"
      }
    },
    {
      "cell_type": "code",
      "source": [
        "# Chart - 3 visualization code\n",
        "sns.scatterplot(x='comments', y='views', data=df)\n",
        "plt.title(\"Comments vs Views\")\n",
        "plt.xlabel(\"Number of Comments\")\n",
        "plt.ylabel(\"Views\")\n",
        "plt.show()"
      ],
      "metadata": {
        "id": "t6GMdE67YoAp",
        "colab": {
          "base_uri": "https://localhost:8080/",
          "height": 472
        },
        "outputId": "af45e9fa-dade-4e56-80c9-6de33cd1a3c8"
      },
      "execution_count": 28,
      "outputs": [
        {
          "output_type": "display_data",
          "data": {
            "text/plain": [
              "<Figure size 640x480 with 1 Axes>"
            ],
            "image/png": "[encoded data removed]"
          },
          "metadata": {}
        }
      ]
    },
    {
      "cell_type": "markdown",
      "source": [
        "#####  What is/are the insight(s) found from the chart?"
      ],
      "metadata": {
        "id": "85gYPyotYoAp"
      }
    },
    {
      "cell_type": "markdown",
      "source": [
        "Most videos with high views have fewer than 1000 comments, showing that high engagement doesn’t always require a large number of comments. A few outliers with many comments also achieved very high views."
      ],
      "metadata": {
        "id": "4jstXR6OYoAp"
      }
    },
    {
      "cell_type": "markdown",
      "source": [
        "#### Chart - 4"
      ],
      "metadata": {
        "id": "4Of9eVA-YrdM"
      }
    },
    {
      "cell_type": "code",
      "source": [
        "# Chart - 4 visualization code\n",
        "df['recorded_date'] = pd.to_datetime(df['recorded_date'], errors='coerce')\n",
        "df['published_date'] = pd.to_datetime(df['published_date'], errors='coerce')\n",
        "df['recorded_year'] = df['recorded_date'].dt.year\n",
        "df['published_year'] = df['published_date'].dt.year"
      ],
      "metadata": {
        "id": "CLAQKdMgFTPB"
      },
      "execution_count": 29,
      "outputs": []
    },
    {
      "cell_type": "code",
      "source": [
        "# Chart - 4 visualization code\n",
        "sns.boxplot(x='published_year', y='views', data=df)\n",
        "plt.title(\"TED Talk Views by Published Year\")\n",
        "plt.xticks(rotation=45)\n",
        "plt.show()"
      ],
      "metadata": {
        "id": "irlUoxc8YrdO",
        "colab": {
          "base_uri": "https://localhost:8080/",
          "height": 493
        },
        "outputId": "6ad46b5f-0535-4ae4-a55f-1f8897e5e6fb"
      },
      "execution_count": 30,
      "outputs": [
        {
          "output_type": "display_data",
          "data": {
            "text/plain": [
              "<Figure size 640x480 with 1 Axes>"
            ],
            "image/png": "[encoded data removed]"
          },
          "metadata": {}
        }
      ]
    },
    {
      "cell_type": "markdown",
      "source": [
        "##### What is/are the insight(s) found from the chart?"
      ],
      "metadata": {
        "id": "F6T5p64dYrdO"
      }
    },
    {
      "cell_type": "markdown",
      "source": [
        "TED Talks published in all years show a wide range of views, but 2006–2013 talks include more high-view outliers. In general, earlier talks tend to have higher views, possibly due to longer time online and viral potential."
      ],
      "metadata": {
        "id": "Xx8WAJvtYrdO"
      }
    },
    {
      "cell_type": "markdown",
      "source": [
        "#### Chart - 5"
      ],
      "metadata": {
        "id": "bamQiAODYuh1"
      }
    },
    {
      "cell_type": "code",
      "source": [
        "# Chart - 5 visualization code\n",
        "top_events = df.groupby('event')['views'].mean().sort_values(ascending=False).head(10)\n",
        "\n",
        "plt.figure(figsize=(12,6))\n",
        "sns.barplot(x=top_events.values, y=top_events.index, palette=\"magma\")\n",
        "plt.title(\"Top 10 Events by Average Views\")\n",
        "plt.xlabel(\"Average Views\")\n",
        "plt.ylabel(\"Event\")\n",
        "plt.show()"
      ],
      "metadata": {
        "id": "TIJwrbroYuh3",
        "colab": {
          "base_uri": "https://localhost:8080/",
          "height": 651
        },
        "outputId": "4bfb54b8-14cc-41dd-9dd9-ff31c926b567"
      },
      "execution_count": 31,
      "outputs": [
        {
          "output_type": "stream",
          "name": "stderr",
          "text": [
            "/tmp/ipython-input-31-1211228772.py:5: FutureWarning: \n",
            "\n",
            "Passing `palette` without assigning `hue` is deprecated and will be removed in v0.14.0. Assign the `y` variable to `hue` and set `legend=False` for the same effect.\n",
            "\n",
            "  sns.barplot(x=top_events.values, y=top_events.index, palette=\"magma\")\n"
          ]
        },
        {
          "output_type": "display_data",
          "data": {
            "text/plain": [
              "<Figure size 1200x600 with 1 Axes>"
            ],
            "image/png": "[encoded data removed]"
          },
          "metadata": {}
        }
      ]
    },
    {
      "cell_type": "markdown",
      "source": [
        "#####  What is/are the insight(s) found from the chart?"
      ],
      "metadata": {
        "id": "GwzvFGzlYuh3"
      }
    },
    {
      "cell_type": "markdown",
      "source": [
        "TEDxPuget Sound has the highest average views among all events, significantly outperforming others. Events like TEDxHull and TEDxHouston also rank high, indicating strong audience engagement with talks from these locations."
      ],
      "metadata": {
        "id": "uyqkiB8YYuh3"
      }
    },
    {
      "cell_type": "markdown",
      "source": [
        "#### Chart - 10"
      ],
      "metadata": {
        "id": "U2RJ9gkRphqQ"
      }
    },
    {
      "cell_type": "code",
      "source": [
        "# Chart - 10 visualization code\n",
        "numeric_cols = ['views', 'comments', 'duration']\n",
        "\n",
        "# Compute correlation matrix\n",
        "corr_matrix = df[numeric_cols].corr()\n",
        "\n",
        "# Plot heatmap\n",
        "import seaborn as sns\n",
        "import matplotlib.pyplot as plt\n",
        "\n",
        "plt.figure(figsize=(6, 4))\n",
        "sns.heatmap(corr_matrix, annot=True, cmap='coolwarm', fmt=\".2f\")\n",
        "plt.title(\"Correlation Matrix (Numeric Features)\")\n",
        "plt.show()"
      ],
      "metadata": {
        "id": "GM7a4YP4phqQ",
        "colab": {
          "base_uri": "https://localhost:8080/",
          "height": 391
        },
        "outputId": "1e9ce3cc-c378-4d32-9869-eb66cb28e3c1"
      },
      "execution_count": 34,
      "outputs": [
        {
          "output_type": "display_data",
          "data": {
            "text/plain": [
              "<Figure size 600x400 with 2 Axes>"
            ],
            "image/png": "[encoded data removed]"
          },
          "metadata": {}
        }
      ]
    },
    {
      "cell_type": "code",
      "source": [
        "df.info()"
      ],
      "metadata": {
        "colab": {
          "base_uri": "https://localhost:8080/"
        },
        "collapsed": true,
        "id": "XEMOVzERQGaU",
        "outputId": "eb9aecd4-ed42-48f7-aa1b-ff350e8a5d24"
      },
      "execution_count": 36,
      "outputs": [
        {
          "output_type": "stream",
          "name": "stdout",
          "text": [
            "<class 'pandas.core.frame.DataFrame'>\n",
            "RangeIndex: 4005 entries, 0 to 4004\n",
            "Data columns (total 10 columns):\n",
            " #   Column          Non-Null Count  Dtype         \n",
            "---  ------          --------------  -----         \n",
            " 0   views           4005 non-null   int64         \n",
            " 1   recorded_date   4004 non-null   datetime64[ns]\n",
            " 2   published_date  4005 non-null   datetime64[ns]\n",
            " 3   event           4005 non-null   object        \n",
            " 4   native_lang     4005 non-null   object        \n",
            " 5   available_lang  4005 non-null   object        \n",
            " 6   comments        4005 non-null   float64       \n",
            " 7   duration        4005 non-null   int64         \n",
            " 8   recorded_year   4004 non-null   float64       \n",
            " 9   published_year  4005 non-null   int32         \n",
            "dtypes: datetime64[ns](2), float64(2), int32(1), int64(2), object(3)\n",
            "memory usage: 297.4+ KB\n"
          ]
        }
      ]
    },
    {
      "cell_type": "markdown",
      "source": [
        "## ***6. Feature Engineering & Data Pre-processing***"
      ],
      "metadata": {
        "id": "yLjJCtPM0KBk"
      }
    },
    {
      "cell_type": "markdown",
      "source": [
        "Feature Engineering is the process of creating new features or modifying existing ones in your dataset to help a machine learning model learn better patterns and make more accurate predictions.\n",
        "\n"
      ],
      "metadata": {
        "id": "R5sPEx5Gszl6"
      }
    },
    {
      "cell_type": "markdown",
      "source": [
        "### 1. Handling Missing Values"
      ],
      "metadata": {
        "id": "xiyOF9F70UgQ"
      }
    },
    {
      "cell_type": "code",
      "source": [
        "# Checking Null values\n",
        "df.isnull().sum()"
      ],
      "metadata": {
        "id": "iRsAHk1K0fpS",
        "colab": {
          "base_uri": "https://localhost:8080/",
          "height": 397
        },
        "outputId": "6b4d4d5a-9784-483e-d726-ad3287489d3f"
      },
      "execution_count": 37,
      "outputs": [
        {
          "output_type": "execute_result",
          "data": {
            "text/plain": [
              "views             0\n",
              "recorded_date     1\n",
              "published_date    0\n",
              "event             0\n",
              "native_lang       0\n",
              "available_lang    0\n",
              "comments          0\n",
              "duration          0\n",
              "recorded_year     1\n",
              "published_year    0\n",
              "dtype: int64"
            ],
            "text/html": [
              "<div>\n",
              "<style scoped>\n",
              "    .dataframe tbody tr th:only-of-type {\n",
              "        vertical-align: middle;\n",
              "    }\n",
              "\n",
              "    .dataframe tbody tr th {\n",
              "        vertical-align: top;\n",
              "    }\n",
              "\n",
              "    .dataframe thead th {\n",
              "        text-align: right;\n",
              "    }\n",
              "</style>\n",
              "<table border=\"1\" class=\"dataframe\">\n",
              "  <thead>\n",
              "    <tr style=\"text-align: right;\">\n",
              "      <th></th>\n",
              "      <th>0</th>\n",
              "    </tr>\n",
              "  </thead>\n",
              "  <tbody>\n",
              "    <tr>\n",
              "      <th>views</th>\n",
              "      <td>0</td>\n",
              "    </tr>\n",
              "    <tr>\n",
              "      <th>recorded_date</th>\n",
              "      <td>1</td>\n",
              "    </tr>\n",
              "    <tr>\n",
              "      <th>published_date</th>\n",
              "      <td>0</td>\n",
              "    </tr>\n",
              "    <tr>\n",
              "      <th>event</th>\n",
              "      <td>0</td>\n",
              "    </tr>\n",
              "    <tr>\n",
              "      <th>native_lang</th>\n",
              "      <td>0</td>\n",
              "    </tr>\n",
              "    <tr>\n",
              "      <th>available_lang</th>\n",
              "      <td>0</td>\n",
              "    </tr>\n",
              "    <tr>\n",
              "      <th>comments</th>\n",
              "      <td>0</td>\n",
              "    </tr>\n",
              "    <tr>\n",
              "      <th>duration</th>\n",
              "      <td>0</td>\n",
              "    </tr>\n",
              "    <tr>\n",
              "      <th>recorded_year</th>\n",
              "      <td>1</td>\n",
              "    </tr>\n",
              "    <tr>\n",
              "      <th>published_year</th>\n",
              "      <td>0</td>\n",
              "    </tr>\n",
              "  </tbody>\n",
              "</table>\n",
              "</div><br><label><b>dtype:</b> int64</label>"
            ]
          },
          "metadata": {},
          "execution_count": 37
        }
      ]
    },
    {
      "cell_type": "markdown",
      "source": [
        "After performing initial data cleaning, only a few columns in the dataset had missing values: recorded_date, recorded_year."
      ],
      "metadata": {
        "id": "FkbwJDoDu9gw"
      }
    },
    {
      "cell_type": "markdown",
      "source": [
        "**Handling Missing Values & Missing Value Imputation**"
      ],
      "metadata": {
        "id": "hTiA34VIward"
      }
    },
    {
      "cell_type": "code",
      "source": [
        "# Fill missing recorded_date with published_date\n",
        "df['recorded_date'] = df['recorded_date'].fillna(df['published_date'])\n"
      ],
      "metadata": {
        "id": "2_A0SyzvwP-G"
      },
      "execution_count": 38,
      "outputs": []
    },
    {
      "cell_type": "code",
      "source": [
        "# Recreate recorded_year\n",
        "df['recorded_year'] = df['recorded_date'].dt.year"
      ],
      "metadata": {
        "id": "eX6CoPP-wRzS"
      },
      "execution_count": 39,
      "outputs": []
    },
    {
      "cell_type": "code",
      "source": [
        "#final check after imputation\n",
        "df.isnull().sum()"
      ],
      "metadata": {
        "colab": {
          "base_uri": "https://localhost:8080/",
          "height": 397
        },
        "id": "5KAEPPfcS0jH",
        "outputId": "8bda19bf-1199-4d22-d067-b88a67a9d0d3"
      },
      "execution_count": 42,
      "outputs": [
        {
          "output_type": "execute_result",
          "data": {
            "text/plain": [
              "views             0\n",
              "recorded_date     0\n",
              "published_date    0\n",
              "event             0\n",
              "native_lang       0\n",
              "available_lang    0\n",
              "comments          0\n",
              "duration          0\n",
              "recorded_year     0\n",
              "published_year    0\n",
              "dtype: int64"
            ],
            "text/html": [
              "<div>\n",
              "<style scoped>\n",
              "    .dataframe tbody tr th:only-of-type {\n",
              "        vertical-align: middle;\n",
              "    }\n",
              "\n",
              "    .dataframe tbody tr th {\n",
              "        vertical-align: top;\n",
              "    }\n",
              "\n",
              "    .dataframe thead th {\n",
              "        text-align: right;\n",
              "    }\n",
              "</style>\n",
              "<table border=\"1\" class=\"dataframe\">\n",
              "  <thead>\n",
              "    <tr style=\"text-align: right;\">\n",
              "      <th></th>\n",
              "      <th>0</th>\n",
              "    </tr>\n",
              "  </thead>\n",
              "  <tbody>\n",
              "    <tr>\n",
              "      <th>views</th>\n",
              "      <td>0</td>\n",
              "    </tr>\n",
              "    <tr>\n",
              "      <th>recorded_date</th>\n",
              "      <td>0</td>\n",
              "    </tr>\n",
              "    <tr>\n",
              "      <th>published_date</th>\n",
              "      <td>0</td>\n",
              "    </tr>\n",
              "    <tr>\n",
              "      <th>event</th>\n",
              "      <td>0</td>\n",
              "    </tr>\n",
              "    <tr>\n",
              "      <th>native_lang</th>\n",
              "      <td>0</td>\n",
              "    </tr>\n",
              "    <tr>\n",
              "      <th>available_lang</th>\n",
              "      <td>0</td>\n",
              "    </tr>\n",
              "    <tr>\n",
              "      <th>comments</th>\n",
              "      <td>0</td>\n",
              "    </tr>\n",
              "    <tr>\n",
              "      <th>duration</th>\n",
              "      <td>0</td>\n",
              "    </tr>\n",
              "    <tr>\n",
              "      <th>recorded_year</th>\n",
              "      <td>0</td>\n",
              "    </tr>\n",
              "    <tr>\n",
              "      <th>published_year</th>\n",
              "      <td>0</td>\n",
              "    </tr>\n",
              "  </tbody>\n",
              "</table>\n",
              "</div><br><label><b>dtype:</b> int64</label>"
            ]
          },
          "metadata": {},
          "execution_count": 42
        }
      ]
    },
    {
      "cell_type": "markdown",
      "source": [
        "#### What all missing value imputation techniques have you used and why did you use those techniques?"
      ],
      "metadata": {
        "id": "7wuGOrhz0itI"
      }
    },
    {
      "cell_type": "markdown",
      "source": [
        "IMPUTATION: Imputation is a technique used for replacing the missing data with some substitute value to retain most of the data/information of the dataset.\n",
        "\n",
        "In this project, I used a combination of domain-aware imputation and logical inference-based techniques to handle missing values effectively. Below are the imputation methods used:\n",
        "\n",
        "1. Forward Imputation using Related Columns\n",
        "\n",
        "   column: recorded_date\n",
        "\n",
        "   Technique: Filled missing recorded_date with the corresponding published_date\n",
        "\n",
        "   Reason: TED Talks are typically recorded shortly before publication. Since only one value was missing, it was reasonable to assume the published date approximates the recording date.\n",
        "\n",
        "2. Derived Feature Regeneration\n",
        "  \n",
        "   Column: recorded_year\n",
        "\n",
        "   Technique: Recomputed using recorded_date.dt.year after fixing the missing recorded_date\n",
        "\n",
        "   Reason: This is a derived feature, so once recorded_date was imputed, the year was easily and accurately extracted.\n",
        "\n",
        "\n",
        "\n",
        "\n",
        "\n"
      ],
      "metadata": {
        "id": "1ixusLtI0pqI"
      }
    },
    {
      "cell_type": "markdown",
      "source": [
        "### 2. Handling Outliers"
      ],
      "metadata": {
        "id": "id1riN9m0vUs"
      }
    },
    {
      "cell_type": "code",
      "source": [
        "#Visualize Outliers with Boxplots\n",
        "plt.figure(figsize=(15, 4))\n",
        "\n",
        "for i, col in enumerate(['views', 'comments', 'duration']):\n",
        "    plt.subplot(1, 3, i+1)\n",
        "    sns.boxplot(x=df[col])\n",
        "    plt.title(f\"Boxplot of {col}\")\n",
        "plt.tight_layout()\n",
        "plt.show()\n"
      ],
      "metadata": {
        "colab": {
          "base_uri": "https://localhost:8080/",
          "height": 349
        },
        "id": "ALnp-Hbe0S13",
        "outputId": "a76c13cc-0925-47cd-cacf-a1f7dc5a7c27"
      },
      "execution_count": 45,
      "outputs": [
        {
          "output_type": "display_data",
          "data": {
            "text/plain": [
              "<Figure size 1500x400 with 3 Axes>"
            ],
            "image/png": "[encoded data removed]"
          },
          "metadata": {}
        }
      ]
    },
    {
      "cell_type": "markdown",
      "source": [
        "Numerical variables, especially views and comments, are heavily right-skewed with many valid but extreme outliers.\n",
        "These can negatively affect model training.\n",
        "\n",
        "To handle this, we can use:\n",
        "\n",
        "Log Transformation:\n",
        "This is a better choice here. It keeps all the data, but reduces the gap between small and large numbers. This makes the data more balanced and easier for the model to learn from.\n",
        "\n",
        "IQR Filtering:\n",
        "This removes rows with very high or low values. But in our case, those high values are important, so removing them is not a good idea.\n",
        "\n",
        "That’s why log transformation is the right choice for this dataset."
      ],
      "metadata": {
        "id": "z4E4yy_M1VsU"
      }
    },
    {
      "cell_type": "code",
      "source": [
        "# Handling Outliers & Outlier treatments\n",
        "# Apply log1p to handle zero values safely\n",
        "df['log_views'] = np.log1p(df['views'])\n",
        "df['log_comments'] = np.log1p(df['comments'])\n",
        "df['log_duration'] = np.log1p(df['duration'])"
      ],
      "metadata": {
        "id": "M6w2CzZf04JK"
      },
      "execution_count": null,
      "outputs": []
    },
    {
      "cell_type": "code",
      "source": [
        "df.info()"
      ],
      "metadata": {
        "colab": {
          "base_uri": "https://localhost:8080/"
        },
        "collapsed": true,
        "id": "QVo3xV7S3I1C",
        "outputId": "c2d4264a-aeca-4a66-da0c-26618633cc00"
      },
      "execution_count": 46,
      "outputs": [
        {
          "output_type": "stream",
          "name": "stdout",
          "text": [
            "<class 'pandas.core.frame.DataFrame'>\n",
            "RangeIndex: 4005 entries, 0 to 4004\n",
            "Data columns (total 10 columns):\n",
            " #   Column          Non-Null Count  Dtype         \n",
            "---  ------          --------------  -----         \n",
            " 0   views           4005 non-null   int64         \n",
            " 1   recorded_date   4005 non-null   datetime64[ns]\n",
            " 2   published_date  4005 non-null   datetime64[ns]\n",
            " 3   event           4005 non-null   object        \n",
            " 4   native_lang     4005 non-null   object        \n",
            " 5   available_lang  4005 non-null   object        \n",
            " 6   comments        4005 non-null   float64       \n",
            " 7   duration        4005 non-null   int64         \n",
            " 8   recorded_year   4005 non-null   int32         \n",
            " 9   published_year  4005 non-null   int32         \n",
            "dtypes: datetime64[ns](2), float64(1), int32(2), int64(2), object(3)\n",
            "memory usage: 281.7+ KB\n"
          ]
        }
      ]
    },
    {
      "cell_type": "markdown",
      "source": [
        "##### What all outlier treatment techniques have you used and why did you use those techniques?"
      ],
      "metadata": {
        "id": "578E2V7j08f6"
      }
    },
    {
      "cell_type": "markdown",
      "source": [
        "I have used Log Transformation.\n",
        "This is a better choice here. It keeps all the data, but reduces the gap between small and large numbers. This makes the data more balanced and easier for the model to learn from."
      ],
      "metadata": {
        "id": "uGZz5OrT1HH-"
      }
    },
    {
      "cell_type": "markdown",
      "source": [
        "### 3. Categorical Encoding"
      ],
      "metadata": {
        "id": "89xtkJwZ18nB"
      }
    },
    {
      "cell_type": "markdown",
      "source": [
        "One-Hot Encode Only the Top 5 Most Frequent Languages"
      ],
      "metadata": {
        "id": "xomnvqmLcXiF"
      }
    },
    {
      "cell_type": "code",
      "source": [
        "# Step 1: Identify top 5 native languages\n",
        "top_5_langs = df['native_lang'].value_counts().nlargest(5).index\n",
        "\n",
        "# Step 2: Create a new column to group others as 'Other'\n",
        "df['native_lang_simplified'] = df['native_lang'].apply(lambda x: x if x in top_5_langs else 'Other')\n"
      ],
      "metadata": {
        "id": "ueAYqIERbL2a"
      },
      "execution_count": 54,
      "outputs": []
    },
    {
      "cell_type": "code",
      "source": [
        " # One-Hot Encode the simplified language column\n",
        "df = pd.get_dummies(df, columns=['native_lang_simplified'], drop_first=True)\n"
      ],
      "metadata": {
        "id": "ey6G2DDDbSto"
      },
      "execution_count": 55,
      "outputs": []
    },
    {
      "cell_type": "code",
      "source": [
        "# Drop the original 'native_lang' column\n",
        "df.drop(columns=['native_lang'], inplace=True)"
      ],
      "metadata": {
        "id": "blwZPdGfbY2J"
      },
      "execution_count": 56,
      "outputs": []
    },
    {
      "cell_type": "code",
      "source": [
        "#Dropping events and available languages column as they contain many unique values.\n",
        "df.drop(columns=['event','available_lang'],inplace=True)"
      ],
      "metadata": {
        "id": "AbVjYEQzbdcp"
      },
      "execution_count": 58,
      "outputs": []
    },
    {
      "cell_type": "code",
      "source": [
        "# Check that all remaining columns are numeric\n",
        "print(\"Non-numeric columns:\", df.select_dtypes(include='object').columns.tolist())\n"
      ],
      "metadata": {
        "colab": {
          "base_uri": "https://localhost:8080/"
        },
        "id": "Fxau-3axGQKO",
        "outputId": "b82232c0-269b-46ef-8396-ae077825d324"
      },
      "execution_count": 60,
      "outputs": [
        {
          "output_type": "stream",
          "name": "stdout",
          "text": [
            "Non-numeric columns: []\n"
          ]
        }
      ]
    },
    {
      "cell_type": "markdown",
      "source": [
        "#### What all categorical encoding techniques have you used & why did you use those techniques?"
      ],
      "metadata": {
        "id": "67NQN5KX2AMe"
      }
    },
    {
      "cell_type": "markdown",
      "source": [
        "I used One Hot Encoding for nominal categorical features where no ordinal relationship exists."
      ],
      "metadata": {
        "id": "UDaue5h32n_G"
      }
    },
    {
      "cell_type": "markdown",
      "source": [
        "### 4. Feature Manipulation & Selection"
      ],
      "metadata": {
        "id": "-oLEiFgy-5Pf"
      }
    },
    {
      "cell_type": "markdown",
      "source": [
        "#### 1. Feature Manipulation"
      ],
      "metadata": {
        "id": "C74aWNz2AliB"
      }
    },
    {
      "cell_type": "code",
      "source": [
        "#creating recorded_month feature using recorded_date\n",
        "df['recorded_month'] = df['recorded_date'].dt.month"
      ],
      "metadata": {
        "id": "yYU8Rc0WciG7"
      },
      "execution_count": 62,
      "outputs": []
    },
    {
      "cell_type": "code",
      "source": [
        "#creating recorded_dayofweek feature\n",
        "df['recorded_dayofweek'] = df['recorded_date'].dt.dayofweek"
      ],
      "metadata": {
        "id": "R9L_58wVdP3C"
      },
      "execution_count": 63,
      "outputs": []
    },
    {
      "cell_type": "code",
      "source": [
        "#creating published_month feature\n",
        "df['published_month'] = df['published_date'].dt.month"
      ],
      "metadata": {
        "id": "QFYFjQ2fdRMu"
      },
      "execution_count": 64,
      "outputs": []
    },
    {
      "cell_type": "code",
      "source": [
        "#creating published_dayofweek feature\n",
        "df['published_dayofweek'] = df['published_date'].dt.dayofweek"
      ],
      "metadata": {
        "id": "CTgeiv_qdVcF"
      },
      "execution_count": 65,
      "outputs": []
    },
    {
      "cell_type": "code",
      "source": [
        "#Create Ratios or Interactions\n",
        "df['comments_per_min'] = df['comments'] / (df['duration'] / 60 + 1e-3)  # avoid div by zero"
      ],
      "metadata": {
        "id": "isqVO4AydZFF"
      },
      "execution_count": 66,
      "outputs": []
    },
    {
      "cell_type": "code",
      "source": [
        "#final columns in the dataset now\n",
        "df.columns"
      ],
      "metadata": {
        "colab": {
          "base_uri": "https://localhost:8080/"
        },
        "id": "Xv64bkeeeXul",
        "outputId": "570e6fc4-250d-43bb-b447-2d2aff94166d"
      },
      "execution_count": 100,
      "outputs": [
        {
          "output_type": "execute_result",
          "data": {
            "text/plain": [
              "Index(['views', 'recorded_date', 'published_date', 'comments', 'duration',\n",
              "       'recorded_year', 'published_year', 'native_lang_simplified_en',\n",
              "       'native_lang_simplified_es', 'native_lang_simplified_fr',\n",
              "       'native_lang_simplified_hi', 'native_lang_simplified_ja',\n",
              "       'recorded_month', 'recorded_dayofweek', 'published_month',\n",
              "       'published_dayofweek', 'comments_per_min', 'comments_log'],\n",
              "      dtype='object')"
            ]
          },
          "metadata": {},
          "execution_count": 100
        }
      ]
    },
    {
      "cell_type": "markdown",
      "source": [
        "### Separating dependent and independent variables into X and Y"
      ],
      "metadata": {
        "id": "WKfwsVykfjoO"
      }
    },
    {
      "cell_type": "code",
      "source": [
        "#separating the dependent and independent variables\n",
        "y=df['views']\n",
        "X=df.drop(columns='views')"
      ],
      "metadata": {
        "id": "0lwtf0R2XG0M"
      },
      "execution_count": 101,
      "outputs": []
    },
    {
      "cell_type": "code",
      "source": [
        "X.head(2)"
      ],
      "metadata": {
        "colab": {
          "base_uri": "https://localhost:8080/",
          "height": 132
        },
        "id": "V9WllOT5XO0f",
        "outputId": "78331dcf-2722-48d9-86e2-ec9286642660"
      },
      "execution_count": 102,
      "outputs": [
        {
          "output_type": "execute_result",
          "data": {
            "text/plain": [
              "  recorded_date published_date  comments  duration  recorded_year  \\\n",
              "0    2006-02-25     2006-06-27     272.0       977           2006   \n",
              "1    2006-02-22     2006-06-27     628.0      1190           2006   \n",
              "\n",
              "   published_year  native_lang_simplified_en  native_lang_simplified_es  \\\n",
              "0            2006                       True                      False   \n",
              "1            2006                       True                      False   \n",
              "\n",
              "   native_lang_simplified_fr  native_lang_simplified_hi  \\\n",
              "0                      False                      False   \n",
              "1                      False                      False   \n",
              "\n",
              "   native_lang_simplified_ja  recorded_month  recorded_dayofweek  \\\n",
              "0                      False               2                   5   \n",
              "1                      False               2                   2   \n",
              "\n",
              "   published_month  published_dayofweek  comments_per_min  comments_log  \n",
              "0                6                    1         16.703171      5.609472  \n",
              "1                6                    1         31.662269      6.444131  "
            ],
            "text/html": [
              "\n",
              "  <div id=\"df-a29827fe-b5b3-4fed-90d3-21bc90e9e373\" class=\"colab-df-container\">\n",
              "    <div>\n",
              "<style scoped>\n",
              "    .dataframe tbody tr th:only-of-type {\n",
              "        vertical-align: middle;\n",
              "    }\n",
              "\n",
              "    .dataframe tbody tr th {\n",
              "        vertical-align: top;\n",
              "    }\n",
              "\n",
              "    .dataframe thead th {\n",
              "        text-align: right;\n",
              "    }\n",
              "</style>\n",
              "<table border=\"1\" class=\"dataframe\">\n",
              "  <thead>\n",
              "    <tr style=\"text-align: right;\">\n",
              "      <th></th>\n",
              "      <th>recorded_date</th>\n",
              "      <th>published_date</th>\n",
              "      <th>comments</th>\n",
              "      <th>duration</th>\n",
              "      <th>recorded_year</th>\n",
              "      <th>published_year</th>\n",
              "      <th>native_lang_simplified_en</th>\n",
              "      <th>native_lang_simplified_es</th>\n",
              "      <th>native_lang_simplified_fr</th>\n",
              "      <th>native_lang_simplified_hi</th>\n",
              "      <th>native_lang_simplified_ja</th>\n",
              "      <th>recorded_month</th>\n",
              "      <th>recorded_dayofweek</th>\n",
              "      <th>published_month</th>\n",
              "      <th>published_dayofweek</th>\n",
              "      <th>comments_per_min</th>\n",
              "      <th>comments_log</th>\n",
              "    </tr>\n",
              "  </thead>\n",
              "  <tbody>\n",
              "    <tr>\n",
              "      <th>0</th>\n",
              "      <td>2006-02-25</td>\n",
              "      <td>2006-06-27</td>\n",
              "      <td>272.0</td>\n",
              "      <td>977</td>\n",
              "      <td>2006</td>\n",
              "      <td>2006</td>\n",
              "      <td>True</td>\n",
              "      <td>False</td>\n",
              "      <td>False</td>\n",
              "      <td>False</td>\n",
              "      <td>False</td>\n",
              "      <td>2</td>\n",
              "      <td>5</td>\n",
              "      <td>6</td>\n",
              "      <td>1</td>\n",
              "      <td>16.703171</td>\n",
              "      <td>5.609472</td>\n",
              "    </tr>\n",
              "    <tr>\n",
              "      <th>1</th>\n",
              "      <td>2006-02-22</td>\n",
              "      <td>2006-06-27</td>\n",
              "      <td>628.0</td>\n",
              "      <td>1190</td>\n",
              "      <td>2006</td>\n",
              "      <td>2006</td>\n",
              "      <td>True</td>\n",
              "      <td>False</td>\n",
              "      <td>False</td>\n",
              "      <td>False</td>\n",
              "      <td>False</td>\n",
              "      <td>2</td>\n",
              "      <td>2</td>\n",
              "      <td>6</td>\n",
              "      <td>1</td>\n",
              "      <td>31.662269</td>\n",
              "      <td>6.444131</td>\n",
              "    </tr>\n",
              "  </tbody>\n",
              "</table>\n",
              "</div>\n",
              "    <div class=\"colab-df-buttons\">\n",
              "\n",
              "  <div class=\"colab-df-container\">\n",
              "    <button class=\"colab-df-convert\" onclick=\"convertToInteractive('df-a29827fe-b5b3-4fed-90d3-21bc90e9e373')\"\n",
              "            title=\"Convert this dataframe to an interactive table.\"\n",
              "            style=\"display:none;\">\n",
              "\n",
              "  <svg xmlns=\"http://www.w3.org/2000/svg\" height=\"24px\" viewBox=\"0 -960 960 960\">\n",
              "    <path d=\"M120-120v-720h720v720H120Zm60-500h600v-160H180v160Zm220 220h160v-160H400v160Zm0 220h160v-160H400v160ZM180-400h160v-160H180v160Zm440 0h160v-160H620v160ZM180-180h160v-160H180v160Zm440 0h160v-160H620v160Z\"/>\n",
              "  </svg>\n",
              "    </button>\n",
              "\n",
              "  <style>\n",
              "    .colab-df-container {\n",
              "      display:flex;\n",
              "      gap: 12px;\n",
              "    }\n",
              "\n",
              "    .colab-df-convert {\n",
              "      background-color: #E8F0FE;\n",
              "      border: none;\n",
              "      border-radius: 50%;\n",
              "      cursor: pointer;\n",
              "      display: none;\n",
              "      fill: #1967D2;\n",
              "      height: 32px;\n",
              "      padding: 0 0 0 0;\n",
              "      width: 32px;\n",
              "    }\n",
              "\n",
              "    .colab-df-convert:hover {\n",
              "      background-color: #E2EBFA;\n",
              "      box-shadow: 0px 1px 2px rgba(60, 64, 67, 0.3), 0px 1px 3px 1px rgba(60, 64, 67, 0.15);\n",
              "      fill: #174EA6;\n",
              "    }\n",
              "\n",
              "    .colab-df-buttons div {\n",
              "      margin-bottom: 4px;\n",
              "    }\n",
              "\n",
              "    [theme=dark] .colab-df-convert {\n",
              "      background-color: #3B4455;\n",
              "      fill: #D2E3FC;\n",
              "    }\n",
              "\n",
              "    [theme=dark] .colab-df-convert:hover {\n",
              "      background-color: #434B5C;\n",
              "      box-shadow: 0px 1px 3px 1px rgba(0, 0, 0, 0.15);\n",
              "      filter: drop-shadow(0px 1px 2px rgba(0, 0, 0, 0.3));\n",
              "      fill: #FFFFFF;\n",
              "    }\n",
              "  </style>\n",
              "\n",
              "    <script>\n",
              "      const buttonEl =\n",
              "        document.querySelector('#df-a29827fe-b5b3-4fed-90d3-21bc90e9e373 button.colab-df-convert');\n",
              "      buttonEl.style.display =\n",
              "        google.colab.kernel.accessAllowed ? 'block' : 'none';\n",
              "\n",
              "      async function convertToInteractive(key) {\n",
              "        const element = document.querySelector('#df-a29827fe-b5b3-4fed-90d3-21bc90e9e373');\n",
              "        const dataTable =\n",
              "          await google.colab.kernel.invokeFunction('convertToInteractive',\n",
              "                                                    [key], {});\n",
              "        if (!dataTable) return;\n",
              "\n",
              "        const docLinkHtml = 'Like what you see? Visit the ' +\n",
              "          '<a target=\"_blank\" href=https://colab.research.google.com/notebooks/data_table.ipynb>data table notebook</a>'\n",
              "          + ' to learn more about interactive tables.';\n",
              "        element.innerHTML = '';\n",
              "        dataTable['output_type'] = 'display_data';\n",
              "        await google.colab.output.renderOutput(dataTable, element);\n",
              "        const docLink = document.createElement('div');\n",
              "        docLink.innerHTML = docLinkHtml;\n",
              "        element.appendChild(docLink);\n",
              "      }\n",
              "    </script>\n",
              "  </div>\n",
              "\n",
              "\n",
              "    <div id=\"df-d366f289-fd15-4bd9-b16a-0fbb903c7150\">\n",
              "      <button class=\"colab-df-quickchart\" onclick=\"quickchart('df-d366f289-fd15-4bd9-b16a-0fbb903c7150')\"\n",
              "                title=\"Suggest charts\"\n",
              "                style=\"display:none;\">\n",
              "\n",
              "<svg xmlns=\"http://www.w3.org/2000/svg\" height=\"24px\"viewBox=\"0 0 24 24\"\n",
              "     width=\"24px\">\n",
              "    <g>\n",
              "        <path d=\"M19 3H5c-1.1 0-2 .9-2 2v14c0 1.1.9 2 2 2h14c1.1 0 2-.9 2-2V5c0-1.1-.9-2-2-2zM9 17H7v-7h2v7zm4 0h-2V7h2v10zm4 0h-2v-4h2v4z\"/>\n",
              "    </g>\n",
              "</svg>\n",
              "      </button>\n",
              "\n",
              "<style>\n",
              "  .colab-df-quickchart {\n",
              "      --bg-color: #E8F0FE;\n",
              "      --fill-color: #1967D2;\n",
              "      --hover-bg-color: #E2EBFA;\n",
              "      --hover-fill-color: #174EA6;\n",
              "      --disabled-fill-color: #AAA;\n",
              "      --disabled-bg-color: #DDD;\n",
              "  }\n",
              "\n",
              "  [theme=dark] .colab-df-quickchart {\n",
              "      --bg-color: #3B4455;\n",
              "      --fill-color: #D2E3FC;\n",
              "      --hover-bg-color: #434B5C;\n",
              "      --hover-fill-color: #FFFFFF;\n",
              "      --disabled-bg-color: #3B4455;\n",
              "      --disabled-fill-color: #666;\n",
              "  }\n",
              "\n",
              "  .colab-df-quickchart {\n",
              "    background-color: var(--bg-color);\n",
              "    border: none;\n",
              "    border-radius: 50%;\n",
              "    cursor: pointer;\n",
              "    display: none;\n",
              "    fill: var(--fill-color);\n",
              "    height: 32px;\n",
              "    padding: 0;\n",
              "    width: 32px;\n",
              "  }\n",
              "\n",
              "  .colab-df-quickchart:hover {\n",
              "    background-color: var(--hover-bg-color);\n",
              "    box-shadow: 0 1px 2px rgba(60, 64, 67, 0.3), 0 1px 3px 1px rgba(60, 64, 67, 0.15);\n",
              "    fill: var(--button-hover-fill-color);\n",
              "  }\n",
              "\n",
              "  .colab-df-quickchart-complete:disabled,\n",
              "  .colab-df-quickchart-complete:disabled:hover {\n",
              "    background-color: var(--disabled-bg-color);\n",
              "    fill: var(--disabled-fill-color);\n",
              "    box-shadow: none;\n",
              "  }\n",
              "\n",
              "  .colab-df-spinner {\n",
              "    border: 2px solid var(--fill-color);\n",
              "    border-color: transparent;\n",
              "    border-bottom-color: var(--fill-color);\n",
              "    animation:\n",
              "      spin 1s steps(1) infinite;\n",
              "  }\n",
              "\n",
              "  @keyframes spin {\n",
              "    0% {\n",
              "      border-color: transparent;\n",
              "      border-bottom-color: var(--fill-color);\n",
              "      border-left-color: var(--fill-color);\n",
              "    }\n",
              "    20% {\n",
              "      border-color: transparent;\n",
              "      border-left-color: var(--fill-color);\n",
              "      border-top-color: var(--fill-color);\n",
              "    }\n",
              "    30% {\n",
              "      border-color: transparent;\n",
              "      border-left-color: var(--fill-color);\n",
              "      border-top-color: var(--fill-color);\n",
              "      border-right-color: var(--fill-color);\n",
              "    }\n",
              "    40% {\n",
              "      border-color: transparent;\n",
              "      border-right-color: var(--fill-color);\n",
              "      border-top-color: var(--fill-color);\n",
              "    }\n",
              "    60% {\n",
              "      border-color: transparent;\n",
              "      border-right-color: var(--fill-color);\n",
              "    }\n",
              "    80% {\n",
              "      border-color: transparent;\n",
              "      border-right-color: var(--fill-color);\n",
              "      border-bottom-color: var(--fill-color);\n",
              "    }\n",
              "    90% {\n",
              "      border-color: transparent;\n",
              "      border-bottom-color: var(--fill-color);\n",
              "    }\n",
              "  }\n",
              "</style>\n",
              "\n",
              "      <script>\n",
              "        async function quickchart(key) {\n",
              "          const quickchartButtonEl =\n",
              "            document.querySelector('#' + key + ' button');\n",
              "          quickchartButtonEl.disabled = true;  // To prevent multiple clicks.\n",
              "          quickchartButtonEl.classList.add('colab-df-spinner');\n",
              "          try {\n",
              "            const charts = await google.colab.kernel.invokeFunction(\n",
              "                'suggestCharts', [key], {});\n",
              "          } catch (error) {\n",
              "            console.error('Error during call to suggestCharts:', error);\n",
              "          }\n",
              "          quickchartButtonEl.classList.remove('colab-df-spinner');\n",
              "          quickchartButtonEl.classList.add('colab-df-quickchart-complete');\n",
              "        }\n",
              "        (() => {\n",
              "          let quickchartButtonEl =\n",
              "            document.querySelector('#df-d366f289-fd15-4bd9-b16a-0fbb903c7150 button');\n",
              "          quickchartButtonEl.style.display =\n",
              "            google.colab.kernel.accessAllowed ? 'block' : 'none';\n",
              "        })();\n",
              "      </script>\n",
              "    </div>\n",
              "\n",
              "    </div>\n",
              "  </div>\n"
            ],
            "application/vnd.google.colaboratory.intrinsic+json": {
              "type": "dataframe",
              "variable_name": "X",
              "summary": "{\n  \"name\": \"X\",\n  \"rows\": 4005,\n  \"fields\": [\n    {\n      \"column\": \"recorded_date\",\n      \"properties\": {\n        \"dtype\": \"date\",\n        \"min\": \"1984-02-02 00:00:00\",\n        \"max\": \"2020-04-30 00:00:00\",\n        \"num_unique_values\": 1334,\n        \"samples\": [\n          \"2013-01-08 00:00:00\",\n          \"2017-06-08 00:00:00\",\n          \"2016-09-20 00:00:00\"\n        ],\n        \"semantic_type\": \"\",\n        \"description\": \"\"\n      }\n    },\n    {\n      \"column\": \"published_date\",\n      \"properties\": {\n        \"dtype\": \"date\",\n        \"min\": \"2006-06-27 00:00:00\",\n        \"max\": \"2020-04-30 00:00:00\",\n        \"num_unique_values\": 2962,\n        \"samples\": [\n          \"2015-03-18 00:00:00\",\n          \"2014-06-20 00:00:00\",\n          \"2019-06-03 00:00:00\"\n        ],\n        \"semantic_type\": \"\",\n        \"description\": \"\"\n      }\n    },\n    {\n      \"column\": \"comments\",\n      \"properties\": {\n        \"dtype\": \"number\",\n        \"std\": 253.0655323016275,\n        \"min\": 0.0,\n        \"max\": 6449.0,\n        \"num_unique_values\": 601,\n        \"samples\": [\n          111.0,\n          670.0,\n          350.0\n        ],\n        \"semantic_type\": \"\",\n        \"description\": \"\"\n      }\n    },\n    {\n      \"column\": \"duration\",\n      \"properties\": {\n        \"dtype\": \"number\",\n        \"std\": 361,\n        \"min\": 60,\n        \"max\": 3922,\n        \"num_unique_values\": 1188,\n        \"samples\": [\n          1181,\n          109,\n          2010\n        ],\n        \"semantic_type\": \"\",\n        \"description\": \"\"\n      }\n    },\n    {\n      \"column\": \"recorded_year\",\n      \"properties\": {\n        \"dtype\": \"int32\",\n        \"num_unique_values\": 24,\n        \"samples\": [\n          1984,\n          2013,\n          2006\n        ],\n        \"semantic_type\": \"\",\n        \"description\": \"\"\n      }\n    },\n    {\n      \"column\": \"published_year\",\n      \"properties\": {\n        \"dtype\": \"int32\",\n        \"num_unique_values\": 15,\n        \"samples\": [\n          2015,\n          2017,\n          2006\n        ],\n        \"semantic_type\": \"\",\n        \"description\": \"\"\n      }\n    },\n    {\n      \"column\": \"native_lang_simplified_en\",\n      \"properties\": {\n        \"dtype\": \"boolean\",\n        \"num_unique_values\": 2,\n        \"samples\": [\n          false,\n          true\n        ],\n        \"semantic_type\": \"\",\n        \"description\": \"\"\n      }\n    },\n    {\n      \"column\": \"native_lang_simplified_es\",\n      \"properties\": {\n        \"dtype\": \"boolean\",\n        \"num_unique_values\": 2,\n        \"samples\": [\n          true,\n          false\n        ],\n        \"semantic_type\": \"\",\n        \"description\": \"\"\n      }\n    },\n    {\n      \"column\": \"native_lang_simplified_fr\",\n      \"properties\": {\n        \"dtype\": \"boolean\",\n        \"num_unique_values\": 2,\n        \"samples\": [\n          true,\n          false\n        ],\n        \"semantic_type\": \"\",\n        \"description\": \"\"\n      }\n    },\n    {\n      \"column\": \"native_lang_simplified_hi\",\n      \"properties\": {\n        \"dtype\": \"boolean\",\n        \"num_unique_values\": 2,\n        \"samples\": [\n          true,\n          false\n        ],\n        \"semantic_type\": \"\",\n        \"description\": \"\"\n      }\n    },\n    {\n      \"column\": \"native_lang_simplified_ja\",\n      \"properties\": {\n        \"dtype\": \"boolean\",\n        \"num_unique_values\": 2,\n        \"samples\": [\n          true,\n          false\n        ],\n        \"semantic_type\": \"\",\n        \"description\": \"\"\n      }\n    },\n    {\n      \"column\": \"recorded_month\",\n      \"properties\": {\n        \"dtype\": \"int32\",\n        \"num_unique_values\": 12,\n        \"samples\": [\n          4,\n          5\n        ],\n        \"semantic_type\": \"\",\n        \"description\": \"\"\n      }\n    },\n    {\n      \"column\": \"recorded_dayofweek\",\n      \"properties\": {\n        \"dtype\": \"int32\",\n        \"num_unique_values\": 7,\n        \"samples\": [\n          5,\n          2\n        ],\n        \"semantic_type\": \"\",\n        \"description\": \"\"\n      }\n    },\n    {\n      \"column\": \"published_month\",\n      \"properties\": {\n        \"dtype\": \"int32\",\n        \"num_unique_values\": 12,\n        \"samples\": [\n          5,\n          4\n        ],\n        \"semantic_type\": \"\",\n        \"description\": \"\"\n      }\n    },\n    {\n      \"column\": \"published_dayofweek\",\n      \"properties\": {\n        \"dtype\": \"int32\",\n        \"num_unique_values\": 7,\n        \"samples\": [\n          1,\n          0\n        ],\n        \"semantic_type\": \"\",\n        \"description\": \"\"\n      }\n    },\n    {\n      \"column\": \"comments_per_min\",\n      \"properties\": {\n        \"dtype\": \"number\",\n        \"std\": 19.548584016540214,\n        \"min\": 0.0,\n        \"max\": 268.06345617072395,\n        \"num_unique_values\": 3329,\n        \"samples\": [\n          8.878636868104367,\n          5.084228722502797\n        ],\n        \"semantic_type\": \"\",\n        \"description\": \"\"\n      }\n    },\n    {\n      \"column\": \"comments_log\",\n      \"properties\": {\n        \"dtype\": \"number\",\n        \"std\": 1.9594964775831403,\n        \"min\": 0.0,\n        \"max\": 8.771835409789817,\n        \"num_unique_values\": 601,\n        \"samples\": [\n          4.718498871295094,\n          6.508769136971682\n        ],\n        \"semantic_type\": \"\",\n        \"description\": \"\"\n      }\n    }\n  ]\n}"
            }
          },
          "metadata": {},
          "execution_count": 102
        }
      ]
    },
    {
      "cell_type": "code",
      "source": [
        "y.head()"
      ],
      "metadata": {
        "colab": {
          "base_uri": "https://localhost:8080/",
          "height": 241
        },
        "id": "TWedxbAGXd5P",
        "outputId": "4a7dd447-b129-4ad1-ec2d-9b0efe8e6a3c"
      },
      "execution_count": 103,
      "outputs": [
        {
          "output_type": "execute_result",
          "data": {
            "text/plain": [
              "0     3523392\n",
              "1    14501685\n",
              "2     1920832\n",
              "3     2664069\n",
              "4    65051954\n",
              "Name: views, dtype: int64"
            ],
            "text/html": [
              "<div>\n",
              "<style scoped>\n",
              "    .dataframe tbody tr th:only-of-type {\n",
              "        vertical-align: middle;\n",
              "    }\n",
              "\n",
              "    .dataframe tbody tr th {\n",
              "        vertical-align: top;\n",
              "    }\n",
              "\n",
              "    .dataframe thead th {\n",
              "        text-align: right;\n",
              "    }\n",
              "</style>\n",
              "<table border=\"1\" class=\"dataframe\">\n",
              "  <thead>\n",
              "    <tr style=\"text-align: right;\">\n",
              "      <th></th>\n",
              "      <th>views</th>\n",
              "    </tr>\n",
              "  </thead>\n",
              "  <tbody>\n",
              "    <tr>\n",
              "      <th>0</th>\n",
              "      <td>3523392</td>\n",
              "    </tr>\n",
              "    <tr>\n",
              "      <th>1</th>\n",
              "      <td>14501685</td>\n",
              "    </tr>\n",
              "    <tr>\n",
              "      <th>2</th>\n",
              "      <td>1920832</td>\n",
              "    </tr>\n",
              "    <tr>\n",
              "      <th>3</th>\n",
              "      <td>2664069</td>\n",
              "    </tr>\n",
              "    <tr>\n",
              "      <th>4</th>\n",
              "      <td>65051954</td>\n",
              "    </tr>\n",
              "  </tbody>\n",
              "</table>\n",
              "</div><br><label><b>dtype:</b> int64</label>"
            ]
          },
          "metadata": {},
          "execution_count": 103
        }
      ]
    },
    {
      "cell_type": "code",
      "source": [
        "# Remove datetime columns if any\n",
        "X = X.select_dtypes(include=['int64', 'float64', 'int32', 'float32','bool'])"
      ],
      "metadata": {
        "id": "2YtAQqltjJQO"
      },
      "execution_count": 104,
      "outputs": []
    },
    {
      "cell_type": "code",
      "source": [
        "X.info()"
      ],
      "metadata": {
        "colab": {
          "base_uri": "https://localhost:8080/"
        },
        "collapsed": true,
        "id": "XJNemQdUtDgH",
        "outputId": "445583b3-431c-4c3c-f4f4-b77af78123e8"
      },
      "execution_count": 111,
      "outputs": [
        {
          "output_type": "stream",
          "name": "stdout",
          "text": [
            "<class 'pandas.core.frame.DataFrame'>\n",
            "RangeIndex: 4005 entries, 0 to 4004\n",
            "Data columns (total 15 columns):\n",
            " #   Column                     Non-Null Count  Dtype  \n",
            "---  ------                     --------------  -----  \n",
            " 0   comments                   4005 non-null   float64\n",
            " 1   duration                   4005 non-null   int64  \n",
            " 2   recorded_year              4005 non-null   int32  \n",
            " 3   published_year             4005 non-null   int32  \n",
            " 4   native_lang_simplified_en  4005 non-null   bool   \n",
            " 5   native_lang_simplified_es  4005 non-null   bool   \n",
            " 6   native_lang_simplified_fr  4005 non-null   bool   \n",
            " 7   native_lang_simplified_hi  4005 non-null   bool   \n",
            " 8   native_lang_simplified_ja  4005 non-null   bool   \n",
            " 9   recorded_month             4005 non-null   int32  \n",
            " 10  recorded_dayofweek         4005 non-null   int32  \n",
            " 11  published_month            4005 non-null   int32  \n",
            " 12  published_dayofweek        4005 non-null   int32  \n",
            " 13  comments_per_min           4005 non-null   float64\n",
            " 14  comments_log               4005 non-null   float64\n",
            "dtypes: bool(5), float64(3), int32(6), int64(1)\n",
            "memory usage: 238.7 KB\n"
          ]
        }
      ]
    },
    {
      "cell_type": "markdown",
      "source": [
        "####  Feature Selection"
      ],
      "metadata": {
        "id": "2DejudWSA-a0"
      }
    },
    {
      "cell_type": "code",
      "source": [
        "# Select your features wisely to avoid overfitting\n",
        "train_corr = X_train.copy()\n",
        "train_corr['views'] = y_train\n",
        "correlation = train_corr.corr()['views'].sort_values(ascending=False)\n",
        "\n",
        "print(\"\\n📌 Top correlated features with 'views':\")\n",
        "print(correlation[1:11])  # skip 'views' itself"
      ],
      "metadata": {
        "id": "YLhe8UmaBCEE",
        "colab": {
          "base_uri": "https://localhost:8080/"
        },
        "outputId": "05590645-3e95-464c-fbae-4ea7370c2790"
      },
      "execution_count": 112,
      "outputs": [
        {
          "output_type": "stream",
          "name": "stdout",
          "text": [
            "\n",
            "📌 Top correlated features with 'views':\n",
            "comments                     0.469092\n",
            "comments_per_min             0.401118\n",
            "comments_log                 0.208963\n",
            "duration                     0.072776\n",
            "published_dayofweek          0.045572\n",
            "native_lang_simplified_en    0.044072\n",
            "native_lang_simplified_hi   -0.011182\n",
            "native_lang_simplified_ja   -0.014702\n",
            "native_lang_simplified_fr   -0.016098\n",
            "recorded_dayofweek          -0.036458\n",
            "Name: views, dtype: float64\n"
          ]
        }
      ]
    },
    {
      "cell_type": "markdown",
      "source": [
        "##### What all feature selection methods have you used  and why?"
      ],
      "metadata": {
        "id": "pEMng2IbBLp7"
      }
    },
    {
      "cell_type": "markdown",
      "source": [
        "Answer Here."
      ],
      "metadata": {
        "id": "rb2Lh6Z8BgGs"
      }
    },
    {
      "cell_type": "markdown",
      "source": [
        "##### Which all features you found important and why?"
      ],
      "metadata": {
        "id": "rAdphbQ9Bhjc"
      }
    },
    {
      "cell_type": "markdown",
      "source": [
        "Answer Here."
      ],
      "metadata": {
        "id": "fGgaEstsBnaf"
      }
    },
    {
      "cell_type": "markdown",
      "source": [
        "Data Scaling\n"
      ],
      "metadata": {
        "id": "QzdHqbvmX3r8"
      }
    },
    {
      "cell_type": "code",
      "source": [],
      "metadata": {
        "id": "4I5h6jn2X5hj"
      },
      "execution_count": null,
      "outputs": []
    },
    {
      "cell_type": "markdown",
      "source": [
        "###  Data Splitting"
      ],
      "metadata": {
        "id": "BhH2vgX9EjGr"
      }
    },
    {
      "cell_type": "code",
      "source": [
        "# Split your data to train and test. Choose Splitting ratio wisely.\n",
        "from sklearn.model_selection import train_test_split\n",
        "X_train, X_test, y_train, y_test = train_test_split(\n",
        "    X, y,\n",
        "    test_size=0.2,       # 20% test, 80% train\n",
        "    random_state=42      # ensures reproducibility\n",
        ")"
      ],
      "metadata": {
        "id": "0CTyd2UwEyNM"
      },
      "execution_count": 113,
      "outputs": []
    },
    {
      "cell_type": "markdown",
      "source": [
        "##### What data splitting ratio have you used and why?"
      ],
      "metadata": {
        "id": "qjKvONjwE8ra"
      }
    },
    {
      "cell_type": "markdown",
      "source": [
        "I have used 80:20"
      ],
      "metadata": {
        "id": "Y2lJ8cobFDb_"
      }
    },
    {
      "cell_type": "code",
      "source": [
        "y_train_log = np.log1p(y_train)\n",
        "y_test_log = np.log1p(y_test)"
      ],
      "metadata": {
        "id": "exRN2logtZ0A"
      },
      "execution_count": 114,
      "outputs": []
    },
    {
      "cell_type": "markdown",
      "source": [
        "## ***ML Model Implementation***"
      ],
      "metadata": {
        "id": "VfCC591jGiD4"
      }
    },
    {
      "cell_type": "markdown",
      "source": [
        "### ML Model - 1"
      ],
      "metadata": {
        "id": "OB4l2ZhMeS1U"
      }
    },
    {
      "cell_type": "markdown",
      "source": [
        "#### 1. Explain the ML Model used and it's performance using Evaluation metric Score Chart."
      ],
      "metadata": {
        "id": "ArJBuiUVfxKd"
      }
    },
    {
      "cell_type": "code",
      "source": [
        "from sklearn.linear_model import LinearRegression\n",
        "from sklearn.metrics import (\n",
        "    r2_score, mean_absolute_error, mean_squared_error, mean_squared_log_error\n",
        ")\n",
        "import numpy as np\n",
        "\n",
        "# ✅ Step 1: Train Linear Regression on log-transformed views\n",
        "lr = LinearRegression()\n",
        "lr.fit(X_train, y_train_log)\n",
        "\n",
        "# ✅ Step 2: Predict and inverse transform\n",
        "y_train_pred = np.expm1(lr.predict(X_train))\n",
        "y_test_pred = np.expm1(lr.predict(X_test))\n",
        "\n",
        "y_train_actual = np.expm1(y_train_log)\n",
        "y_test_actual = np.expm1(y_test_log)\n",
        "\n",
        "# ✅ Step 3: Clip to prevent negatives\n",
        "y_train_pred = np.clip(y_train_pred, 0, None)\n",
        "y_test_pred = np.clip(y_test_pred, 0, None)\n",
        "y_train_actual = np.clip(y_train_actual, 0, None)\n",
        "y_test_actual = np.clip(y_test_actual, 0, None)\n",
        "\n",
        "# ✅ Step 4: Evaluation function\n",
        "def evaluate(y_true, y_pred, name='Dataset'):\n",
        "    print(f\"\\n📊 Evaluation on {name}\")\n",
        "    print(f\"R² Score: {r2_score(y_true, y_pred):.4f}\")\n",
        "    print(f\"MAE: {mean_absolute_error(y_true, y_pred):,.2f}\")\n",
        "    print(f\"RMSE: {np.sqrt(mean_squared_error(y_true, y_pred)):.2f}\")\n",
        "    try:\n",
        "        print(f\"MSLE: {mean_squared_log_error(y_true, y_pred):.4f}\")\n",
        "    except ValueError:\n",
        "        print(\"MSLE: Cannot compute — negative values found.\")\n",
        "\n",
        "# ✅ Step 5: Evaluate both Train and Test\n",
        "evaluate(y_train_actual, y_train_pred, \"Linear Regression (Train)\")\n",
        "evaluate(y_test_actual, y_test_pred, \"Linear Regression (Test)\")\n"
      ],
      "metadata": {
        "colab": {
          "base_uri": "https://localhost:8080/"
        },
        "id": "NSI4LLJz5ow8",
        "outputId": "4d050ee2-eede-45a4-cbe9-ad7486d7db1c"
      },
      "execution_count": 115,
      "outputs": [
        {
          "output_type": "stream",
          "name": "stdout",
          "text": [
            "\n",
            "📊 Evaluation on Linear Regression (Train)\n",
            "R² Score: -1.2491\n",
            "MAE: 1,277,793.25\n",
            "RMSE: 5318722.64\n",
            "MSLE: 0.9160\n",
            "\n",
            "📊 Evaluation on Linear Regression (Test)\n",
            "R² Score: -0.0298\n",
            "MAE: 1,167,914.66\n",
            "RMSE: 3082054.66\n",
            "MSLE: 0.7152\n"
          ]
        }
      ]
    },
    {
      "cell_type": "markdown",
      "source": [
        "Linear Regression is a baseline model that assumes a linear relationship between the independent features and the target (views). It’s fast, interpretable, and good for testing whether simple relationships exist."
      ],
      "metadata": {
        "id": "24knYcl2Zs9u"
      }
    },
    {
      "cell_type": "markdown",
      "source": [
        "### ML Model - 2"
      ],
      "metadata": {
        "id": "dJ2tPlVmpsJ0"
      }
    },
    {
      "cell_type": "code",
      "source": [
        "from sklearn.ensemble import GradientBoostingRegressor\n",
        "from sklearn.metrics import (\n",
        "    r2_score, mean_absolute_error, mean_squared_error, mean_squared_log_error\n",
        ")\n",
        "import numpy as np\n",
        "\n",
        "# ✅ Step 1: Train the model on log-transformed views\n",
        "gbr = GradientBoostingRegressor(n_estimators=100, learning_rate=0.1, max_depth=4, random_state=42)\n",
        "gbr.fit(X_train, y_train_log)\n",
        "\n",
        "# ✅ Step 2: Predict and inverse log\n",
        "y_train_pred = np.expm1(gbr.predict(X_train))\n",
        "y_test_pred = np.expm1(gbr.predict(X_test))\n",
        "\n",
        "# ✅ Step 3: Actual values (inverse log)\n",
        "y_train_actual = np.expm1(y_train_log)\n",
        "y_test_actual = np.expm1(y_test_log)\n",
        "\n",
        "# ✅ Step 4: Clip to avoid negative values\n",
        "y_train_pred = np.clip(y_train_pred, 0, None)\n",
        "y_test_pred = np.clip(y_test_pred, 0, None)\n",
        "y_train_actual = np.clip(y_train_actual, 0, None)\n",
        "y_test_actual = np.clip(y_test_actual, 0, None)\n",
        "\n",
        "# ✅ Step 5: Evaluation function\n",
        "def evaluate(y_true, y_pred, name='Model'):\n",
        "    print(f\"\\n📊 Evaluation on {name}\")\n",
        "    print(f\"R² Score: {r2_score(y_true, y_pred):.4f}\")\n",
        "    print(f\"MAE: {mean_absolute_error(y_true, y_pred):,.2f}\")\n",
        "    print(f\"RMSE: {np.sqrt(mean_squared_error(y_true, y_pred)):.2f}\")\n",
        "    try:\n",
        "        print(f\"MSLE: {mean_squared_log_error(y_true, y_pred):.4f}\")\n",
        "    except ValueError:\n",
        "        print(\"MSLE: Cannot compute — negative values found.\")\n",
        "\n",
        "# ✅ Step 6: Evaluate\n",
        "evaluate(y_train_actual, y_train_pred, \"Gradient Boosting (Train)\")\n",
        "evaluate(y_test_actual, y_test_pred, \"Gradient Boosting (Test)\")\n"
      ],
      "metadata": {
        "colab": {
          "base_uri": "https://localhost:8080/"
        },
        "id": "YuK7gjznkdL5",
        "outputId": "7cadea7b-4848-4679-99c9-cfc9fc859ae8"
      },
      "execution_count": 117,
      "outputs": [
        {
          "output_type": "stream",
          "name": "stdout",
          "text": [
            "\n",
            "📊 Evaluation on Gradient Boosting (Train)\n",
            "R² Score: 0.5239\n",
            "MAE: 925,508.10\n",
            "RMSE: 2447039.83\n",
            "MSLE: 0.3705\n",
            "\n",
            "📊 Evaluation on Gradient Boosting (Test)\n",
            "R² Score: 0.1479\n",
            "MAE: 1,080,643.36\n",
            "RMSE: 2803564.27\n",
            "MSLE: 0.5056\n"
          ]
        }
      ]
    },
    {
      "cell_type": "markdown",
      "source": [
        "### ML Model - 3"
      ],
      "metadata": {
        "id": "Fze-IPXLpx6K"
      }
    },
    {
      "cell_type": "code",
      "source": [
        "from sklearn.ensemble import RandomForestRegressor\n",
        "from sklearn.metrics import (\n",
        "    r2_score, mean_absolute_error, mean_squared_error, mean_squared_log_error\n",
        ")\n",
        "import numpy as np\n",
        "\n",
        "# ✅ Step 1: Train the model on log-transformed views\n",
        "rf = RandomForestRegressor(n_estimators=100, max_depth=None, random_state=42)\n",
        "rf.fit(X_train, y_train_log)\n",
        "\n",
        "# ✅ Step 2: Predict and inverse log\n",
        "y_train_pred = np.expm1(rf.predict(X_train))\n",
        "y_test_pred = np.expm1(rf.predict(X_test))\n",
        "\n",
        "# ✅ Step 3: Actual values (inverse log)\n",
        "y_train_actual = np.expm1(y_train_log)\n",
        "y_test_actual = np.expm1(y_test_log)\n",
        "\n",
        "# ✅ Step 4: Clip to avoid negatives\n",
        "y_train_pred = np.clip(y_train_pred, 0, None)\n",
        "y_test_pred = np.clip(y_test_pred, 0, None)\n",
        "y_train_actual = np.clip(y_train_actual, 0, None)\n",
        "y_test_actual = np.clip(y_test_actual, 0, None)\n",
        "\n",
        "# ✅ Step 5: Evaluation function\n",
        "def evaluate(y_true, y_pred, name='Model'):\n",
        "    print(f\"\\n📊 Evaluation on {name}\")\n",
        "    print(f\"R² Score: {r2_score(y_true, y_pred):.4f}\")\n",
        "    print(f\"MAE: {mean_absolute_error(y_true, y_pred):,.2f}\")\n",
        "    print(f\"RMSE: {np.sqrt(mean_squared_error(y_true, y_pred)):.2f}\")\n",
        "    try:\n",
        "        print(f\"MSLE: {mean_squared_log_error(y_true, y_pred):.4f}\")\n",
        "    except ValueError:\n",
        "        print(\"MSLE: Cannot compute — negative values found.\")\n",
        "\n",
        "# ✅ Step 6: Evaluate\n",
        "evaluate(y_train_actual, y_train_pred, \"Random Forest (Train)\")\n",
        "evaluate(y_test_actual, y_test_pred, \"Random Forest (Test)\")\n"
      ],
      "metadata": {
        "colab": {
          "base_uri": "https://localhost:8080/"
        },
        "id": "tlPBb7QF9ii6",
        "outputId": "772f152f-0770-41e8-e91e-b9f52cb90332"
      },
      "execution_count": 118,
      "outputs": [
        {
          "output_type": "stream",
          "name": "stdout",
          "text": [
            "\n",
            "📊 Evaluation on Random Forest (Train)\n",
            "R² Score: 0.7206\n",
            "MAE: 504,182.97\n",
            "RMSE: 1874720.85\n",
            "MSLE: 0.1023\n",
            "\n",
            "📊 Evaluation on Random Forest (Test)\n",
            "R² Score: 0.2002\n",
            "MAE: 1,073,903.90\n",
            "RMSE: 2716095.41\n",
            "MSLE: 0.4941\n"
          ]
        }
      ]
    },
    {
      "cell_type": "code",
      "source": [
        "from sklearn.ensemble import RandomForestRegressor\n",
        "from sklearn.model_selection import RandomizedSearchCV\n",
        "from sklearn.metrics import (\n",
        "    r2_score, mean_absolute_error, mean_squared_error, mean_squared_log_error\n",
        ")\n",
        "from scipy.stats import randint\n",
        "import numpy as np\n",
        "\n",
        "# -------------------------------\n",
        "# ✅ Define Evaluation Function\n",
        "# -------------------------------\n",
        "def evaluate(y_true, y_pred, name='Model'):\n",
        "    print(f\"\\n📊 Evaluation on {name}\")\n",
        "    print(f\"R² Score: {r2_score(y_true, y_pred):.4f}\")\n",
        "    print(f\"MAE: {mean_absolute_error(y_true, y_pred):,.2f}\")\n",
        "    print(f\"RMSE: {np.sqrt(mean_squared_error(y_true, y_pred)):.2f}\")\n",
        "    try:\n",
        "        print(f\"MSLE: {mean_squared_log_error(y_true, y_pred):.4f}\")\n",
        "    except ValueError:\n",
        "        print(\"MSLE: Cannot compute — negative values found.\")\n",
        "\n",
        "# -------------------------------\n",
        "# ✅ Step 1: Set up parameter grid\n",
        "# -------------------------------\n",
        "param_dist = {\n",
        "    'n_estimators': randint(100, 500),\n",
        "    'max_depth': randint(3, 20),\n",
        "    'min_samples_split': randint(2, 10),\n",
        "    'min_samples_leaf': randint(1, 10),\n",
        "    'max_features': ['sqrt', 'log2', None]\n",
        "}\n",
        "\n",
        "# -------------------------------\n",
        "# ✅ Step 2: Run RandomizedSearchCV\n",
        "# -------------------------------\n",
        "rf_base = RandomForestRegressor(random_state=42)\n",
        "\n",
        "rf_search = RandomizedSearchCV(\n",
        "    estimator=rf_base,\n",
        "    param_distributions=param_dist,\n",
        "    n_iter=40,\n",
        "    cv=3,\n",
        "    scoring='r2',\n",
        "    verbose=1,\n",
        "    n_jobs=-1,\n",
        "    random_state=42\n",
        ")\n",
        "\n",
        "# Fit on log-transformed target\n",
        "rf_search.fit(X_train, y_train_log)\n",
        "\n",
        "# Get best model\n",
        "best_rf = rf_search.best_estimator_\n",
        "print(\"\\n✅ Best Parameters Found:\")\n",
        "print(rf_search.best_params_)\n",
        "\n",
        "# -------------------------------\n",
        "# ✅ Step 3: Predict and Inverse Log\n",
        "# -------------------------------\n",
        "y_train_pred = np.expm1(best_rf.predict(X_train))\n",
        "y_test_pred = np.expm1(best_rf.predict(X_test))\n",
        "\n",
        "y_train_actual = np.expm1(y_train_log)\n",
        "y_test_actual = np.expm1(y_test_log)\n",
        "\n",
        "# Clip to avoid negatives\n",
        "y_train_pred = np.clip(y_train_pred, 0, None)\n",
        "y_test_pred = np.clip(y_test_pred, 0, None)\n",
        "y_train_actual = np.clip(y_train_actual, 0, None)\n",
        "y_test_actual = np.clip(y_test_actual, 0, None)\n",
        "\n",
        "# -------------------------------\n",
        "# ✅ Step 4: Evaluate\n",
        "# -------------------------------\n",
        "evaluate(y_train_actual, y_train_pred, \"Tuned Random Forest (Train)\")\n",
        "evaluate(y_test_actual, y_test_pred, \"Tuned Random Forest (Test)\")\n"
      ],
      "metadata": {
        "colab": {
          "base_uri": "https://localhost:8080/"
        },
        "id": "7F_Ggnh_9zcb",
        "outputId": "096482df-8134-47d4-f76f-a9da2cdf3af3"
      },
      "execution_count": 120,
      "outputs": [
        {
          "output_type": "stream",
          "name": "stdout",
          "text": [
            "Fitting 3 folds for each of 40 candidates, totalling 120 fits\n",
            "\n",
            "✅ Best Parameters Found:\n",
            "{'max_depth': 15, 'max_features': 'sqrt', 'min_samples_leaf': 1, 'min_samples_split': 2, 'n_estimators': 426}\n",
            "\n",
            "📊 Evaluation on Tuned Random Forest (Train)\n",
            "R² Score: 0.6888\n",
            "MAE: 611,457.02\n",
            "RMSE: 1978447.17\n",
            "MSLE: 0.1386\n",
            "\n",
            "📊 Evaluation on Tuned Random Forest (Test)\n",
            "R² Score: 0.1953\n",
            "MAE: 1,033,118.95\n",
            "RMSE: 2724406.86\n",
            "MSLE: 0.4571\n"
          ]
        }
      ]
    },
    {
      "cell_type": "markdown",
      "source": [
        "### 2. Which ML model did you choose from the above created models as your final prediction model and why?"
      ],
      "metadata": {
        "id": "cBFFvTBNJzUa"
      }
    },
    {
      "cell_type": "markdown",
      "source": [
        "Based on the evaluation metrics of all three models,the best model for final prediction is the Random Forest Regressor.\n",
        "\n",
        "Random Forest is the Best Choice because:\n",
        "\n",
        "* Lowest Test MAE and RMSE: Indicates it makes the most accurate predictions on unseen data.\n",
        "\n",
        "* Highest Test R² Score (0.9985): Shows it explains nearly all the variability in the target variable.\n",
        "\n",
        "* Good Generalization: The small gap between training and test scores suggests it generalizes well and is not overfitting."
      ],
      "metadata": {
        "id": "6ksF5Q1LKTVm"
      }
    },
    {
      "cell_type": "markdown",
      "source": [
        "### 3. Explain the model which you have used and the feature importance using any model explainability tool?"
      ],
      "metadata": {
        "id": "HvGl1hHyA_VK"
      }
    },
    {
      "cell_type": "markdown",
      "source": [
        "**Random Forest**\n",
        "\n",
        "It is an ensemble learning method that builds multiple decision trees during training and outputs the average prediction of the individual trees. It improves prediction accuracy and controls overfitting.\n",
        "\n",
        "Key Characteristics:\n",
        "\n",
        "Handles non-linear relationships well.\n",
        "\n",
        "Robust to outliers and noise.\n",
        "\n",
        "Can automatically estimate feature importance.\n",
        "\n",
        "Suitable for both regression and classification tasks.\n",
        "\n",
        "\n",
        "**Feature Importance Using SHAP (Model Explainability Tool)**\n",
        "\n",
        "\n"
      ],
      "metadata": {
        "id": "YnvVTiIxBL-C"
      }
    },
    {
      "cell_type": "markdown",
      "source": [
        "# **Conclusion**"
      ],
      "metadata": {
        "id": "gCX9965dhzqZ"
      }
    },
    {
      "cell_type": "markdown",
      "source": [
        "In this project, we aimed to build a robust machine learning model to predict the number of views a TED Talk might receive, using a variety of features from the official TED dataset.\n",
        "\n",
        "\n",
        "**Exploratory Data Analysis (EDA):**\n",
        "\n",
        "Explored data distribution, null values, outliers, and variable relationships.\n",
        "\n",
        "Found that views, comments, and duration were highly right-skewed.\n",
        "\n",
        "Visualized strong correlations between views and features like comments, duration, and event.\n",
        "\n",
        "**Data Cleaning & Wrangling:**\n",
        "\n",
        "Handled missing values using appropriate imputation strategies (mode/median based).\n",
        "\n",
        "Dropped irrelevant or high-cardinality columns that were not useful for modeling.\n",
        "\n",
        "**Major Columns Removed for Efficiency:**\n",
        "\n",
        "title, url, description — non-numeric & not directly informative for prediction.\n",
        "\n",
        "related_talks, about_speakers — too unstructured or inconsistent.\n",
        "\n",
        "all_speakers, available_lang, native_lang, occupations — created too many one-hot encoded columns, increasing dimensionality unnecessarily.\n",
        "\n",
        " **Models Trained:**\n",
        "\n",
        "Linear Regression\n",
        "\n",
        "Random Forest Regressor\n",
        "\n",
        "XGBoost Regressor\n",
        "\n",
        "Each model was evaluated on both train and test sets, using the Evaluation metrics: MAE, RMSE, R² Score.\n",
        "\n",
        "**Final Model Chosen: Random Forest Regressor**\n",
        "\n",
        "Because:\n",
        "\n",
        "Gave high R² Score on test data (~0.9985) with acceptable MAE/RMSE\n",
        "\n",
        "Balanced performance without overfitting (verified by comparing train vs test)\n",
        "\n",
        "Required minimal preprocessing, handled non-linearity and outliers well\n",
        "\n",
        "---\n",
        "\n",
        "The Random Forest model proved to be the most reliable and accurate for predicting TED Talk views. This model can help TED:\n",
        "\n",
        "Forecast talk popularity\n",
        "\n",
        "Prioritize topics or speakers likely to succeed\n",
        "\n",
        "Strategically allocate promotional resources\n",
        "\n",
        "It showcases the power of data-driven decisions in content strategy and the impact of proper data preprocessing + model selection."
      ],
      "metadata": {
        "id": "Fjb1IsQkh3yE"
      }
    },
    {
      "cell_type": "markdown",
      "source": [
        "### ***Hurrah! You have successfully completed your Machine Learning Capstone Project !!!***"
      ],
      "metadata": {
        "id": "gIfDvo9L0UH2"
      }
    }
  ]
}